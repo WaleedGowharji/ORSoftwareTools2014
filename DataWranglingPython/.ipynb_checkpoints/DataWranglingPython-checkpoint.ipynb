{
 "metadata": {
  "name": "",
  "signature": "sha256:ef2bb6991aa8a87c80213825f08cfd30215101aa67b303a32d092fff53cd3cd0"
 },
 "nbformat": 3,
 "nbformat_minor": 0,
 "worksheets": [
  {
   "cells": [
    {
     "cell_type": "markdown",
     "metadata": {},
     "source": [
      "For more, see: [Data Wrangling with Pandas](http://nbviewer.ipython.org/urls/gist.github.com/fonnesbeck/5850413/raw/3a9406c73365480bc58d5e75bc80f7962243ba17/2.+Data+Wrangling+with+Pandas.ipynb)"
     ]
    },
    {
     "cell_type": "markdown",
     "metadata": {},
     "source": [
      "#Introduction\n",
      " In this module, we\u2019ll discuss a several common sources of frustration in data analysis. The agenda:\n",
      "- data loading and cleaning\n",
      "- summarizing information (about different groups in your dataset)\n",
      "- reshaping your data (using the split-apply-combine paradigm)\n",
      "- merging datasets\n",
      "- computing a value for each observation or variable in a dataset."
     ]
    },
    {
     "cell_type": "markdown",
     "metadata": {},
     "source": [
      "#The Hubway Dataset\n",
      "Throughout this module we\u2019ll be using the [Hubway dataset](http://hubwaydatachallenge.org/). Hubway is a Boston-area bike share company that released a large dataset as part of a visualization challenge. We\u2019ll be using two files from the released dataset.\n",
      "\n",
      "- `stations.csv` contains the id, name and location of each Hubway station (95 in total)\n",
      "- `trips.csv` contains more than 550,000 observations, which represent trips taken on a bike in the dataset between 2011 and 2012"
     ]
    },
    {
     "cell_type": "markdown",
     "metadata": {},
     "source": [
      "For each trip, we are provided:\n",
      "- the time and date of the start and end of the trip\n",
      "- the duration of the trip (in seconds). \n",
      "- the start and end ids of the stations used for the trip,\n",
      "- the id of the bicycle used\n",
      "- the type of user (registered, versus casual)\n",
      "    - for registered users: (additional info) zip code, age, gender"
     ]
    },
    {
     "cell_type": "markdown",
     "metadata": {},
     "source": [
      "# Loading and Cleaning the Data\n",
      "In this first part of the lesson, we\u2019re going to load our data and perform some basic data cleaning. This is typically the way you\u2019ll start when you\u2019re handed a dataset."
     ]
    },
    {
     "cell_type": "code",
     "collapsed": false,
     "input": [
      "import pandas as pd\n",
      "import matplotlib.pyplot as plt\n",
      "import numpy as np\n",
      "\n",
      "%matplotlib inline"
     ],
     "language": "python",
     "metadata": {},
     "outputs": [],
     "prompt_number": 10
    },
    {
     "cell_type": "code",
     "collapsed": false,
     "input": [
      "stations = pd.read_csv(\"../Hubway/stations.csv\")\n",
      "stations.head()"
     ],
     "language": "python",
     "metadata": {},
     "outputs": [
      {
       "html": [
        "<div style=\"max-height:1000px;max-width:1500px;overflow:auto;\">\n",
        "<table border=\"1\" class=\"dataframe\">\n",
        "  <thead>\n",
        "    <tr style=\"text-align: right;\">\n",
        "      <th></th>\n",
        "      <th>id</th>\n",
        "      <th>name</th>\n",
        "      <th>lat</th>\n",
        "      <th>lng</th>\n",
        "    </tr>\n",
        "  </thead>\n",
        "  <tbody>\n",
        "    <tr>\n",
        "      <th>0</th>\n",
        "      <td> 3</td>\n",
        "      <td>             Colleges of the Fenway</td>\n",
        "      <td> 42.340021</td>\n",
        "      <td>-71.100812</td>\n",
        "    </tr>\n",
        "    <tr>\n",
        "      <th>1</th>\n",
        "      <td> 4</td>\n",
        "      <td>        Tremont St. at Berkeley St.</td>\n",
        "      <td> 42.345392</td>\n",
        "      <td>-71.069616</td>\n",
        "    </tr>\n",
        "    <tr>\n",
        "      <th>2</th>\n",
        "      <td> 5</td>\n",
        "      <td> Northeastern U / North Parking Lot</td>\n",
        "      <td> 42.341814</td>\n",
        "      <td>-71.090179</td>\n",
        "    </tr>\n",
        "    <tr>\n",
        "      <th>3</th>\n",
        "      <td> 6</td>\n",
        "      <td>           Cambridge St. at Joy St.</td>\n",
        "      <td> 42.361285</td>\n",
        "      <td>-71.065140</td>\n",
        "    </tr>\n",
        "    <tr>\n",
        "      <th>4</th>\n",
        "      <td> 7</td>\n",
        "      <td>                           Fan Pier</td>\n",
        "      <td> 42.353412</td>\n",
        "      <td>-71.044624</td>\n",
        "    </tr>\n",
        "  </tbody>\n",
        "</table>\n",
        "</div>"
       ],
       "metadata": {},
       "output_type": "pyout",
       "prompt_number": 11,
       "text": [
        "   id                                name        lat        lng\n",
        "0   3              Colleges of the Fenway  42.340021 -71.100812\n",
        "1   4         Tremont St. at Berkeley St.  42.345392 -71.069616\n",
        "2   5  Northeastern U / North Parking Lot  42.341814 -71.090179\n",
        "3   6            Cambridge St. at Joy St.  42.361285 -71.065140\n",
        "4   7                            Fan Pier  42.353412 -71.044624"
       ]
      }
     ],
     "prompt_number": 11
    },
    {
     "cell_type": "markdown",
     "metadata": {},
     "source": [
      "The `id` variable holds the station identified, `name` holds the pretty names of each station, and `lat` and `lng` hold, respectively, the latitude and longitude of the stations.\n",
      "\n",
      "We can check that there are no missing values for any of the variables."
     ]
    },
    {
     "cell_type": "code",
     "collapsed": false,
     "input": [
      "stations.info()"
     ],
     "language": "python",
     "metadata": {},
     "outputs": [
      {
       "output_type": "stream",
       "stream": "stdout",
       "text": [
        "<class 'pandas.core.frame.DataFrame'>\n",
        "Int64Index: 95 entries, 0 to 94\n",
        "Data columns (total 4 columns):\n",
        "id      95 non-null int64\n",
        "name    95 non-null object\n",
        "lat     95 non-null float64\n",
        "lng     95 non-null float64\n",
        "dtypes: float64(2), int64(1), object(1)"
       ]
      }
     ],
     "prompt_number": 13
    },
    {
     "cell_type": "markdown",
     "metadata": {},
     "source": [
      "We can also have summary statistics for those columns with numerical values."
     ]
    },
    {
     "cell_type": "code",
     "collapsed": false,
     "input": [
      "stations.describe()"
     ],
     "language": "python",
     "metadata": {},
     "outputs": [
      {
       "html": [
        "<div style=\"max-height:1000px;max-width:1500px;overflow:auto;\">\n",
        "<table border=\"1\" class=\"dataframe\">\n",
        "  <thead>\n",
        "    <tr style=\"text-align: right;\">\n",
        "      <th></th>\n",
        "      <th>id</th>\n",
        "      <th>lat</th>\n",
        "      <th>lng</th>\n",
        "    </tr>\n",
        "  </thead>\n",
        "  <tbody>\n",
        "    <tr>\n",
        "      <th>count</th>\n",
        "      <td> 95.000000</td>\n",
        "      <td> 95.000000</td>\n",
        "      <td> 95.000000</td>\n",
        "    </tr>\n",
        "    <tr>\n",
        "      <th>mean</th>\n",
        "      <td> 50.736842</td>\n",
        "      <td> 42.353413</td>\n",
        "      <td>-71.086724</td>\n",
        "    </tr>\n",
        "    <tr>\n",
        "      <th>std</th>\n",
        "      <td> 27.907221</td>\n",
        "      <td>  0.014548</td>\n",
        "      <td>  0.026098</td>\n",
        "    </tr>\n",
        "    <tr>\n",
        "      <th>min</th>\n",
        "      <td>  3.000000</td>\n",
        "      <td> 42.311819</td>\n",
        "      <td>-71.146452</td>\n",
        "    </tr>\n",
        "    <tr>\n",
        "      <th>25%</th>\n",
        "      <td> 26.500000</td>\n",
        "      <td> 42.343968</td>\n",
        "      <td>-71.105856</td>\n",
        "    </tr>\n",
        "    <tr>\n",
        "      <th>50%</th>\n",
        "      <td> 51.000000</td>\n",
        "      <td> 42.352096</td>\n",
        "      <td>-71.085954</td>\n",
        "    </tr>\n",
        "    <tr>\n",
        "      <th>75%</th>\n",
        "      <td> 74.500000</td>\n",
        "      <td> 42.363647</td>\n",
        "      <td>-71.064874</td>\n",
        "    </tr>\n",
        "    <tr>\n",
        "      <th>max</th>\n",
        "      <td> 98.000000</td>\n",
        "      <td> 42.386428</td>\n",
        "      <td>-71.035705</td>\n",
        "    </tr>\n",
        "  </tbody>\n",
        "</table>\n",
        "</div>"
       ],
       "metadata": {},
       "output_type": "pyout",
       "prompt_number": 6,
       "text": [
        "              id        lat        lng\n",
        "count  95.000000  95.000000  95.000000\n",
        "mean   50.736842  42.353413 -71.086724\n",
        "std    27.907221   0.014548   0.026098\n",
        "min     3.000000  42.311819 -71.146452\n",
        "25%    26.500000  42.343968 -71.105856\n",
        "50%    51.000000  42.352096 -71.085954\n",
        "75%    74.500000  42.363647 -71.064874\n",
        "max    98.000000  42.386428 -71.035705"
       ]
      }
     ],
     "prompt_number": 6
    },
    {
     "cell_type": "markdown",
     "metadata": {},
     "source": [
      "Now, let\u2019s summarize the trips data frame using the same commands:"
     ]
    },
    {
     "cell_type": "code",
     "collapsed": false,
     "input": [
      "trips = pd.read_csv(\"../Hubway/trips.csv\")\n",
      "trips.head()"
     ],
     "language": "python",
     "metadata": {},
     "outputs": [
      {
       "html": [
        "<div style=\"max-height:1000px;max-width:1500px;overflow:auto;\">\n",
        "<table border=\"1\" class=\"dataframe\">\n",
        "  <thead>\n",
        "    <tr style=\"text-align: right;\">\n",
        "      <th></th>\n",
        "      <th>id</th>\n",
        "      <th>duration</th>\n",
        "      <th>start_date</th>\n",
        "      <th>start_station</th>\n",
        "      <th>end_date</th>\n",
        "      <th>end_station</th>\n",
        "      <th>bike_nr</th>\n",
        "      <th>subscription_type</th>\n",
        "      <th>zip_code</th>\n",
        "      <th>birth_date</th>\n",
        "      <th>gender</th>\n",
        "    </tr>\n",
        "  </thead>\n",
        "  <tbody>\n",
        "    <tr>\n",
        "      <th>0</th>\n",
        "      <td>  8</td>\n",
        "      <td>   9</td>\n",
        "      <td> 2011-07-28 10:12:00-04</td>\n",
        "      <td> 23</td>\n",
        "      <td> 2011-07-28 10:12:00-04</td>\n",
        "      <td> 23</td>\n",
        "      <td> B00468</td>\n",
        "      <td> Registered</td>\n",
        "      <td> 97217</td>\n",
        "      <td> 1976</td>\n",
        "      <td>   Male</td>\n",
        "    </tr>\n",
        "    <tr>\n",
        "      <th>1</th>\n",
        "      <td>  9</td>\n",
        "      <td> 220</td>\n",
        "      <td> 2011-07-28 10:21:00-04</td>\n",
        "      <td> 23</td>\n",
        "      <td> 2011-07-28 10:25:00-04</td>\n",
        "      <td> 23</td>\n",
        "      <td> B00554</td>\n",
        "      <td> Registered</td>\n",
        "      <td>  2215</td>\n",
        "      <td> 1966</td>\n",
        "      <td>   Male</td>\n",
        "    </tr>\n",
        "    <tr>\n",
        "      <th>2</th>\n",
        "      <td> 10</td>\n",
        "      <td>  56</td>\n",
        "      <td> 2011-07-28 10:33:00-04</td>\n",
        "      <td> 23</td>\n",
        "      <td> 2011-07-28 10:34:00-04</td>\n",
        "      <td> 23</td>\n",
        "      <td> B00456</td>\n",
        "      <td> Registered</td>\n",
        "      <td>  2108</td>\n",
        "      <td> 1943</td>\n",
        "      <td>   Male</td>\n",
        "    </tr>\n",
        "    <tr>\n",
        "      <th>3</th>\n",
        "      <td> 11</td>\n",
        "      <td>  64</td>\n",
        "      <td> 2011-07-28 10:35:00-04</td>\n",
        "      <td> 23</td>\n",
        "      <td> 2011-07-28 10:36:00-04</td>\n",
        "      <td> 23</td>\n",
        "      <td> B00554</td>\n",
        "      <td> Registered</td>\n",
        "      <td>  2116</td>\n",
        "      <td> 1981</td>\n",
        "      <td> Female</td>\n",
        "    </tr>\n",
        "    <tr>\n",
        "      <th>4</th>\n",
        "      <td> 12</td>\n",
        "      <td>  12</td>\n",
        "      <td> 2011-07-28 10:37:00-04</td>\n",
        "      <td> 23</td>\n",
        "      <td> 2011-07-28 10:37:00-04</td>\n",
        "      <td> 23</td>\n",
        "      <td> B00554</td>\n",
        "      <td> Registered</td>\n",
        "      <td> 97214</td>\n",
        "      <td> 1983</td>\n",
        "      <td> Female</td>\n",
        "    </tr>\n",
        "  </tbody>\n",
        "</table>\n",
        "</div>"
       ],
       "metadata": {},
       "output_type": "pyout",
       "prompt_number": 30,
       "text": [
        "   id  duration              start_date  start_station  \\\n",
        "0   8         9  2011-07-28 10:12:00-04             23   \n",
        "1   9       220  2011-07-28 10:21:00-04             23   \n",
        "2  10        56  2011-07-28 10:33:00-04             23   \n",
        "3  11        64  2011-07-28 10:35:00-04             23   \n",
        "4  12        12  2011-07-28 10:37:00-04             23   \n",
        "\n",
        "                 end_date  end_station bike_nr subscription_type zip_code  \\\n",
        "0  2011-07-28 10:12:00-04           23  B00468        Registered    97217   \n",
        "1  2011-07-28 10:25:00-04           23  B00554        Registered     2215   \n",
        "2  2011-07-28 10:34:00-04           23  B00456        Registered     2108   \n",
        "3  2011-07-28 10:36:00-04           23  B00554        Registered     2116   \n",
        "4  2011-07-28 10:37:00-04           23  B00554        Registered    97214   \n",
        "\n",
        "   birth_date  gender  \n",
        "0        1976    Male  \n",
        "1        1966    Male  \n",
        "2        1943    Male  \n",
        "3        1981  Female  \n",
        "4        1983  Female  "
       ]
      }
     ],
     "prompt_number": 30
    },
    {
     "cell_type": "markdown",
     "metadata": {},
     "source": [
      "In this data frame,\n",
      "\n",
      "- `id` is an identifier for each trip,\n",
      "- `duration` is the duration in of a trip in seconds (we can see that the median trip length is between 11 and 12 minutes),\n",
      "- `start_date` and `end_date` are timestamps of the start and end of the trip,\n",
      "- `start_station` and `end_station` are the identifiers for the stations of the start and end of the trip,\n",
      "- `bike_nr` is an identifier for the physical bicycle used for the trip,\n",
      "- `subscription_type` indicates whether the person who took the trip is a casual or registered user,\n",
      "- `zip_code` is the zip code of registered users,\n",
      "- `birth_date` is the birth year of registered users, and\n",
      "- `gender` is the gender of registered users."
     ]
    },
    {
     "cell_type": "code",
     "collapsed": false,
     "input": [
      "trips.info()"
     ],
     "language": "python",
     "metadata": {},
     "outputs": [
      {
       "output_type": "stream",
       "stream": "stdout",
       "text": [
        "<class 'pandas.core.frame.DataFrame'>\n",
        "Int64Index: 552073 entries, 0 to 552072\n",
        "Data columns (total 11 columns):\n",
        "id                   552073 non-null int64\n",
        "duration             552073 non-null int64\n",
        "start_date           552073 non-null object\n",
        "start_station        552058 non-null float64\n",
        "end_date             552073 non-null object\n",
        "end_station          552028 non-null float64\n",
        "bike_nr              552073 non-null object\n",
        "subscription_type    552073 non-null object\n",
        "zip_code             355684 non-null object\n",
        "birth_date           352960 non-null float64\n",
        "gender               355684 non-null object\n",
        "dtypes: float64(3), int64(2), object(6)"
       ]
      }
     ],
     "prompt_number": 31
    },
    {
     "cell_type": "code",
     "collapsed": false,
     "input": [
      "trips.describe()"
     ],
     "language": "python",
     "metadata": {},
     "outputs": [
      {
       "html": [
        "<div style=\"max-height:1000px;max-width:1500px;overflow:auto;\">\n",
        "<table border=\"1\" class=\"dataframe\">\n",
        "  <thead>\n",
        "    <tr style=\"text-align: right;\">\n",
        "      <th></th>\n",
        "      <th>id</th>\n",
        "      <th>duration</th>\n",
        "      <th>start_station</th>\n",
        "      <th>end_station</th>\n",
        "      <th>birth_date</th>\n",
        "    </tr>\n",
        "  </thead>\n",
        "  <tbody>\n",
        "    <tr>\n",
        "      <th>count</th>\n",
        "      <td> 552073.000000</td>\n",
        "      <td>   552073.000000</td>\n",
        "      <td> 552058.000000</td>\n",
        "      <td> 552028.000000</td>\n",
        "      <td> 352960.00000</td>\n",
        "    </tr>\n",
        "    <tr>\n",
        "      <th>mean</th>\n",
        "      <td> 312921.005660</td>\n",
        "      <td>     1694.981924</td>\n",
        "      <td>     37.720008</td>\n",
        "      <td>     37.676455</td>\n",
        "      <td>   1976.29481</td>\n",
        "    </tr>\n",
        "    <tr>\n",
        "      <th>std</th>\n",
        "      <td> 180091.585665</td>\n",
        "      <td>    44365.069161</td>\n",
        "      <td>     18.882456</td>\n",
        "      <td>     18.850362</td>\n",
        "      <td>     11.00360</td>\n",
        "    </tr>\n",
        "    <tr>\n",
        "      <th>min</th>\n",
        "      <td>      8.000000</td>\n",
        "      <td>        0.000000</td>\n",
        "      <td>      3.000000</td>\n",
        "      <td>      3.000000</td>\n",
        "      <td>   1932.00000</td>\n",
        "    </tr>\n",
        "    <tr>\n",
        "      <th>25%</th>\n",
        "      <td> 154977.000000</td>\n",
        "      <td>      411.000000</td>\n",
        "      <td>     22.000000</td>\n",
        "      <td>     22.000000</td>\n",
        "      <td>   1969.00000</td>\n",
        "    </tr>\n",
        "    <tr>\n",
        "      <th>50%</th>\n",
        "      <td> 315388.000000</td>\n",
        "      <td>      687.000000</td>\n",
        "      <td>     38.000000</td>\n",
        "      <td>     38.000000</td>\n",
        "      <td>   1979.00000</td>\n",
        "    </tr>\n",
        "    <tr>\n",
        "      <th>75%</th>\n",
        "      <td> 468523.000000</td>\n",
        "      <td>     1204.000000</td>\n",
        "      <td>     52.000000</td>\n",
        "      <td>     52.000000</td>\n",
        "      <td>   1985.00000</td>\n",
        "    </tr>\n",
        "    <tr>\n",
        "      <th>max</th>\n",
        "      <td> 623517.000000</td>\n",
        "      <td> 11994458.000000</td>\n",
        "      <td>     98.000000</td>\n",
        "      <td>     98.000000</td>\n",
        "      <td>   1995.00000</td>\n",
        "    </tr>\n",
        "  </tbody>\n",
        "</table>\n",
        "</div>"
       ],
       "metadata": {},
       "output_type": "pyout",
       "prompt_number": 32,
       "text": [
        "                  id         duration  start_station    end_station  \\\n",
        "count  552073.000000    552073.000000  552058.000000  552028.000000   \n",
        "mean   312921.005660      1694.981924      37.720008      37.676455   \n",
        "std    180091.585665     44365.069161      18.882456      18.850362   \n",
        "min         8.000000         0.000000       3.000000       3.000000   \n",
        "25%    154977.000000       411.000000      22.000000      22.000000   \n",
        "50%    315388.000000       687.000000      38.000000      38.000000   \n",
        "75%    468523.000000      1204.000000      52.000000      52.000000   \n",
        "max    623517.000000  11994458.000000      98.000000      98.000000   \n",
        "\n",
        "         birth_date  \n",
        "count  352960.00000  \n",
        "mean     1976.29481  \n",
        "std        11.00360  \n",
        "min      1932.00000  \n",
        "25%      1969.00000  \n",
        "50%      1979.00000  \n",
        "75%      1985.00000  \n",
        "max      1995.00000  "
       ]
      }
     ],
     "prompt_number": 32
    },
    {
     "cell_type": "markdown",
     "metadata": {},
     "source": [
      "We can identify a few issues with this data:\n",
      "\n",
      "- There are 15 trips for which `start_station` is missing and 45 trips for which `end_station` is missing.\n",
      "- There is at least one big outlier in the `duration` column, which is many orders of magnitude larger than the mean. Such outliers might throw off various statistical analyses we might perform.\n",
      "- The `start_date` and `end_date` timestamps are currently stored as strings, which will make them hard to manipulate"
     ]
    },
    {
     "cell_type": "markdown",
     "metadata": {},
     "source": [
      "We\u2019ll handle each of these data issues.\n",
      "\n",
      "First, let\u2019s deal with the missing start and end stations. Since this affects a very small number of all the trips (53 of out 552073 entries), it probably just makes sense to remove these observations.\n",
      "\n",
      "We can use the `.isnull()` method to check if a column/variable is missing a value (we can also use `.notnull()` for the reverse):"
     ]
    },
    {
     "cell_type": "code",
     "collapsed": false,
     "input": [
      "trips.start_station.isnull()"
     ],
     "language": "python",
     "metadata": {},
     "outputs": [
      {
       "metadata": {},
       "output_type": "pyout",
       "prompt_number": 33,
       "text": [
        "0    False\n",
        "1    False\n",
        "2    False\n",
        "...\n",
        "552070    False\n",
        "552071    False\n",
        "552072    False\n",
        "Name: start_station, Length: 552073, dtype: bool"
       ]
      }
     ],
     "prompt_number": 33
    },
    {
     "cell_type": "markdown",
     "metadata": {},
     "source": [
      "In the following command, we use\n",
      "\n",
      "- the tilde mark (`~`) to negate values of the expression `trips.start_station.isnull()`,\n",
      "- the ampersand (`&`) to to limit to observations where `start_station` is not missing **and** `end_station` is not missing (If we instead wanted to perform a logical **or** operation, we could have used the pipe symbol (`|`).)\n",
      "- the resulting expression filter the rows of our `trips` dataframe, by overwriting the (old) `trips` variable:"
     ]
    },
    {
     "cell_type": "code",
     "collapsed": false,
     "input": [
      "trips = trips.ix[~trips.start_station.isnull() & trips.end_station.notnull(),:]\n",
      "trips.info()"
     ],
     "language": "python",
     "metadata": {},
     "outputs": [
      {
       "output_type": "stream",
       "stream": "stdout",
       "text": [
        "<class 'pandas.core.frame.DataFrame'>\n",
        "Int64Index: 552020 entries, 0 to 552072\n",
        "Data columns (total 11 columns):\n",
        "id                   552020 non-null int64\n",
        "duration             552020 non-null int64\n",
        "start_date           552020 non-null object\n",
        "start_station        552020 non-null float64\n",
        "end_date             552020 non-null object\n",
        "end_station          552020 non-null float64\n",
        "bike_nr              552020 non-null object\n",
        "subscription_type    552020 non-null object\n",
        "zip_code             355650 non-null object\n",
        "birth_date           352930 non-null float64\n",
        "gender               355650 non-null object\n",
        "dtypes: float64(3), int64(2), object(6)"
       ]
      }
     ],
     "prompt_number": 40
    },
    {
     "cell_type": "markdown",
     "metadata": {},
     "source": [
      "We started with 552,073 observations and now have 552,020, so we dropped 53 observations with that operation.\n",
      "\n",
      "Next, let\u2019s turn our attention to the duration variable. At a glance, it\u2019s tough to decode a variable that\u2019s encoded in seconds, because the numbers are so large. Let\u2019s start by converting this variable into minutes by dividing by 60:"
     ]
    },
    {
     "cell_type": "code",
     "collapsed": false,
     "input": [
      "trips['duration'] = trips.duration / 60 # convert from seconds to minutes\n",
      "trips.head()"
     ],
     "language": "python",
     "metadata": {},
     "outputs": [
      {
       "html": [
        "<div style=\"max-height:1000px;max-width:1500px;overflow:auto;\">\n",
        "<table border=\"1\" class=\"dataframe\">\n",
        "  <thead>\n",
        "    <tr style=\"text-align: right;\">\n",
        "      <th></th>\n",
        "      <th>id</th>\n",
        "      <th>duration</th>\n",
        "      <th>start_date</th>\n",
        "      <th>start_station</th>\n",
        "      <th>end_date</th>\n",
        "      <th>end_station</th>\n",
        "      <th>bike_nr</th>\n",
        "      <th>subscription_type</th>\n",
        "      <th>zip_code</th>\n",
        "      <th>birth_date</th>\n",
        "      <th>gender</th>\n",
        "    </tr>\n",
        "  </thead>\n",
        "  <tbody>\n",
        "    <tr>\n",
        "      <th>0</th>\n",
        "      <td>  8</td>\n",
        "      <td> 0.150000</td>\n",
        "      <td> 2011-07-28 10:12:00-04</td>\n",
        "      <td> 23</td>\n",
        "      <td> 2011-07-28 10:12:00-04</td>\n",
        "      <td> 23</td>\n",
        "      <td> B00468</td>\n",
        "      <td> Registered</td>\n",
        "      <td> 97217</td>\n",
        "      <td> 1976</td>\n",
        "      <td>   Male</td>\n",
        "    </tr>\n",
        "    <tr>\n",
        "      <th>1</th>\n",
        "      <td>  9</td>\n",
        "      <td> 3.666667</td>\n",
        "      <td> 2011-07-28 10:21:00-04</td>\n",
        "      <td> 23</td>\n",
        "      <td> 2011-07-28 10:25:00-04</td>\n",
        "      <td> 23</td>\n",
        "      <td> B00554</td>\n",
        "      <td> Registered</td>\n",
        "      <td>  2215</td>\n",
        "      <td> 1966</td>\n",
        "      <td>   Male</td>\n",
        "    </tr>\n",
        "    <tr>\n",
        "      <th>2</th>\n",
        "      <td> 10</td>\n",
        "      <td> 0.933333</td>\n",
        "      <td> 2011-07-28 10:33:00-04</td>\n",
        "      <td> 23</td>\n",
        "      <td> 2011-07-28 10:34:00-04</td>\n",
        "      <td> 23</td>\n",
        "      <td> B00456</td>\n",
        "      <td> Registered</td>\n",
        "      <td>  2108</td>\n",
        "      <td> 1943</td>\n",
        "      <td>   Male</td>\n",
        "    </tr>\n",
        "    <tr>\n",
        "      <th>3</th>\n",
        "      <td> 11</td>\n",
        "      <td> 1.066667</td>\n",
        "      <td> 2011-07-28 10:35:00-04</td>\n",
        "      <td> 23</td>\n",
        "      <td> 2011-07-28 10:36:00-04</td>\n",
        "      <td> 23</td>\n",
        "      <td> B00554</td>\n",
        "      <td> Registered</td>\n",
        "      <td>  2116</td>\n",
        "      <td> 1981</td>\n",
        "      <td> Female</td>\n",
        "    </tr>\n",
        "    <tr>\n",
        "      <th>4</th>\n",
        "      <td> 12</td>\n",
        "      <td> 0.200000</td>\n",
        "      <td> 2011-07-28 10:37:00-04</td>\n",
        "      <td> 23</td>\n",
        "      <td> 2011-07-28 10:37:00-04</td>\n",
        "      <td> 23</td>\n",
        "      <td> B00554</td>\n",
        "      <td> Registered</td>\n",
        "      <td> 97214</td>\n",
        "      <td> 1983</td>\n",
        "      <td> Female</td>\n",
        "    </tr>\n",
        "  </tbody>\n",
        "</table>\n",
        "</div>"
       ],
       "metadata": {},
       "output_type": "pyout",
       "prompt_number": 41,
       "text": [
        "   id  duration              start_date  start_station  \\\n",
        "0   8  0.150000  2011-07-28 10:12:00-04             23   \n",
        "1   9  3.666667  2011-07-28 10:21:00-04             23   \n",
        "2  10  0.933333  2011-07-28 10:33:00-04             23   \n",
        "3  11  1.066667  2011-07-28 10:35:00-04             23   \n",
        "4  12  0.200000  2011-07-28 10:37:00-04             23   \n",
        "\n",
        "                 end_date  end_station bike_nr subscription_type zip_code  \\\n",
        "0  2011-07-28 10:12:00-04           23  B00468        Registered    97217   \n",
        "1  2011-07-28 10:25:00-04           23  B00554        Registered     2215   \n",
        "2  2011-07-28 10:34:00-04           23  B00456        Registered     2108   \n",
        "3  2011-07-28 10:36:00-04           23  B00554        Registered     2116   \n",
        "4  2011-07-28 10:37:00-04           23  B00554        Registered    97214   \n",
        "\n",
        "   birth_date  gender  \n",
        "0        1976    Male  \n",
        "1        1966    Male  \n",
        "2        1943    Male  \n",
        "3        1981  Female  \n",
        "4        1983  Female  "
       ]
      }
     ],
     "prompt_number": 41
    },
    {
     "cell_type": "markdown",
     "metadata": {},
     "source": [
      "Earlier, we noticed that the duration variable had at least one outlier. Let\u2019s see how this outlier affects a simple visualization of the distribution of trip durations via a histogram. We\u2019ll use 100 `bins` for our histogram to get a finer-granularity breakdown of the durations:"
     ]
    },
    {
     "cell_type": "code",
     "collapsed": false,
     "input": [
      "plt.hist(trips.duration, bins=100);"
     ],
     "language": "python",
     "metadata": {},
     "outputs": [
      {
       "metadata": {},
       "output_type": "display_data",
       "png": "[encoded data removed]",
       "text": [
        "<matplotlib.figure.Figure at 0xa11f08ac>"
       ]
      }
     ],
     "prompt_number": 42
    },
    {
     "cell_type": "markdown",
     "metadata": {},
     "source": [
      "Because of the outliers, we really can\u2019t tell anything from this histogram. We can subset our data frame to remove all the trips with duration exceeding one day. Depending on the type of analysis we\u2019re doing, this might be the wrong decision \u2014 it might be better to cap the trip duration at a maximum of one day, log-transform the durations, or do nothing at all."
     ]
    },
    {
     "cell_type": "code",
     "collapsed": false,
     "input": [
      "trips = trips[trips.duration <= 24*60]\n",
      "trips.info()"
     ],
     "language": "python",
     "metadata": {},
     "outputs": [
      {
       "output_type": "stream",
       "stream": "stdout",
       "text": [
        "<class 'pandas.core.frame.DataFrame'>\n",
        "Int64Index: 551611 entries, 0 to 552072\n",
        "Data columns (total 11 columns):\n",
        "id                   551611 non-null int64\n",
        "duration             551611 non-null float64\n",
        "start_date           551611 non-null object\n",
        "start_station        551611 non-null float64\n",
        "end_date             551611 non-null object\n",
        "end_station          551611 non-null float64\n",
        "bike_nr              551611 non-null object\n",
        "subscription_type    551611 non-null object\n",
        "zip_code             355567 non-null object\n",
        "birth_date           352849 non-null float64\n",
        "gender               355567 non-null object\n",
        "dtypes: float64(4), int64(1), object(6)"
       ]
      }
     ],
     "prompt_number": 43
    },
    {
     "cell_type": "markdown",
     "metadata": {},
     "source": [
      "As we can see, we\u2019ve removed an additional 409 trips that had duration in excess of one day. Let\u2019s check how this affected our simple visualization of the distribution of trip durations:"
     ]
    },
    {
     "cell_type": "code",
     "collapsed": false,
     "input": [
      "plt.hist(trips.duration, bins=100);"
     ],
     "language": "python",
     "metadata": {},
     "outputs": [
      {
       "metadata": {},
       "output_type": "display_data",
       "png": "[encoded data removed]",
       "text": [
        "<matplotlib.figure.Figure at 0xaded0eec>"
       ]
      }
     ],
     "prompt_number": 44
    },
    {
     "cell_type": "markdown",
     "metadata": {},
     "source": [
      "Now, the x-axis is much less compressed, and we can better understand the distribution of trips. As we can see, trips still tend to be quite short.\n",
      "\n",
      "We\u2019re now ready to tackle our last data cleaning problem, which is that our timestamps are stored as strings. We really want to load them into a timestamp data structure so we can access important information like the day of the week, which couldn\u2019t really be extracted with string processing. In Python, we can use the `pd.to_datetime` function to convert text to a timestamp data structure. To learn more about this function, we can run:"
     ]
    },
    {
     "cell_type": "code",
     "collapsed": false,
     "input": [
      "?pd.to_datetime"
     ],
     "language": "python",
     "metadata": {},
     "outputs": [],
     "prompt_number": 45
    },
    {
     "cell_type": "markdown",
     "metadata": {},
     "source": [
      "From the help page, we can see that the first argument is going to be the object to be converted, and the second argument is a format identifier describing how the timestamp is stored in the string.\n",
      "\n",
      "Reading the specification of that identifier and reviewing the sample timestamps earlier, we see that\n",
      "\n",
      "- the four-digit year will be matched by `%Y`,\n",
      "- the numeric month will be matched by `%m`,\n",
      "- the day of the month will be matched by `%d`,\n",
      "- the hour of the day will be matched by `%H`,\n",
      "- the minute of the hour will be matched by `%M`, and\n",
      "- the second of the hour will be matched by `%S`.\n",
      "\n",
      "Though our timestamps also include time zone information, we can ignore this information since they will all be the same. Putting it together, we can run the following command to parse the start date variable with:"
     ]
    },
    {
     "cell_type": "code",
     "collapsed": false,
     "input": [
      "trips['start_date'] = pd.to_datetime(trips.start_date)\n",
      "trips.info()"
     ],
     "language": "python",
     "metadata": {},
     "outputs": [
      {
       "output_type": "stream",
       "stream": "stdout",
       "text": [
        "<class 'pandas.core.frame.DataFrame'>\n",
        "Int64Index: 551611 entries, 0 to 552072\n",
        "Data columns (total 11 columns):\n",
        "id                   551611 non-null int64\n",
        "duration             551611 non-null float64\n",
        "start_date           551611 non-null datetime64[ns]\n",
        "start_station        551611 non-null float64\n",
        "end_date             551611 non-null datetime64[ns]\n",
        "end_station          551611 non-null float64\n",
        "bike_nr              551611 non-null object\n",
        "subscription_type    551611 non-null object\n",
        "zip_code             355567 non-null object\n",
        "birth_date           352849 non-null float64\n",
        "gender               355567 non-null object\n",
        "dtypes: datetime64[ns](2), float64(4), int64(1), object(4)"
       ]
      }
     ],
     "prompt_number": 46
    },
    {
     "cell_type": "markdown",
     "metadata": {},
     "source": [
      "We might be interested in the day of the week for the start of each trip, encoded as the numbers 0\u20136, starting from Sunday.\n",
      "\n",
      "To do so, observe that each datetime object has a `.dayofweek` attribute:"
     ]
    },
    {
     "cell_type": "code",
     "collapsed": false,
     "input": [
      "trips.start_date[0]"
     ],
     "language": "python",
     "metadata": {},
     "outputs": [
      {
       "metadata": {},
       "output_type": "pyout",
       "prompt_number": 47,
       "text": [
        "Timestamp('2011-07-28 14:12:00')"
       ]
      }
     ],
     "prompt_number": 47
    },
    {
     "cell_type": "code",
     "collapsed": false,
     "input": [
      "_.dayofweek"
     ],
     "language": "python",
     "metadata": {},
     "outputs": [
      {
       "metadata": {},
       "output_type": "pyout",
       "prompt_number": 48,
       "text": [
        "3"
       ]
      }
     ],
     "prompt_number": 48
    },
    {
     "cell_type": "markdown",
     "metadata": {},
     "source": [
      "We can `apply` this operation to each value of the `start_date` column as follows:"
     ]
    },
    {
     "cell_type": "code",
     "collapsed": false,
     "input": [
      "trips['dayofweek'] = trips.start_date.apply(lambda x: x.dayofweek)\n",
      "trips.dayofweek"
     ],
     "language": "python",
     "metadata": {},
     "outputs": [
      {
       "metadata": {},
       "output_type": "pyout",
       "prompt_number": 50,
       "text": [
        "0    3\n",
        "1    3\n",
        "2    3\n",
        "...\n",
        "552070    1\n",
        "552071    1\n",
        "552072    1\n",
        "Name: dayofweek, Length: 551611, dtype: int64"
       ]
      }
     ],
     "prompt_number": 50
    },
    {
     "cell_type": "markdown",
     "metadata": {},
     "source": [
      "Finally, we can count (using `.size()`) the number of times each day (Mon = 0, ...,  Sun = 6) appears in the `dayofweek` column, using the `groupby` method:"
     ]
    },
    {
     "cell_type": "code",
     "collapsed": false,
     "input": [
      "trips.groupby('dayofweek').size().plot(kind='bar')"
     ],
     "language": "python",
     "metadata": {},
     "outputs": [
      {
       "metadata": {},
       "output_type": "pyout",
       "prompt_number": 87,
       "text": [
        "<matplotlib.axes.AxesSubplot at 0xab6d650c>"
       ]
      },
      {
       "metadata": {},
       "output_type": "display_data",
       "png": "[encoded data removed]",
       "text": [
        "<matplotlib.figure.Figure at 0xab6bd48c>"
       ]
      }
     ],
     "prompt_number": 87
    },
    {
     "cell_type": "markdown",
     "metadata": {},
     "source": [
      "We can see that Friday (day 4) is the most common for trips and Sunday (day 6) is the least common. However, the frequency of trips by day of the week is quite level.\n",
      "\n",
      "We might also be interested in the distribution of trips by date. To do so, we perform the following steps:\n",
      "\n",
      "1. re-index the `trips` dataframe by time\n",
      "2. count the number of trips in each day\n",
      "3. plot the resampled data"
     ]
    },
    {
     "cell_type": "code",
     "collapsed": false,
     "input": [
      "# Here we reindex the dataset by the \"start_date\" column\n",
      "trips.set_index('start_date',inplace=True)\n",
      "trips.head()"
     ],
     "language": "python",
     "metadata": {},
     "outputs": [
      {
       "html": [
        "<div style=\"max-height:1000px;max-width:1500px;overflow:auto;\">\n",
        "<table border=\"1\" class=\"dataframe\">\n",
        "  <thead>\n",
        "    <tr style=\"text-align: right;\">\n",
        "      <th></th>\n",
        "      <th>id</th>\n",
        "      <th>duration</th>\n",
        "      <th>start_station</th>\n",
        "      <th>end_date</th>\n",
        "      <th>end_station</th>\n",
        "      <th>bike_nr</th>\n",
        "      <th>subscription_type</th>\n",
        "      <th>zip_code</th>\n",
        "      <th>birth_date</th>\n",
        "      <th>gender</th>\n",
        "      <th>dayofweek</th>\n",
        "    </tr>\n",
        "    <tr>\n",
        "      <th>start_date</th>\n",
        "      <th></th>\n",
        "      <th></th>\n",
        "      <th></th>\n",
        "      <th></th>\n",
        "      <th></th>\n",
        "      <th></th>\n",
        "      <th></th>\n",
        "      <th></th>\n",
        "      <th></th>\n",
        "      <th></th>\n",
        "      <th></th>\n",
        "    </tr>\n",
        "  </thead>\n",
        "  <tbody>\n",
        "    <tr>\n",
        "      <th>2011-07-28 14:12:00</th>\n",
        "      <td>  8</td>\n",
        "      <td> 0.150000</td>\n",
        "      <td> 23</td>\n",
        "      <td>2011-07-28 14:12:00</td>\n",
        "      <td> 23</td>\n",
        "      <td> B00468</td>\n",
        "      <td> Registered</td>\n",
        "      <td> 97217</td>\n",
        "      <td> 1976</td>\n",
        "      <td>   Male</td>\n",
        "      <td> 3</td>\n",
        "    </tr>\n",
        "    <tr>\n",
        "      <th>2011-07-28 14:21:00</th>\n",
        "      <td>  9</td>\n",
        "      <td> 3.666667</td>\n",
        "      <td> 23</td>\n",
        "      <td>2011-07-28 14:25:00</td>\n",
        "      <td> 23</td>\n",
        "      <td> B00554</td>\n",
        "      <td> Registered</td>\n",
        "      <td>  2215</td>\n",
        "      <td> 1966</td>\n",
        "      <td>   Male</td>\n",
        "      <td> 3</td>\n",
        "    </tr>\n",
        "    <tr>\n",
        "      <th>2011-07-28 14:33:00</th>\n",
        "      <td> 10</td>\n",
        "      <td> 0.933333</td>\n",
        "      <td> 23</td>\n",
        "      <td>2011-07-28 14:34:00</td>\n",
        "      <td> 23</td>\n",
        "      <td> B00456</td>\n",
        "      <td> Registered</td>\n",
        "      <td>  2108</td>\n",
        "      <td> 1943</td>\n",
        "      <td>   Male</td>\n",
        "      <td> 3</td>\n",
        "    </tr>\n",
        "    <tr>\n",
        "      <th>2011-07-28 14:35:00</th>\n",
        "      <td> 11</td>\n",
        "      <td> 1.066667</td>\n",
        "      <td> 23</td>\n",
        "      <td>2011-07-28 14:36:00</td>\n",
        "      <td> 23</td>\n",
        "      <td> B00554</td>\n",
        "      <td> Registered</td>\n",
        "      <td>  2116</td>\n",
        "      <td> 1981</td>\n",
        "      <td> Female</td>\n",
        "      <td> 3</td>\n",
        "    </tr>\n",
        "    <tr>\n",
        "      <th>2011-07-28 14:37:00</th>\n",
        "      <td> 12</td>\n",
        "      <td> 0.200000</td>\n",
        "      <td> 23</td>\n",
        "      <td>2011-07-28 14:37:00</td>\n",
        "      <td> 23</td>\n",
        "      <td> B00554</td>\n",
        "      <td> Registered</td>\n",
        "      <td> 97214</td>\n",
        "      <td> 1983</td>\n",
        "      <td> Female</td>\n",
        "      <td> 3</td>\n",
        "    </tr>\n",
        "  </tbody>\n",
        "</table>\n",
        "</div>"
       ],
       "metadata": {},
       "output_type": "pyout",
       "prompt_number": 73,
       "text": [
        "                     id  duration  start_station            end_date  \\\n",
        "start_date                                                             \n",
        "2011-07-28 14:12:00   8  0.150000             23 2011-07-28 14:12:00   \n",
        "2011-07-28 14:21:00   9  3.666667             23 2011-07-28 14:25:00   \n",
        "2011-07-28 14:33:00  10  0.933333             23 2011-07-28 14:34:00   \n",
        "2011-07-28 14:35:00  11  1.066667             23 2011-07-28 14:36:00   \n",
        "2011-07-28 14:37:00  12  0.200000             23 2011-07-28 14:37:00   \n",
        "\n",
        "                     end_station bike_nr subscription_type zip_code  \\\n",
        "start_date                                                            \n",
        "2011-07-28 14:12:00           23  B00468        Registered    97217   \n",
        "2011-07-28 14:21:00           23  B00554        Registered     2215   \n",
        "2011-07-28 14:33:00           23  B00456        Registered     2108   \n",
        "2011-07-28 14:35:00           23  B00554        Registered     2116   \n",
        "2011-07-28 14:37:00           23  B00554        Registered    97214   \n",
        "\n",
        "                     birth_date  gender  dayofweek  \n",
        "start_date                                          \n",
        "2011-07-28 14:12:00        1976    Male          3  \n",
        "2011-07-28 14:21:00        1966    Male          3  \n",
        "2011-07-28 14:33:00        1943    Male          3  \n",
        "2011-07-28 14:35:00        1981  Female          3  \n",
        "2011-07-28 14:37:00        1983  Female          3  "
       ]
      }
     ],
     "prompt_number": 73
    },
    {
     "cell_type": "code",
     "collapsed": false,
     "input": [
      "# We count the number of ids that appears inside each day\n",
      "trips_per_day = trips.id.resample('D',how='count')\n",
      "trips_per_day"
     ],
     "language": "python",
     "metadata": {},
     "outputs": [
      {
       "metadata": {},
       "output_type": "pyout",
       "prompt_number": 83,
       "text": [
        "start_date\n",
        "2011-07-28    331\n",
        "2011-07-29    566\n",
        "2011-07-30    723\n",
        "...\n",
        "2012-09-30    1333\n",
        "2012-10-01    2914\n",
        "2012-10-02      59\n",
        "Freq: D, Name: id, Length: 433"
       ]
      }
     ],
     "prompt_number": 83
    },
    {
     "cell_type": "code",
     "collapsed": false,
     "input": [
      "# We do a plot of the number of trips for each day\n",
      "trips_per_day.plot()"
     ],
     "language": "python",
     "metadata": {},
     "outputs": [
      {
       "metadata": {},
       "output_type": "pyout",
       "prompt_number": 84,
       "text": [
        "<matplotlib.axes.AxesSubplot at 0xab2d860c>"
       ]
      },
      {
       "metadata": {},
       "output_type": "display_data",
       "png": "[encoded data removed]",
       "text": [
        "<matplotlib.figure.Figure at 0xa9eca12c>"
       ]
      }
     ],
     "prompt_number": 84
    },
    {
     "cell_type": "markdown",
     "metadata": {},
     "source": [
      "Though the x-axis labels are non-ideal, we can see that there\u2019s a period of time where there were no trips at the end of 2011 and beginning of 2012. This makes sense because Hubway didn\u2019t operate during these winter months. The steady increasing during 2012 suggests Hubway is gaining traction over time. Again, this plot would have been very difficult to make without converting our text timestamps.\n",
      "\n",
      "Finally, we\u2019ll convert over the end date variable:"
     ]
    },
    {
     "cell_type": "code",
     "collapsed": false,
     "input": [
      "trips['end_date'] = pd.to_datetime(trips.end_date)"
     ],
     "language": "python",
     "metadata": {},
     "outputs": [],
     "prompt_number": 85
    },
    {
     "cell_type": "markdown",
     "metadata": {},
     "source": [
      "There are a lot of situations in which data cleaning is important, and it\u2019s tedious to review them so we\u2019ll go over a few common data cleaning needs and commands.\n",
      "\n",
      "- As we saw already `strptime` is a useful function for reading in date/time information.\n",
      "- To find/replace patterns in a string or otherwise manipulate strings in R, the `grepl`, `gsub`, and `strsplit` functions are useful, as well as the `stringr` package.\n",
      "- To convert between strings, numeric values, and factors, the `as.character`, `as.numeric`, and `as.factor` functions are helpful.\n",
      "\n",
      "A common gotcha comes up when converting a factor with numeric level names into those level names (for instance, a factor with level names \u20182\u201d, \u20182.5\u201d, and \u20183\u201d getting converted into the numbers 2, 2.5, and 3). In this case, you would run the command `as.numeric(as.character(fac))` instead of `as.numeric(fac)`.\n",
      "\n",
      "Finally, as we saw earlier, we use the `is.na` function to check for missing values, not the `== NA` syntax that might seem more natural."
     ]
    },
    {
     "cell_type": "markdown",
     "metadata": {},
     "source": [
      "#Leveraging built-in functions\n",
      "We\u2019re now going to switch gears and begin talking about obtaining summary information for groups of observations in our data. We\u2019re going to be using `groupby` a number of times during this module, so even though you have seen it a couple of times by now, we\u2019ll review its use here."
     ]
    },
    {
     "cell_type": "markdown",
     "metadata": {},
     "source": [
      "To remember the column/variable names of our `trips` dataframe, we can use the columns attribute"
     ]
    },
    {
     "cell_type": "code",
     "collapsed": false,
     "input": [
      "trips.columns"
     ],
     "language": "python",
     "metadata": {},
     "outputs": [
      {
       "metadata": {},
       "output_type": "pyout",
       "prompt_number": 13,
       "text": [
        "Index(['id', 'duration', 'start_date', 'start_station', 'end_date', 'end_station', 'bike_nr', 'subscription_type', 'zip_code', 'birth_date', 'gender', 'dayofweek'], dtype='object')"
       ]
      }
     ],
     "prompt_number": 13
    },
    {
     "cell_type": "markdown",
     "metadata": {},
     "source": [
      "**Quiz**: Using our trips dataframe, let\u2019s consider a new question: \u201cWhat is the average duration of a trip by subscription type?\u201d"
     ]
    },
    {
     "cell_type": "code",
     "collapsed": false,
     "input": [
      "trips.groupby(\"subscription_type\").mean()[\"duration\"]"
     ],
     "language": "python",
     "metadata": {},
     "outputs": [
      {
       "metadata": {},
       "output_type": "pyout",
       "prompt_number": 91,
       "text": [
        "subscription_type\n",
        "Casual               39.560557\n",
        "Registered           11.722582\n",
        "Name: duration, dtype: float64"
       ]
      }
     ],
     "prompt_number": 91
    },
    {
     "cell_type": "code",
     "collapsed": false,
     "input": [
      "trips.groupby('subscription_type')['duration'].mean()"
     ],
     "language": "python",
     "metadata": {},
     "outputs": [
      {
       "metadata": {},
       "output_type": "pyout",
       "prompt_number": 15,
       "text": [
        "subscription_type\n",
        "Casual               39.560557\n",
        "Registered           11.722582\n",
        "Name: duration, dtype: float64"
       ]
      }
     ],
     "prompt_number": 15
    },
    {
     "cell_type": "markdown",
     "metadata": {},
     "source": [
      "Interesting \u2014 we can see that registered users on average take trips of roughly 12 minutes, while casual users have an average trip length of 40 minutes.\n",
      "\n",
      "Moving forward, let's review the sequence of operations performed. In both cases, we\n",
      "\n",
      "- used `groupby` to obtain a *breakdown* of the `subscription_type` variable,\n",
      "- selected the column of values for `duration`\n",
      "- applied the `mean()` function to calculate the average (for each `subscription_type`)\n",
      "\n",
      "**Quiz**: If you had to choose, which of the two should you have performed?\n",
      "\n",
      "We can also obtain the full summary of the trip `duration` for each group just by using `describe` instead of `mean` as the method to be applied."
     ]
    },
    {
     "cell_type": "code",
     "collapsed": false,
     "input": [
      "# (By now you ought to feel a tinge of regret at not having saved the groupby object into an intermediate variable for re-use)\n",
      "trips.groupby('subscription_type')['duration'].describe().unstack()"
     ],
     "language": "python",
     "metadata": {},
     "outputs": [
      {
       "html": [
        "<div style=\"max-height:1000px;max-width:1500px;overflow:auto;\">\n",
        "<table border=\"1\" class=\"dataframe\">\n",
        "  <thead>\n",
        "    <tr style=\"text-align: right;\">\n",
        "      <th></th>\n",
        "      <th>count</th>\n",
        "      <th>mean</th>\n",
        "      <th>std</th>\n",
        "      <th>min</th>\n",
        "      <th>25%</th>\n",
        "      <th>50%</th>\n",
        "      <th>75%</th>\n",
        "      <th>max</th>\n",
        "    </tr>\n",
        "    <tr>\n",
        "      <th>subscription_type</th>\n",
        "      <th></th>\n",
        "      <th></th>\n",
        "      <th></th>\n",
        "      <th></th>\n",
        "      <th></th>\n",
        "      <th></th>\n",
        "      <th></th>\n",
        "      <th></th>\n",
        "    </tr>\n",
        "  </thead>\n",
        "  <tbody>\n",
        "    <tr>\n",
        "      <th>Casual</th>\n",
        "      <td> 196044</td>\n",
        "      <td> 39.560557</td>\n",
        "      <td> 88.615333</td>\n",
        "      <td> 0.05</td>\n",
        "      <td> 12.250000</td>\n",
        "      <td> 20.633333</td>\n",
        "      <td> 34.800000</td>\n",
        "      <td> 1439.550000</td>\n",
        "    </tr>\n",
        "    <tr>\n",
        "      <th>Registered</th>\n",
        "      <td> 355567</td>\n",
        "      <td> 11.722582</td>\n",
        "      <td> 24.977380</td>\n",
        "      <td> 0.00</td>\n",
        "      <td>  5.766667</td>\n",
        "      <td>  8.850000</td>\n",
        "      <td> 13.766667</td>\n",
        "      <td> 1417.333333</td>\n",
        "    </tr>\n",
        "  </tbody>\n",
        "</table>\n",
        "</div>"
       ],
       "metadata": {},
       "output_type": "pyout",
       "prompt_number": 111,
       "text": [
        "                    count       mean        std   min        25%        50%  \\\n",
        "subscription_type                                                             \n",
        "Casual             196044  39.560557  88.615333  0.05  12.250000  20.633333   \n",
        "Registered         355567  11.722582  24.977380  0.00   5.766667   8.850000   \n",
        "\n",
        "                         75%          max  \n",
        "subscription_type                          \n",
        "Casual             34.800000  1439.550000  \n",
        "Registered         13.766667  1417.333333  "
       ]
      }
     ],
     "prompt_number": 111
    },
    {
     "cell_type": "markdown",
     "metadata": {},
     "source": [
      "We can see that 25th, 50th, and 75th percentile trip durations are all much longer for casual users than for registered users."
     ]
    },
    {
     "cell_type": "markdown",
     "metadata": {},
     "source": [
      "# Assignment: GroupBy operations\n",
      "Now, we\u2019ll have a quick in-class exercise make sure everybody\u2019s comfortable about combining `groupby` operations with built-in functions."
     ]
    },
    {
     "cell_type": "markdown",
     "metadata": {},
     "source": [
      "1) What is the average trip duration by gender? The sum of trip durations?"
     ]
    },
    {
     "cell_type": "code",
     "collapsed": false,
     "input": [
      "trips.groupby('gender')['duration'].agg([np.mean,sum])"
     ],
     "language": "python",
     "metadata": {},
     "outputs": [
      {
       "html": [
        "<div style=\"max-height:1000px;max-width:1500px;overflow:auto;\">\n",
        "<table border=\"1\" class=\"dataframe\">\n",
        "  <thead>\n",
        "    <tr style=\"text-align: right;\">\n",
        "      <th></th>\n",
        "      <th>mean</th>\n",
        "      <th>sum</th>\n",
        "    </tr>\n",
        "    <tr>\n",
        "      <th>gender</th>\n",
        "      <th></th>\n",
        "      <th></th>\n",
        "    </tr>\n",
        "  </thead>\n",
        "  <tbody>\n",
        "    <tr>\n",
        "      <th>Female</th>\n",
        "      <td> 13.477725</td>\n",
        "      <td> 1189085.766667</td>\n",
        "    </tr>\n",
        "    <tr>\n",
        "      <th>Male</th>\n",
        "      <td> 11.143362</td>\n",
        "      <td> 2979077.566667</td>\n",
        "    </tr>\n",
        "  </tbody>\n",
        "</table>\n",
        "<p>2 rows \u00d7 2 columns</p>\n",
        "</div>"
       ],
       "metadata": {},
       "output_type": "pyout",
       "prompt_number": 17,
       "text": [
        "             mean             sum\n",
        "gender                           \n",
        "Female  13.477725  1189085.766667\n",
        "Male    11.143362  2979077.566667\n",
        "\n",
        "[2 rows x 2 columns]"
       ]
      }
     ],
     "prompt_number": 17
    },
    {
     "cell_type": "markdown",
     "metadata": {},
     "source": [
      "**Recall**: we only have `gender` information for registered users. But we might be interested in the statistics for casual users as well. How might we get that information?"
     ]
    },
    {
     "cell_type": "code",
     "collapsed": false,
     "input": [
      "trips.ix[trips.gender.isnull(),'duration'].describe()"
     ],
     "language": "python",
     "metadata": {},
     "outputs": [
      {
       "metadata": {},
       "output_type": "pyout",
       "prompt_number": 116,
       "text": [
        "count    196044.000000\n",
        "mean         39.560557\n",
        "std          88.615333\n",
        "min           0.050000\n",
        "25%          12.250000\n",
        "50%          20.633333\n",
        "75%          34.800000\n",
        "max        1439.550000\n",
        "dtype: float64"
       ]
      }
     ],
     "prompt_number": 116
    },
    {
     "cell_type": "markdown",
     "metadata": {},
     "source": [
      "**Remark**: Casual users by far have the longest average trips, but we see that females have longer average trip durations than males. However, their summed durations are much smaller because more trips are completed by males than females."
     ]
    },
    {
     "cell_type": "markdown",
     "metadata": {},
     "source": [
      "2) What is the average trip duration by day of week at the start of trip? By month of year at the end of the trip?"
     ]
    },
    {
     "cell_type": "code",
     "collapsed": false,
     "input": [
      "trips.groupby('dayofweek')['duration'].mean()"
     ],
     "language": "python",
     "metadata": {},
     "outputs": [
      {
       "metadata": {},
       "output_type": "pyout",
       "prompt_number": 92,
       "text": [
        "dayofweek\n",
        "0            19.795966\n",
        "1            17.038307\n",
        "2            17.818889\n",
        "3            16.750882\n",
        "4            18.834928\n",
        "5            30.362665\n",
        "6            31.425731\n",
        "Name: duration, dtype: float64"
       ]
      }
     ],
     "prompt_number": 92
    },
    {
     "cell_type": "markdown",
     "metadata": {},
     "source": [
      "We can see that trips have much longer durations on weekends (presumably because there are more casual users on weekends)."
     ]
    },
    {
     "cell_type": "code",
     "collapsed": false,
     "input": [
      "trips['month'] = trips.end_date.apply(lambda d: d.month)\n",
      "trips.groupby('month')['duration'].mean()"
     ],
     "language": "python",
     "metadata": {},
     "outputs": [
      {
       "metadata": {},
       "output_type": "pyout",
       "prompt_number": 122,
       "text": [
        "month\n",
        "3        20.569297\n",
        "4        18.509291\n",
        "5        18.584981\n",
        "6        17.330945\n",
        "7        20.011012\n",
        "8        24.772064\n",
        "9        21.858215\n",
        "10       28.280985\n",
        "11       21.420128\n",
        "12       17.441473\n",
        "Name: duration, dtype: float64"
       ]
      }
     ],
     "prompt_number": 122
    },
    {
     "cell_type": "markdown",
     "metadata": {},
     "source": [
      "They seem to be slightly longer in the summer than the spring. There was no average value computed for January and February because there were no trips in those months."
     ]
    },
    {
     "cell_type": "markdown",
     "metadata": {},
     "source": [
      "**Bonus**: What is the proportion of users who are casual users by start station? Which (start) stations have the highest and lowest proportions of casual users?\n",
      "\n",
      "(*Hint*: The average of `True`/`False` values is the proportion that are `True`)"
     ]
    },
    {
     "cell_type": "code",
     "collapsed": false,
     "input": [
      "trips['isCasual'] = (trips.subscription_type == 'Casual')\n",
      "proportion = trips.groupby('start_station')['isCasual'].mean()\n",
      "proportion"
     ],
     "language": "python",
     "metadata": {},
     "outputs": [
      {
       "metadata": {},
       "output_type": "pyout",
       "prompt_number": 96,
       "text": [
        "start_station\n",
        "3                0.289539\n",
        "4                0.290126\n",
        "5                0.353937\n",
        "...\n",
        "96               0.376518\n",
        "97               0.710623\n",
        "98               0.594796\n",
        "Name: isCasual, Length: 95, dtype: float64"
       ]
      }
     ],
     "prompt_number": 96
    },
    {
     "cell_type": "markdown",
     "metadata": {},
     "source": [
      "As suggested by the hint, we want to operate on the boolean vector `trips.subscription_type == 'Casual'` of whether each trip was taken by a casual user. We then grouped by the `start_station`, and used the `mean` function to compute the proportion of users who are `casual`.\n",
      "\n",
      "Finally, we want to see the largest and smallest values, so we can either: \n",
      "\n",
      "(1) use `.idxmax()` and `.idxmin()`"
     ]
    },
    {
     "cell_type": "code",
     "collapsed": false,
     "input": [
      "print(\"station with highest proportion of casual users: %s\" % proportion.idxmax())\n",
      "print(\"station with lowest proportion of casual users: %s\" % proportion.idxmin())"
     ],
     "language": "python",
     "metadata": {},
     "outputs": [
      {
       "output_type": "stream",
       "stream": "stdout",
       "text": [
        "station with highest proportion of casual users: 92.0\n",
        "station with lowest proportion of casual users: 51.0\n"
       ]
      }
     ],
     "prompt_number": 98
    },
    {
     "cell_type": "markdown",
     "metadata": {},
     "source": [
      "Or we can (2) use the sort function to sort from smallest to largest proportion:"
     ]
    },
    {
     "cell_type": "code",
     "collapsed": false,
     "input": [
      "proportion.sort()\n",
      "proportion"
     ],
     "language": "python",
     "metadata": {},
     "outputs": [
      {
       "metadata": {},
       "output_type": "pyout",
       "prompt_number": 125,
       "text": [
        "start_station\n",
        "51               0.148827\n",
        "14               0.153255\n",
        "25               0.186667\n",
        "...\n",
        "74               0.674553\n",
        "97               0.710623\n",
        "92               0.721519\n",
        "Name: isCasual, Length: 95, dtype: float64"
       ]
      }
     ],
     "prompt_number": 125
    },
    {
     "cell_type": "markdown",
     "metadata": {},
     "source": [
      "We can see that station 92 has 72.2% casual users, while station 51 has just 14.9%, suggesting there\u2019s different \u201ctypes\u201d of stations with respect to user registration status."
     ]
    },
    {
     "cell_type": "markdown",
     "metadata": {},
     "source": [
      "#Leveraging user-defined functions\n",
      "Great. We are experts at gropby() with built-in functions. But sometimes this is not enough! Let's say we wanted to figure out the two busiest days of the week for each type of user (using start_date). This is easy enough with a two-way frequency table:"
     ]
    },
    {
     "cell_type": "code",
     "collapsed": false,
     "input": [
      "trips.groupby(['subscription_type','dayofweek']).size()"
     ],
     "language": "python",
     "metadata": {},
     "outputs": [
      {
       "metadata": {},
       "output_type": "pyout",
       "prompt_number": 21,
       "text": [
        "subscription_type  dayofweek\n",
        "Casual             0            25070\n",
        "                   1            18483\n",
        "                   2            18829\n",
        "                   3            19647\n",
        "                   4            24413\n",
        "                   5            43892\n",
        "                   6            45710\n",
        "Registered         0            56362\n",
        "                   1            58539\n",
        "                   2            57873\n",
        "                   3            60144\n",
        "                   4            59731\n",
        "                   5            33045\n",
        "                   6            29873\n",
        "dtype: int64"
       ]
      }
     ],
     "prompt_number": 21
    },
    {
     "cell_type": "markdown",
     "metadata": {},
     "source": [
      "But there are a few problems with this approach:\n",
      "\n",
      "1. We haven't gotten it programmatically (if we wanted to use it later)\n",
      "2. This is not going to fly if we had asked for most common 2 days by start loc\n",
      "\n",
      "Let's start by thinking about how to find the two most common days in the whole data frame"
     ]
    },
    {
     "cell_type": "code",
     "collapsed": false,
     "input": [
      "trips.groupby('dayofweek').size()"
     ],
     "language": "python",
     "metadata": {},
     "outputs": [
      {
       "metadata": {},
       "output_type": "pyout",
       "prompt_number": 22,
       "text": [
        "dayofweek\n",
        "0            81432\n",
        "1            77022\n",
        "2            76702\n",
        "3            79791\n",
        "4            84144\n",
        "5            76937\n",
        "6            75583\n",
        "dtype: int64"
       ]
      }
     ],
     "prompt_number": 22
    },
    {
     "cell_type": "markdown",
     "metadata": {},
     "source": [
      "We're going to want to sort our table since we need the biggest values"
     ]
    },
    {
     "cell_type": "code",
     "collapsed": false,
     "input": [
      "counts = trips.groupby('dayofweek').size()\n",
      "counts.sort()\n",
      "counts"
     ],
     "language": "python",
     "metadata": {},
     "outputs": [
      {
       "metadata": {},
       "output_type": "pyout",
       "prompt_number": 23,
       "text": [
        "dayofweek\n",
        "6            75583\n",
        "2            76702\n",
        "5            76937\n",
        "1            77022\n",
        "3            79791\n",
        "0            81432\n",
        "4            84144\n",
        "dtype: int64"
       ]
      }
     ],
     "prompt_number": 23
    },
    {
     "cell_type": "code",
     "collapsed": false,
     "input": [
      "#The biggest 2 are the last 2. So we want:\n",
      "counts[-2:]"
     ],
     "language": "python",
     "metadata": {},
     "outputs": [
      {
       "metadata": {},
       "output_type": "pyout",
       "prompt_number": 24,
       "text": [
        "dayofweek\n",
        "0            81432\n",
        "4            84144\n",
        "dtype: int64"
       ]
      }
     ],
     "prompt_number": 24
    },
    {
     "cell_type": "markdown",
     "metadata": {},
     "source": [
      "Remember that we actually wanted to compute the top 2 days for every type, so we need to actually make these steps into our own user-defined function `get_top_2`:"
     ]
    },
    {
     "cell_type": "code",
     "collapsed": false,
     "input": [
      "def get_top_2(series):\n",
      "    counts = series.value_counts()\n",
      "    counts.sort()\n",
      "    return counts[-2:]\n",
      "\n",
      "#How can we test our function? Let's start by calling it on the whole data frame!\n",
      "get_top_2(trips['dayofweek'])"
     ],
     "language": "python",
     "metadata": {},
     "outputs": [
      {
       "metadata": {},
       "output_type": "pyout",
       "prompt_number": 25,
       "text": [
        "0    81432\n",
        "4    84144\n",
        "dtype: int64"
       ]
      }
     ],
     "prompt_number": 25
    },
    {
     "cell_type": "markdown",
     "metadata": {},
     "source": [
      "Awesome! Now we can use it in `groupby`, broken down by `subscription_type`:"
     ]
    },
    {
     "cell_type": "code",
     "collapsed": false,
     "input": [
      "trips.groupby('subscription_type')['dayofweek'].apply(get_top_2)"
     ],
     "language": "python",
     "metadata": {},
     "outputs": [
      {
       "metadata": {},
       "output_type": "pyout",
       "prompt_number": 26,
       "text": [
        "subscription_type   \n",
        "Casual             5    43892\n",
        "                   6    45710\n",
        "Registered         4    59731\n",
        "                   3    60144\n",
        "dtype: int64"
       ]
      }
     ],
     "prompt_number": 26
    },
    {
     "cell_type": "markdown",
     "metadata": {},
     "source": [
      "Just to check:"
     ]
    },
    {
     "cell_type": "code",
     "collapsed": false,
     "input": [
      "trips.groupby(['subscription_type','dayofweek']).size()"
     ],
     "language": "python",
     "metadata": {},
     "outputs": [
      {
       "metadata": {},
       "output_type": "pyout",
       "prompt_number": 27,
       "text": [
        "subscription_type  dayofweek\n",
        "Casual             0            25070\n",
        "                   1            18483\n",
        "                   2            18829\n",
        "                   3            19647\n",
        "                   4            24413\n",
        "                   5            43892\n",
        "                   6            45710\n",
        "Registered         0            56362\n",
        "                   1            58539\n",
        "                   2            57873\n",
        "                   3            60144\n",
        "                   4            59731\n",
        "                   5            33045\n",
        "                   6            29873\n",
        "dtype: int64"
       ]
      }
     ],
     "prompt_number": 27
    },
    {
     "cell_type": "markdown",
     "metadata": {},
     "source": [
      "Great! Armed with this function, we can easily find the top 2 days for every single start location:"
     ]
    },
    {
     "cell_type": "code",
     "collapsed": false,
     "input": [
      "trips.groupby('start_station')['dayofweek'].apply(get_top_2)"
     ],
     "language": "python",
     "metadata": {},
     "outputs": [
      {
       "metadata": {},
       "output_type": "pyout",
       "prompt_number": 28,
       "text": [
        "start_station   \n",
        "3              2     719\n",
        "               4     735\n",
        "4              5    1302\n",
        "               6    1343\n",
        "5              3     717\n",
        "               4     779\n",
        "6              0    1379\n",
        "               1    1416\n",
        "7              4     627\n",
        "               3     636\n",
        "8              5     539\n",
        "               6     571\n",
        "9              0    1206\n",
        "               5    1231\n",
        "10             4    1125\n",
        "...\n",
        "91             3    110\n",
        "92             0     16\n",
        "               6     18\n",
        "93             5     17\n",
        "               0     20\n",
        "94             3     45\n",
        "               0     47\n",
        "95             3     42\n",
        "               0     46\n",
        "96             0     40\n",
        "               3     51\n",
        "97             5     63\n",
        "               6     82\n",
        "98             4     93\n",
        "               6     95\n",
        "Length: 190, dtype: int64"
       ]
      }
     ],
     "prompt_number": 28
    },
    {
     "cell_type": "markdown",
     "metadata": {},
     "source": [
      "Here, we see that some start locations, like location 3, are most associated with weekday travel, while other like ids 4, 97, and 98 are most associated with weekend travel.\n",
      "\n",
      "You could imagine wanting to actually build a new data frame out of this \u2013 it would have one variable for the station id and two more variables for the top 2 days. We will see how to do that in the next section, when we\u2019ll talk more formally about the *split-apply-combine* paradigm.\n",
      "\n",
      "Before we get there, let's have a quick in-class exercise make sure everybody\u2019s comfortable with writing and using user-defined functions."
     ]
    },
    {
     "cell_type": "markdown",
     "metadata": {},
     "source": [
      "# Assignment\n",
      "Hubway charges a fee for any trip of $\\geq 30$ minutes. Compute the proportion of trips from each start location that are $\\geq 30$ minutes."
     ]
    },
    {
     "cell_type": "code",
     "collapsed": false,
     "input": [
      "def proportion_above_30(x):\n",
      "    return np.mean(x >= 30)\n",
      "\n",
      "trips.groupby('start_station')['duration'].apply(proportion_above_30)"
     ],
     "language": "python",
     "metadata": {},
     "outputs": [
      {
       "metadata": {},
       "output_type": "pyout",
       "prompt_number": 29,
       "text": [
        "start_station\n",
        "3                0.085489\n",
        "4                0.076041\n",
        "5                0.099347\n",
        "6                0.130899\n",
        "7                0.153523\n",
        "8                0.165737\n",
        "9                0.139093\n",
        "10               0.094345\n",
        "11               0.067099\n",
        "12               0.086017\n",
        "13               0.066020\n",
        "14               0.042330\n",
        "15               0.353177\n",
        "16               0.076907\n",
        "17               0.247315\n",
        "...\n",
        "84               0.144006\n",
        "85               0.136752\n",
        "86               0.113274\n",
        "87               0.065068\n",
        "88               0.068908\n",
        "89               0.109718\n",
        "90               0.091743\n",
        "91               0.058471\n",
        "92               0.607595\n",
        "93               0.266667\n",
        "94               0.124514\n",
        "95               0.069597\n",
        "96               0.080972\n",
        "97               0.256410\n",
        "98               0.161710\n",
        "Length: 95, dtype: float64"
       ]
      }
     ],
     "prompt_number": 29
    },
    {
     "cell_type": "markdown",
     "metadata": {},
     "source": [
      "Or (in a single line):"
     ]
    },
    {
     "cell_type": "code",
     "collapsed": false,
     "input": [
      "trips.groupby('start_station')['duration'].apply(lambda x: np.mean(x >= 30))"
     ],
     "language": "python",
     "metadata": {},
     "outputs": [
      {
       "metadata": {},
       "output_type": "pyout",
       "prompt_number": 30,
       "text": [
        "start_station\n",
        "3                0.085489\n",
        "4                0.076041\n",
        "5                0.099347\n",
        "6                0.130899\n",
        "7                0.153523\n",
        "8                0.165737\n",
        "9                0.139093\n",
        "10               0.094345\n",
        "11               0.067099\n",
        "12               0.086017\n",
        "13               0.066020\n",
        "14               0.042330\n",
        "15               0.353177\n",
        "16               0.076907\n",
        "17               0.247315\n",
        "...\n",
        "84               0.144006\n",
        "85               0.136752\n",
        "86               0.113274\n",
        "87               0.065068\n",
        "88               0.068908\n",
        "89               0.109718\n",
        "90               0.091743\n",
        "91               0.058471\n",
        "92               0.607595\n",
        "93               0.266667\n",
        "94               0.124514\n",
        "95               0.069597\n",
        "96               0.080972\n",
        "97               0.256410\n",
        "98               0.161710\n",
        "Length: 95, dtype: float64"
       ]
      }
     ],
     "prompt_number": 30
    },
    {
     "cell_type": "markdown",
     "metadata": {},
     "source": [
      "**Bonus**: compute the most common subscription type (Registered/Casual/Tie) between every pair of start/end locations between which there has been at least one trip. Treat A->B and B->A as two separate pairs. How many of each type of pair are there?"
     ]
    },
    {
     "cell_type": "code",
     "collapsed": false,
     "input": [
      "def most_common(x):\n",
      "    if np.sum(x == \"Registered\") > np.sum(x == \"Casual\"):\n",
      "        return(\"Registered\")\n",
      "    elif np.sum(x == \"Registered\") < np.sum(x == \"Casual\"):\n",
      "        return(\"Casual\")\n",
      "    else:\n",
      "        return(\"Tie\")"
     ],
     "language": "python",
     "metadata": {},
     "outputs": [],
     "prompt_number": 31
    },
    {
     "cell_type": "code",
     "collapsed": false,
     "input": [
      "import matplotlib.pyplot as plt\n",
      "%matplotlib inline\n",
      "plt.plot([1,2,3,4,5])"
     ],
     "language": "python",
     "metadata": {},
     "outputs": [
      {
       "metadata": {},
       "output_type": "pyout",
       "prompt_number": 5,
       "text": [
        "[<matplotlib.lines.Line2D at 0xab81754c>]"
       ]
      },
      {
       "metadata": {},
       "output_type": "display_data",
       "png": "[encoded data removed]",
       "text": [
        "<matplotlib.figure.Figure at 0xab85464c>"
       ]
      }
     ],
     "prompt_number": 5
    },
    {
     "cell_type": "markdown",
     "metadata": {},
     "source": [
      "# Split-apply-combine\n",
      "The trips data frame has rows that represent bike trips, but we saw last time how we could split the data up based on some other variable (in our case `start_station`) and compute multiple values for that group (in our case the first and second most common day of the week for travel). We would like to combine this into a data frame with rows representing start stations, and columns representing the variables we built for each start station. This methodology is called split-apply-combine.\n",
      "\n",
      "     df.groupby(columns).apply/agg(function(s))\n",
      "     \n",
      "     groupby: split\n",
      "     apply: function(s)\n",
      "     combine: apply/agg"
     ]
    },
    {
     "cell_type": "markdown",
     "metadata": {},
     "source": [
      "##Split\n",
      "The first step of split-apply-combine is splitting the data into subsets. In this step we used the `groupby` method, and a value used to split the data frame (in this slide, a variable called `station`). The output of this function is a `groupby` object, which stores one new data frame for each value of the station variable.\n",
      "\n",
      "These `groupby` objects are subsets of the original dataframe for which all observations have the same station value. On the slide, split returns a list of two data frames. The first one contains the four observations in trips with a station value of 1, and the second data frame contains the six observations in trips with a station value of 2. These outputted data frames contain all the same variables as `trips`"
     ]
    },
    {
     "cell_type": "code",
     "collapsed": false,
     "input": [
      "groupby_trips = trips.groupby('start_station')\n",
      "groupby_trips"
     ],
     "language": "python",
     "metadata": {},
     "outputs": [
      {
       "metadata": {},
       "output_type": "pyout",
       "prompt_number": 131,
       "text": [
        "<pandas.core.groupby.DataFrameGroupBy object at 0xabd58d4c>"
       ]
      }
     ],
     "prompt_number": 131
    },
    {
     "cell_type": "markdown",
     "metadata": {},
     "source": [
      "##Apply\n",
      "The next step in split-apply-combine is to apply a function to each of the data frames stored in our list. This function will input and output a dataframe.\n",
      "\n",
      "In our case, we want a function called `get_top_2_df`, which inputs the subset for a specific station and returns a 1-row data frame containing the station identifier and the most common two days of the week for trips leaving that station."
     ]
    },
    {
     "cell_type": "code",
     "collapsed": false,
     "input": [
      "def get_top_2_df(series):\n",
      "    # The resulting object returned by .value_counts() will be in descending order\n",
      "    # so that the first element is the most frequently-occurring element\n",
      "    counts = series.value_counts()\n",
      "    return pd.Series(counts[:2].index, index=['day1','day2'])"
     ],
     "language": "python",
     "metadata": {},
     "outputs": [],
     "prompt_number": 132
    },
    {
     "cell_type": "markdown",
     "metadata": {},
     "source": [
      "## Combine\n",
      "The final step of split-apply-combine is to combine this processed list into a final dataframe. This is performed for us in pandas whenever we apply a (set of) functions to a `groupby` object. We might, however, want to do some post-processing on this (often hierarchially-indexed) object to get it into the form that we want."
     ]
    },
    {
     "cell_type": "code",
     "collapsed": false,
     "input": [
      "groupby_trips['dayofweek'].apply(get_top_2_df).head(12)"
     ],
     "language": "python",
     "metadata": {},
     "outputs": [
      {
       "metadata": {},
       "output_type": "pyout",
       "prompt_number": 137,
       "text": [
        "start_station      \n",
        "3              day1    4\n",
        "               day2    2\n",
        "4              day1    6\n",
        "...\n",
        "7              day2    4\n",
        "8              day1    6\n",
        "               day2    5\n",
        "Length: 12, dtype: int64"
       ]
      }
     ],
     "prompt_number": 137
    },
    {
     "cell_type": "code",
     "collapsed": false,
     "input": [
      "_.unstack()"
     ],
     "language": "python",
     "metadata": {},
     "outputs": [
      {
       "html": [
        "<div style=\"max-height:1000px;max-width:1500px;overflow:auto;\">\n",
        "<table border=\"1\" class=\"dataframe\">\n",
        "  <thead>\n",
        "    <tr style=\"text-align: right;\">\n",
        "      <th></th>\n",
        "      <th>day1</th>\n",
        "      <th>day2</th>\n",
        "    </tr>\n",
        "    <tr>\n",
        "      <th>start_station</th>\n",
        "      <th></th>\n",
        "      <th></th>\n",
        "    </tr>\n",
        "  </thead>\n",
        "  <tbody>\n",
        "    <tr>\n",
        "      <th>3</th>\n",
        "      <td> 4</td>\n",
        "      <td> 2</td>\n",
        "    </tr>\n",
        "    <tr>\n",
        "      <th>4</th>\n",
        "      <td> 6</td>\n",
        "      <td> 5</td>\n",
        "    </tr>\n",
        "    <tr>\n",
        "      <th>5</th>\n",
        "      <td> 4</td>\n",
        "      <td> 3</td>\n",
        "    </tr>\n",
        "    <tr>\n",
        "      <th>6</th>\n",
        "      <td> 1</td>\n",
        "      <td> 0</td>\n",
        "    </tr>\n",
        "    <tr>\n",
        "      <th>7</th>\n",
        "      <td> 3</td>\n",
        "      <td> 4</td>\n",
        "    </tr>\n",
        "    <tr>\n",
        "      <th>8</th>\n",
        "      <td> 6</td>\n",
        "      <td> 5</td>\n",
        "    </tr>\n",
        "  </tbody>\n",
        "</table>\n",
        "</div>"
       ],
       "metadata": {},
       "output_type": "pyout",
       "prompt_number": 138,
       "text": [
        "               day1  day2\n",
        "start_station            \n",
        "3                 4     2\n",
        "4                 6     5\n",
        "5                 4     3\n",
        "6                 1     0\n",
        "7                 3     4\n",
        "8                 6     5"
       ]
      }
     ],
     "prompt_number": 138
    },
    {
     "cell_type": "markdown",
     "metadata": {},
     "source": [
      "To get a bit of practice with split-apply-combine, let\u2019s do an in-class exercise."
     ]
    },
    {
     "cell_type": "markdown",
     "metadata": {},
     "source": [
      "# Assignment 3 (Section 4): Split-apply-combine\n",
      "From trips, create a data frame called bicycle.info, where each row corresponds to one bicycle. Include the following variables in your new data frame:\n",
      "\n",
      "- bike_nr: The bicycle number of this bicycle\n",
      "- mean_duration: Average trip duration (minutes)\n",
      "- sd_duration: Standard deviation of trip duration (minutes)\n",
      "- num_trips: Number of trips taken by the bicycle (Hint: ?nrow)"
     ]
    },
    {
     "cell_type": "code",
     "collapsed": false,
     "input": [
      "trips.columns"
     ],
     "language": "python",
     "metadata": {},
     "outputs": [
      {
       "metadata": {},
       "output_type": "pyout",
       "prompt_number": 33,
       "text": [
        "Index(['id', 'duration', 'start_date', 'start_station', 'end_date', 'end_station', 'bike_nr', 'subscription_type', 'zip_code', 'birth_date', 'gender', 'dayofweek', 'month', 'isCasual'], dtype='object')"
       ]
      }
     ],
     "prompt_number": 33
    },
    {
     "cell_type": "code",
     "collapsed": false,
     "input": [
      "bicycle_info = trips.groupby('bike_nr')['duration'].agg({'mean_duration': np.mean,\n",
      "                                                         'sd_duration': np.std,\n",
      "                                                         'num_trips': len})\n",
      "bicycle_info.head()"
     ],
     "language": "python",
     "metadata": {},
     "outputs": [
      {
       "html": [
        "<div style=\"max-height:1000px;max-width:1500px;overflow:auto;\">\n",
        "<table border=\"1\" class=\"dataframe\">\n",
        "  <thead>\n",
        "    <tr style=\"text-align: right;\">\n",
        "      <th></th>\n",
        "      <th>num_trips</th>\n",
        "      <th>sd_duration</th>\n",
        "      <th>mean_duration</th>\n",
        "    </tr>\n",
        "    <tr>\n",
        "      <th>bike_nr</th>\n",
        "      <th></th>\n",
        "      <th></th>\n",
        "      <th></th>\n",
        "    </tr>\n",
        "  </thead>\n",
        "  <tbody>\n",
        "    <tr>\n",
        "      <th>? (0x241EC230)</th>\n",
        "      <td> 192</td>\n",
        "      <td>  60.414725</td>\n",
        "      <td> 33.170139</td>\n",
        "    </tr>\n",
        "    <tr>\n",
        "      <th>? (0x67D8478F)</th>\n",
        "      <td> 129</td>\n",
        "      <td>  40.001034</td>\n",
        "      <td> 25.730620</td>\n",
        "    </tr>\n",
        "    <tr>\n",
        "      <th>? (0xA533D104)</th>\n",
        "      <td> 142</td>\n",
        "      <td> 107.237058</td>\n",
        "      <td> 38.828521</td>\n",
        "    </tr>\n",
        "    <tr>\n",
        "      <th>B00000</th>\n",
        "      <td>  45</td>\n",
        "      <td>   7.971572</td>\n",
        "      <td> 11.863333</td>\n",
        "    </tr>\n",
        "    <tr>\n",
        "      <th>B00001</th>\n",
        "      <td> 933</td>\n",
        "      <td>  32.528162</td>\n",
        "      <td> 18.051804</td>\n",
        "    </tr>\n",
        "  </tbody>\n",
        "</table>\n",
        "</div>"
       ],
       "metadata": {},
       "output_type": "pyout",
       "prompt_number": 156,
       "text": [
        "                num_trips  sd_duration  mean_duration\n",
        "bike_nr                                              \n",
        "? (0x241EC230)        192    60.414725      33.170139\n",
        "? (0x67D8478F)        129    40.001034      25.730620\n",
        "? (0xA533D104)        142   107.237058      38.828521\n",
        "B00000                 45     7.971572      11.863333\n",
        "B00001                933    32.528162      18.051804"
       ]
      }
     ],
     "prompt_number": 156
    },
    {
     "cell_type": "markdown",
     "metadata": {},
     "source": [
      "In the code above, we computed\n",
      "\n",
      "- `mean_duration` using the `np.mean` function, which computes averages\n",
      "- `sd_duration` using the `np.std` function, which computes standard deviations,\n",
      "- `num_trips` using the `len` function, which computes the number of rows\n",
      "\n",
      "The `bike_nr` column (upon which we performed the `groupby`) forms the index of the resulting dataframe."
     ]
    },
    {
     "cell_type": "markdown",
     "metadata": {},
     "source": [
      "**Bonus**: Add the following additional variables:\n",
      "\n",
      "- multi.day: Number of trips starting and ending on a different day\n",
      "- common.start: Most common start location (hint: length(tab) is the number of values in a table tab)\n",
      "- common.end: Most common end location"
     ]
    },
    {
     "cell_type": "code",
     "collapsed": false,
     "input": [],
     "language": "python",
     "metadata": {},
     "outputs": []
    },
    {
     "cell_type": "markdown",
     "metadata": {},
     "source": [
      "# Merging data, and the apply() function\n",
      "So far we have not taken advantage of the lat/long information for the start and end locations of our trips because trips and stations are separate. Let's change that by merging together our data. Our eventual goal from this will be to compute the distance of each trip (as the crow flies).\n",
      "\n",
      "The concept of merging data frames, which is essentially the same as database joins for those of you familiar with database terminology, centers around combining data from two dataframes based on a shared id. In our case, the start station and end station variables can both be matched to the id variable in the stations data frame. To join together the data frames in R, we use the merge function, and the first two arguments are the two data frames to be merged. The by.x argument identifies the name of the variable in the first data frame to match, and the by.y argument identifies the name of the variable in the second data frame to match.\n",
      "\n",
      "By default, merge will match all variables that share names. The output of the merge function is a data frame that contains a row for every matched pair of rows between the two data frames. The outputted rows will contain all the variables from both of the merged data frames, so in the example on the slide we have both the wday variable from the trips data frame and the lat variable from the stations data frame. You\u2019ll notice on the slide that the trips data frame had a row that was not matched, with station value 4, and the stations data frame also had a row that was not matched, with id value 3. With the default arguments, merge will drop all rows that are not matched, so we don\u2019t see either of these in the final output. In database terminology, this is called an \u201cinner join.\u201d"
     ]
    },
    {
     "cell_type": "markdown",
     "metadata": {},
     "source": [
      "[Switch to Slide 13] To retain all the unmatched rows from one or both of the dataframes, we can use the all.x and all.y arguments to the merge function. For instance, on this slide we\u2019ve set the all.x argument to TRUE, which means we\u2019ll keep rows from the first argument, even if they\u2019re not matched by any row in the second argument. In the case that they\u2019re not matched, all the variables from the second data frame are set to the NA, or missing, value. In database terminology, this is called a \u201cleft outer join.\u201d If we set all.x to FALSE and all.y to TRUE, we would have a \u201cright outer join,\u201d and if we set both arguments to TRUE we would have a \u201cfull outer join.\u201d\n",
      "\n",
      "Let\u2019s now use the `pd.merge` function to link in information about start and stop station for each trip."
     ]
    },
    {
     "cell_type": "code",
     "collapsed": false,
     "input": [
      "merged = pd.merge(trips, stations, left_on=\"start_station\", right_on=\"id\")\n",
      "merged.head()"
     ],
     "language": "python",
     "metadata": {},
     "outputs": [
      {
       "html": [
        "<div style=\"max-height:1000px;max-width:1500px;overflow:auto;\">\n",
        "<table border=\"1\" class=\"dataframe\">\n",
        "  <thead>\n",
        "    <tr style=\"text-align: right;\">\n",
        "      <th></th>\n",
        "      <th>id_x</th>\n",
        "      <th>duration</th>\n",
        "      <th>start_station</th>\n",
        "      <th>end_date</th>\n",
        "      <th>end_station</th>\n",
        "      <th>bike_nr</th>\n",
        "      <th>subscription_type</th>\n",
        "      <th>zip_code</th>\n",
        "      <th>birth_date</th>\n",
        "      <th>gender</th>\n",
        "      <th>dayofweek</th>\n",
        "      <th>month</th>\n",
        "      <th>isCasual</th>\n",
        "      <th>id_y</th>\n",
        "      <th>name</th>\n",
        "      <th>lat</th>\n",
        "      <th>lng</th>\n",
        "    </tr>\n",
        "  </thead>\n",
        "  <tbody>\n",
        "    <tr>\n",
        "      <th>0</th>\n",
        "      <td>  8</td>\n",
        "      <td> 0.150000</td>\n",
        "      <td> 23</td>\n",
        "      <td>2011-07-28 14:12:00</td>\n",
        "      <td> 23</td>\n",
        "      <td> B00468</td>\n",
        "      <td> Registered</td>\n",
        "      <td> 97217</td>\n",
        "      <td> 1976</td>\n",
        "      <td>   Male</td>\n",
        "      <td> 3</td>\n",
        "      <td> 7</td>\n",
        "      <td> False</td>\n",
        "      <td> 23</td>\n",
        "      <td> Mayor Thomas M. Menino - Government Center</td>\n",
        "      <td> 42.359677</td>\n",
        "      <td>-71.059364</td>\n",
        "    </tr>\n",
        "    <tr>\n",
        "      <th>1</th>\n",
        "      <td>  9</td>\n",
        "      <td> 3.666667</td>\n",
        "      <td> 23</td>\n",
        "      <td>2011-07-28 14:25:00</td>\n",
        "      <td> 23</td>\n",
        "      <td> B00554</td>\n",
        "      <td> Registered</td>\n",
        "      <td>  2215</td>\n",
        "      <td> 1966</td>\n",
        "      <td>   Male</td>\n",
        "      <td> 3</td>\n",
        "      <td> 7</td>\n",
        "      <td> False</td>\n",
        "      <td> 23</td>\n",
        "      <td> Mayor Thomas M. Menino - Government Center</td>\n",
        "      <td> 42.359677</td>\n",
        "      <td>-71.059364</td>\n",
        "    </tr>\n",
        "    <tr>\n",
        "      <th>2</th>\n",
        "      <td> 10</td>\n",
        "      <td> 0.933333</td>\n",
        "      <td> 23</td>\n",
        "      <td>2011-07-28 14:34:00</td>\n",
        "      <td> 23</td>\n",
        "      <td> B00456</td>\n",
        "      <td> Registered</td>\n",
        "      <td>  2108</td>\n",
        "      <td> 1943</td>\n",
        "      <td>   Male</td>\n",
        "      <td> 3</td>\n",
        "      <td> 7</td>\n",
        "      <td> False</td>\n",
        "      <td> 23</td>\n",
        "      <td> Mayor Thomas M. Menino - Government Center</td>\n",
        "      <td> 42.359677</td>\n",
        "      <td>-71.059364</td>\n",
        "    </tr>\n",
        "    <tr>\n",
        "      <th>3</th>\n",
        "      <td> 11</td>\n",
        "      <td> 1.066667</td>\n",
        "      <td> 23</td>\n",
        "      <td>2011-07-28 14:36:00</td>\n",
        "      <td> 23</td>\n",
        "      <td> B00554</td>\n",
        "      <td> Registered</td>\n",
        "      <td>  2116</td>\n",
        "      <td> 1981</td>\n",
        "      <td> Female</td>\n",
        "      <td> 3</td>\n",
        "      <td> 7</td>\n",
        "      <td> False</td>\n",
        "      <td> 23</td>\n",
        "      <td> Mayor Thomas M. Menino - Government Center</td>\n",
        "      <td> 42.359677</td>\n",
        "      <td>-71.059364</td>\n",
        "    </tr>\n",
        "    <tr>\n",
        "      <th>4</th>\n",
        "      <td> 12</td>\n",
        "      <td> 0.200000</td>\n",
        "      <td> 23</td>\n",
        "      <td>2011-07-28 14:37:00</td>\n",
        "      <td> 23</td>\n",
        "      <td> B00554</td>\n",
        "      <td> Registered</td>\n",
        "      <td> 97214</td>\n",
        "      <td> 1983</td>\n",
        "      <td> Female</td>\n",
        "      <td> 3</td>\n",
        "      <td> 7</td>\n",
        "      <td> False</td>\n",
        "      <td> 23</td>\n",
        "      <td> Mayor Thomas M. Menino - Government Center</td>\n",
        "      <td> 42.359677</td>\n",
        "      <td>-71.059364</td>\n",
        "    </tr>\n",
        "  </tbody>\n",
        "</table>\n",
        "</div>"
       ],
       "metadata": {},
       "output_type": "pyout",
       "prompt_number": 162,
       "text": [
        "   id_x  duration  start_station            end_date  end_station bike_nr  \\\n",
        "0     8  0.150000             23 2011-07-28 14:12:00           23  B00468   \n",
        "1     9  3.666667             23 2011-07-28 14:25:00           23  B00554   \n",
        "2    10  0.933333             23 2011-07-28 14:34:00           23  B00456   \n",
        "3    11  1.066667             23 2011-07-28 14:36:00           23  B00554   \n",
        "4    12  0.200000             23 2011-07-28 14:37:00           23  B00554   \n",
        "\n",
        "  subscription_type zip_code  birth_date  gender  dayofweek  month isCasual  \\\n",
        "0        Registered    97217        1976    Male          3      7    False   \n",
        "1        Registered     2215        1966    Male          3      7    False   \n",
        "2        Registered     2108        1943    Male          3      7    False   \n",
        "3        Registered     2116        1981  Female          3      7    False   \n",
        "4        Registered    97214        1983  Female          3      7    False   \n",
        "\n",
        "   id_y                                        name        lat        lng  \n",
        "0    23  Mayor Thomas M. Menino - Government Center  42.359677 -71.059364  \n",
        "1    23  Mayor Thomas M. Menino - Government Center  42.359677 -71.059364  \n",
        "2    23  Mayor Thomas M. Menino - Government Center  42.359677 -71.059364  \n",
        "3    23  Mayor Thomas M. Menino - Government Center  42.359677 -71.059364  \n",
        "4    23  Mayor Thomas M. Menino - Government Center  42.359677 -71.059364  "
       ]
      }
     ],
     "prompt_number": 162
    },
    {
     "cell_type": "markdown",
     "metadata": {},
     "source": [
      "We can check the number of rows in merged to make sure it matches the number of rows in trips:"
     ]
    },
    {
     "cell_type": "code",
     "collapsed": false,
     "input": [
      "print(\"# of rows in merged: %s\" % len(merged))\n",
      "print(\"# of rows in trips: %s\" % len(trips))"
     ],
     "language": "python",
     "metadata": {},
     "outputs": [
      {
       "output_type": "stream",
       "stream": "stdout",
       "text": [
        "# of rows in merged: 551611\n",
        "# of rows in trips: 551611\n"
       ]
      }
     ],
     "prompt_number": 164
    },
    {
     "cell_type": "markdown",
     "metadata": {},
     "source": [
      "Good \u2014 we didn\u2019t lose any observations when merging. Using the names function, we can look at the new variables that were added to the information stored in the `trips` dataframe:"
     ]
    },
    {
     "cell_type": "code",
     "collapsed": false,
     "input": [
      "merged.columns"
     ],
     "language": "python",
     "metadata": {},
     "outputs": [
      {
       "metadata": {},
       "output_type": "pyout",
       "prompt_number": 165,
       "text": [
        "Index(['id_x', 'duration', 'start_station', 'end_date', 'end_station', 'bike_nr', 'subscription_type', 'zip_code', 'birth_date', 'gender', 'dayofweek', 'month', 'isCasual', 'id_y', 'name', 'lat', 'lng'], dtype='object')"
       ]
      }
     ],
     "prompt_number": 165
    },
    {
     "cell_type": "markdown",
     "metadata": {},
     "source": [
      "In addition to the 11 variables we had for each trip, we\u2019ve merged in the `name`, `lat`, and `lng` variables from the `stations` dataframe. We also want to merge in the information for the `end_stations`, so we\u2019ll merge the `merged` dataframe we just created with `stations` again, this time matching the end station variable to the id variable. We can overwrite `merged` with the result of this second merge:"
     ]
    },
    {
     "cell_type": "code",
     "collapsed": false,
     "input": [
      "merged = pd.merge(merged, stations, left_on=\"end_station\", right_on=\"id\")\n",
      "merged.info()"
     ],
     "language": "python",
     "metadata": {},
     "outputs": [
      {
       "output_type": "stream",
       "stream": "stdout",
       "text": [
        "<class 'pandas.core.frame.DataFrame'>\n",
        "Int64Index: 551611 entries, 0 to 551610\n",
        "Data columns (total 21 columns):\n",
        "id_x                 551611 non-null int64\n",
        "duration             551611 non-null float64\n",
        "start_station        551611 non-null float64\n",
        "end_date             551611 non-null datetime64[ns]\n",
        "end_station          551611 non-null float64\n",
        "bike_nr              551611 non-null object\n",
        "subscription_type    551611 non-null object\n",
        "zip_code             355567 non-null object\n",
        "birth_date           352849 non-null float64\n",
        "gender               355567 non-null object\n",
        "dayofweek            551611 non-null int64\n",
        "month                551611 non-null int64\n",
        "isCasual             551611 non-null bool\n",
        "id_y                 551611 non-null int64\n",
        "name_x               551611 non-null object\n",
        "lat_x                551611 non-null float64\n",
        "lng_x                551611 non-null float64\n",
        "id                   551611 non-null int64\n",
        "name_y               551611 non-null object\n",
        "lat_y                551611 non-null float64\n",
        "lng_y                551611 non-null float64\n",
        "dtypes: bool(1), datetime64[ns](1), float64(8), int64(5), object(6)"
       ]
      }
     ],
     "prompt_number": 166
    },
    {
     "cell_type": "markdown",
     "metadata": {},
     "source": [
      "Because the merge function wanted to create a second `name`, `lat`, and `lng` variable for the end station, it renamed these three variables \u2014 `name_x`, `lat_x`, and `lng_x` are for the start location, and `name_y`, `lat_y`, and `lng_y` are for the end location.\n",
      "\n",
      "The next step is to compute the distance for trip. We first select just the columns we need (`lat_x`, `lat_y`, `lng_x`, `lng_y`):"
     ]
    },
    {
     "cell_type": "code",
     "collapsed": false,
     "input": [
      "lat_long = merged[[\"lat_x\", \"lat_y\", \"lng_x\", \"lng_y\"]]\n",
      "lat_long.head()"
     ],
     "language": "python",
     "metadata": {},
     "outputs": [
      {
       "html": [
        "<div style=\"max-height:1000px;max-width:1500px;overflow:auto;\">\n",
        "<table border=\"1\" class=\"dataframe\">\n",
        "  <thead>\n",
        "    <tr style=\"text-align: right;\">\n",
        "      <th></th>\n",
        "      <th>lat_x</th>\n",
        "      <th>lat_y</th>\n",
        "      <th>lng_x</th>\n",
        "      <th>lng_y</th>\n",
        "    </tr>\n",
        "  </thead>\n",
        "  <tbody>\n",
        "    <tr>\n",
        "      <th>0</th>\n",
        "      <td> 42.359677</td>\n",
        "      <td> 42.359677</td>\n",
        "      <td>-71.059364</td>\n",
        "      <td>-71.059364</td>\n",
        "    </tr>\n",
        "    <tr>\n",
        "      <th>1</th>\n",
        "      <td> 42.359677</td>\n",
        "      <td> 42.359677</td>\n",
        "      <td>-71.059364</td>\n",
        "      <td>-71.059364</td>\n",
        "    </tr>\n",
        "    <tr>\n",
        "      <th>2</th>\n",
        "      <td> 42.359677</td>\n",
        "      <td> 42.359677</td>\n",
        "      <td>-71.059364</td>\n",
        "      <td>-71.059364</td>\n",
        "    </tr>\n",
        "    <tr>\n",
        "      <th>3</th>\n",
        "      <td> 42.359677</td>\n",
        "      <td> 42.359677</td>\n",
        "      <td>-71.059364</td>\n",
        "      <td>-71.059364</td>\n",
        "    </tr>\n",
        "    <tr>\n",
        "      <th>4</th>\n",
        "      <td> 42.359677</td>\n",
        "      <td> 42.359677</td>\n",
        "      <td>-71.059364</td>\n",
        "      <td>-71.059364</td>\n",
        "    </tr>\n",
        "  </tbody>\n",
        "</table>\n",
        "</div>"
       ],
       "metadata": {},
       "output_type": "pyout",
       "prompt_number": 167,
       "text": [
        "       lat_x      lat_y      lng_x      lng_y\n",
        "0  42.359677  42.359677 -71.059364 -71.059364\n",
        "1  42.359677  42.359677 -71.059364 -71.059364\n",
        "2  42.359677  42.359677 -71.059364 -71.059364\n",
        "3  42.359677  42.359677 -71.059364 -71.059364\n",
        "4  42.359677  42.359677 -71.059364 -71.059364"
       ]
      }
     ],
     "prompt_number": 167
    },
    {
     "cell_type": "code",
     "collapsed": false,
     "input": [
      "lat_long.describe()"
     ],
     "language": "python",
     "metadata": {},
     "outputs": [
      {
       "html": [
        "<div style=\"max-height:1000px;max-width:1500px;overflow:auto;\">\n",
        "<table border=\"1\" class=\"dataframe\">\n",
        "  <thead>\n",
        "    <tr style=\"text-align: right;\">\n",
        "      <th></th>\n",
        "      <th>lat_x</th>\n",
        "      <th>lat_y</th>\n",
        "      <th>lng_x</th>\n",
        "      <th>lng_y</th>\n",
        "    </tr>\n",
        "  </thead>\n",
        "  <tbody>\n",
        "    <tr>\n",
        "      <th>count</th>\n",
        "      <td> 551611.000000</td>\n",
        "      <td> 551611.000000</td>\n",
        "      <td> 551611.000000</td>\n",
        "      <td> 551611.000000</td>\n",
        "    </tr>\n",
        "    <tr>\n",
        "      <th>mean</th>\n",
        "      <td>     42.351777</td>\n",
        "      <td>     42.351765</td>\n",
        "      <td>    -71.077313</td>\n",
        "      <td>    -71.077530</td>\n",
        "    </tr>\n",
        "    <tr>\n",
        "      <th>std</th>\n",
        "      <td>      0.008823</td>\n",
        "      <td>      0.008814</td>\n",
        "      <td>      0.021644</td>\n",
        "      <td>      0.021891</td>\n",
        "    </tr>\n",
        "    <tr>\n",
        "      <th>min</th>\n",
        "      <td>     42.311819</td>\n",
        "      <td>     42.311819</td>\n",
        "      <td>    -71.146452</td>\n",
        "      <td>    -71.146452</td>\n",
        "    </tr>\n",
        "    <tr>\n",
        "      <th>25%</th>\n",
        "      <td>     42.346171</td>\n",
        "      <td>     42.346171</td>\n",
        "      <td>    -71.089886</td>\n",
        "      <td>    -71.089886</td>\n",
        "    </tr>\n",
        "    <tr>\n",
        "      <th>50%</th>\n",
        "      <td>     42.351313</td>\n",
        "      <td>     42.351146</td>\n",
        "      <td>    -71.074182</td>\n",
        "      <td>    -71.074182</td>\n",
        "    </tr>\n",
        "    <tr>\n",
        "      <th>75%</th>\n",
        "      <td>     42.357247</td>\n",
        "      <td>     42.357247</td>\n",
        "      <td>    -71.059364</td>\n",
        "      <td>    -71.059364</td>\n",
        "    </tr>\n",
        "    <tr>\n",
        "      <th>max</th>\n",
        "      <td>     42.386428</td>\n",
        "      <td>     42.386428</td>\n",
        "      <td>    -71.035705</td>\n",
        "      <td>    -71.035705</td>\n",
        "    </tr>\n",
        "  </tbody>\n",
        "</table>\n",
        "</div>"
       ],
       "metadata": {},
       "output_type": "pyout",
       "prompt_number": 169,
       "text": [
        "               lat_x          lat_y          lng_x          lng_y\n",
        "count  551611.000000  551611.000000  551611.000000  551611.000000\n",
        "mean       42.351777      42.351765     -71.077313     -71.077530\n",
        "std         0.008823       0.008814       0.021644       0.021891\n",
        "min        42.311819      42.311819     -71.146452     -71.146452\n",
        "25%        42.346171      42.346171     -71.089886     -71.089886\n",
        "50%        42.351313      42.351146     -71.074182     -71.074182\n",
        "75%        42.357247      42.357247     -71.059364     -71.059364\n",
        "max        42.386428      42.386428     -71.035705     -71.035705"
       ]
      }
     ],
     "prompt_number": 169
    },
    {
     "cell_type": "markdown",
     "metadata": {},
     "source": [
      "Now that we have our `lat_long` dataframe defined, we need to define our `lat_long_dist` function, which computes the great-circle distance between the start and end locations. It\u2019s usually a bad idea to try to implement such a function yourself using a formula like the Haversine formula for great circle distances, when there are already libraries written for you:"
     ]
    },
    {
     "cell_type": "code",
     "collapsed": false,
     "input": [
      "from mpl_toolkits.basemap import Basemap\n",
      "\n",
      "# Bounding Box (from http://isithackday.com/geoplanet-explorer/index.php?woeid=2373572)\n",
      "# NE 42.404140, -71.063782\n",
      "# SW 42.352360, -71.160721\n",
      "\n",
      "m = Basemap(llcrnrlon=-71.160721, \n",
      "            llcrnrlat=42.352360,\n",
      "            urcrnrlon=-71.063782,\n",
      "            urcrnrlat=42.404140,\n",
      "            epsg=2805, # http://spatialreference.org/ref/epsg/2805/\n",
      "            resolution='f',\n",
      "            suppress_ticks=True)"
     ],
     "language": "python",
     "metadata": {},
     "outputs": [],
     "prompt_number": 171
    },
    {
     "cell_type": "code",
     "collapsed": false,
     "input": [
      "Basemap?"
     ],
     "language": "python",
     "metadata": {},
     "outputs": [],
     "prompt_number": 174
    },
    {
     "cell_type": "markdown",
     "metadata": {},
     "source": [
      "Great -- let's write our function."
     ]
    },
    {
     "cell_type": "code",
     "collapsed": false,
     "input": [
      "from shapely.geometry import Point\n",
      "\n",
      "def lat_long_dist(x):\n",
      "    return Point(m(x['lng_x'], x['lat_x'])).distance(Point(m(x['lng_y'],x['lat_y'])))"
     ],
     "language": "python",
     "metadata": {},
     "outputs": [
      {
       "metadata": {},
       "output_type": "pyout",
       "prompt_number": 172,
       "text": [
        "(39089095.524628796, -2376146.68004296)"
       ]
      }
     ],
     "prompt_number": 172
    },
    {
     "cell_type": "markdown",
     "metadata": {},
     "source": [
      "We want this function to be run on the rows of lat.long, so we can test it on a row. If there are errors, this makes it very manageable to debug, since it's just being called once, on the row you selected."
     ]
    },
    {
     "cell_type": "code",
     "collapsed": false,
     "input": [
      "x = lat_long.ix[1] # extracts the first row from lat_long\n",
      "m(x['lat_x'], x['lng_x'])"
     ],
     "language": "python",
     "metadata": {},
     "outputs": [
      {
       "metadata": {},
       "output_type": "pyout",
       "prompt_number": 173,
       "text": [
        "(39089095.524628796, -2376146.68004296)"
       ]
      }
     ],
     "prompt_number": 173
    },
    {
     "cell_type": "markdown",
     "metadata": {},
     "source": [
      "The function looks like it\u2019s working properly, so now we\u2019ll apply it to the `lat_long` dataframe. We\u2019ll store our result in a variable called `distance`:"
     ]
    },
    {
     "cell_type": "code",
     "collapsed": false,
     "input": [
      "%time distance = lat_long.apply(lat_long_dist,axis=1)\n",
      "distance.head()"
     ],
     "language": "python",
     "metadata": {},
     "outputs": [
      {
       "output_type": "stream",
       "stream": "stdout",
       "text": [
        "CPU times: user 2min 5s, sys: 56.7 ms, total: 2min 5s\n",
        "Wall time: 2min 5s\n"
       ]
      },
      {
       "metadata": {},
       "output_type": "pyout",
       "prompt_number": 177,
       "text": [
        "0    0\n",
        "1    0\n",
        "2    0\n",
        "3    0\n",
        "4    0\n",
        "dtype: float64"
       ]
      }
     ],
     "prompt_number": 177
    },
    {
     "cell_type": "markdown",
     "metadata": {},
     "source": [
      "(This takes a little over 2 minutes on my laptop, so I'll stall by describing the assignment for this session).\n",
      "\n",
      "Awesome -- now that we're done, we can plot the histogram of trip distance"
     ]
    },
    {
     "cell_type": "code",
     "collapsed": false,
     "input": [
      "distance.hist(bins=100)"
     ],
     "language": "python",
     "metadata": {},
     "outputs": [
      {
       "metadata": {},
       "output_type": "pyout",
       "prompt_number": 178,
       "text": [
        "<matplotlib.axes.AxesSubplot at 0xa9beaaec>"
       ]
      },
      {
       "metadata": {},
       "output_type": "display_data",
       "png": "[encoded data removed]",
       "text": [
        "<matplotlib.figure.Figure at 0x8d9450ec>"
       ]
      }
     ],
     "prompt_number": 178
    },
    {
     "cell_type": "markdown",
     "metadata": {},
     "source": [
      "We can see that there are peaks in the distribution of trip durations \u2014 one is at 0, which is trips where the user started and ended at the same station, and the other is trips of length 1 km.\n",
      "\n",
      "Finally, we can copy the distance variable we created into our data frame for use in further analyses."
     ]
    },
    {
     "cell_type": "code",
     "collapsed": false,
     "input": [
      "trips[\"distance\"] = distance"
     ],
     "language": "python",
     "metadata": {},
     "outputs": []
    },
    {
     "cell_type": "markdown",
     "metadata": {},
     "source": [
      "[Switch to Slide 15] We\u2019re going to finish with a final in-class exercise."
     ]
    },
    {
     "cell_type": "markdown",
     "metadata": {},
     "source": [
      "# Assignment 4\n",
      "Hubway charges a variable amount for a bike ride, depending on the duration of the ride. They have the following rates for casual users:\n",
      "\n",
      "    [0, 30) minutes: $0\n",
      "[30, 60) minutes: $2\n",
      "    [60, 420) minutes: $[8*floor(minutes/30)-10]\n",
      "420+ minutes: $100\n",
      "\n",
      "The rate for registered users is 75% that of casual users (e.g. registered users has a max fee of $75). Use the `apply()` function to compute the fee associated with each trip. The fee depends on both the duration of the trip and the registration status of the trip.\n",
      "\n",
      "**Helpful hint** -- if you create a matrix with registration_status and duration, it will because a matrix of text because registration_status is text. It will be easier to work with a matrix of numbers, so you can use this function to build a TRUE/FALSE (1/0) variable for whether the user for each trip is registered:"
     ]
    },
    {
     "cell_type": "code",
     "collapsed": false,
     "input": [
      "trips$is.registered = trips$subscription_type == \"Registered\""
     ],
     "language": "python",
     "metadata": {},
     "outputs": []
    },
    {
     "cell_type": "markdown",
     "metadata": {},
     "source": [
      "**Solution**:"
     ]
    },
    {
     "cell_type": "markdown",
     "metadata": {},
     "source": [
      "For a start, we build a column `is_registered`, which is `True` if a user is registered and `False` if not:"
     ]
    },
    {
     "cell_type": "code",
     "collapsed": false,
     "input": [
      "trips['is_registered'] = (trips.subscription_type == \"Registered\")\n",
      "trips.is_registered"
     ],
     "language": "python",
     "metadata": {},
     "outputs": [
      {
       "metadata": {},
       "output_type": "pyout",
       "prompt_number": 179,
       "text": [
        "start_date\n",
        "2011-07-28 14:12:00    True\n",
        "2011-07-28 14:21:00    True\n",
        "2011-07-28 14:33:00    True\n",
        "...\n",
        "2012-10-02 00:25:00    True\n",
        "2012-10-02 00:29:00    True\n",
        "2012-10-02 00:32:00    True\n",
        "Name: is_registered, Length: 551611"
       ]
      }
     ],
     "prompt_number": 179
    },
    {
     "cell_type": "markdown",
     "metadata": {},
     "source": [
      "Next, we\u2019ll create a *view*, which we name `fee_info`, of our original trips dataframe, by selecting just the variables we need for our computation (`is_registered` and `duration`):"
     ]
    },
    {
     "cell_type": "code",
     "collapsed": false,
     "input": [
      "fee_info = trips[[\"is_registered\",\"duration\"]]\n",
      "fee_info.head()"
     ],
     "language": "python",
     "metadata": {},
     "outputs": [
      {
       "html": [
        "<div style=\"max-height:1000px;max-width:1500px;overflow:auto;\">\n",
        "<table border=\"1\" class=\"dataframe\">\n",
        "  <thead>\n",
        "    <tr style=\"text-align: right;\">\n",
        "      <th></th>\n",
        "      <th>is_registered</th>\n",
        "      <th>duration</th>\n",
        "    </tr>\n",
        "    <tr>\n",
        "      <th>start_date</th>\n",
        "      <th></th>\n",
        "      <th></th>\n",
        "    </tr>\n",
        "  </thead>\n",
        "  <tbody>\n",
        "    <tr>\n",
        "      <th>2011-07-28 14:12:00</th>\n",
        "      <td> True</td>\n",
        "      <td> 0.150000</td>\n",
        "    </tr>\n",
        "    <tr>\n",
        "      <th>2011-07-28 14:21:00</th>\n",
        "      <td> True</td>\n",
        "      <td> 3.666667</td>\n",
        "    </tr>\n",
        "    <tr>\n",
        "      <th>2011-07-28 14:33:00</th>\n",
        "      <td> True</td>\n",
        "      <td> 0.933333</td>\n",
        "    </tr>\n",
        "    <tr>\n",
        "      <th>2011-07-28 14:35:00</th>\n",
        "      <td> True</td>\n",
        "      <td> 1.066667</td>\n",
        "    </tr>\n",
        "    <tr>\n",
        "      <th>2011-07-28 14:37:00</th>\n",
        "      <td> True</td>\n",
        "      <td> 0.200000</td>\n",
        "    </tr>\n",
        "  </tbody>\n",
        "</table>\n",
        "</div>"
       ],
       "metadata": {},
       "output_type": "pyout",
       "prompt_number": 180,
       "text": [
        "                    is_registered  duration\n",
        "start_date                                 \n",
        "2011-07-28 14:12:00          True  0.150000\n",
        "2011-07-28 14:21:00          True  3.666667\n",
        "2011-07-28 14:33:00          True  0.933333\n",
        "2011-07-28 14:35:00          True  1.066667\n",
        "2011-07-28 14:37:00          True  0.200000"
       ]
      }
     ],
     "prompt_number": 180
    },
    {
     "cell_type": "markdown",
     "metadata": {},
     "source": [
      "Next, we\u2019ll fill in the missing parts of the `get_fee` function, which inputs a row of `fee_info` containing the registration status of the user and duration of a single trip. We\u2019ll add the formulae on the slides to compute the base fee based on the trip duration, and we\u2019ll scale the fee based the parameter `multiplier`, which is set based on whether the user is registered."
     ]
    },
    {
     "cell_type": "code",
     "collapsed": false,
     "input": [
      "def get_fee(x, casual_rate=1, registered_rate=0.75):\n",
      "    \"\"\"\n",
      "    We\u2019ll multiply the fee by the multiplier variable.\n",
      "    \"\"\"\n",
      "    if x[\"is_registered\"]:\n",
      "        multiplier = registered_rate\n",
      "    else:\n",
      "        multiplier = casual_rate\n",
      "\n",
      "    if x[\"duration\"] < 30:\n",
      "        return 0*multiplier\n",
      "    elif x[\"duration\"] < 60:\n",
      "        return 2*multiplier\n",
      "    elif x[\"duration\"] < 420:\n",
      "        return (8 * np.floor(x[\"duration\"]/30)-10) * multiplier\n",
      "    else:\n",
      "        return 100*multiplier"
     ],
     "language": "python",
     "metadata": {},
     "outputs": [],
     "prompt_number": 184
    },
    {
     "cell_type": "markdown",
     "metadata": {},
     "source": [
      "We can test it out on a few rows first:"
     ]
    },
    {
     "cell_type": "code",
     "collapsed": false,
     "input": [
      "fee_info.head().apply(get_fee,axis=1)"
     ],
     "language": "python",
     "metadata": {},
     "outputs": [
      {
       "metadata": {},
       "output_type": "pyout",
       "prompt_number": 185,
       "text": [
        "start_date\n",
        "2011-07-28 14:12:00    0\n",
        "2011-07-28 14:21:00    0\n",
        "2011-07-28 14:33:00    0\n",
        "2011-07-28 14:35:00    0\n",
        "2011-07-28 14:37:00    0\n",
        "dtype: float64"
       ]
      }
     ],
     "prompt_number": 185
    },
    {
     "cell_type": "markdown",
     "metadata": {},
     "source": [
      "The trip had a duration of less than one minute, and get.fee correctly identified that there is no fee associated with the trip.\n",
      "\n",
      "Now let\u2019s check which (of the first 50) rows have a non-zero fee:"
     ]
    },
    {
     "cell_type": "code",
     "collapsed": false,
     "input": [
      "head = fee_info.head(50).apply(get_fee,axis=1)\n",
      "rows = np.arange(len(head))[(head > 0).values]\n",
      "rows"
     ],
     "language": "python",
     "metadata": {},
     "outputs": [
      {
       "metadata": {},
       "output_type": "pyout",
       "prompt_number": 202,
       "text": [
        "array([35, 36, 47])"
       ]
      }
     ],
     "prompt_number": 202
    },
    {
     "cell_type": "code",
     "collapsed": false,
     "input": [
      "fee_info.ix[rows,:]"
     ],
     "language": "python",
     "metadata": {},
     "outputs": [
      {
       "html": [
        "<div style=\"max-height:1000px;max-width:1500px;overflow:auto;\">\n",
        "<table border=\"1\" class=\"dataframe\">\n",
        "  <thead>\n",
        "    <tr style=\"text-align: right;\">\n",
        "      <th></th>\n",
        "      <th>is_registered</th>\n",
        "      <th>duration</th>\n",
        "    </tr>\n",
        "    <tr>\n",
        "      <th>start_date</th>\n",
        "      <th></th>\n",
        "      <th></th>\n",
        "    </tr>\n",
        "  </thead>\n",
        "  <tbody>\n",
        "    <tr>\n",
        "      <th>2011-07-28 16:05:00</th>\n",
        "      <td> True</td>\n",
        "      <td> 32.550000</td>\n",
        "    </tr>\n",
        "    <tr>\n",
        "      <th>2011-07-28 16:05:00</th>\n",
        "      <td> True</td>\n",
        "      <td> 33.150000</td>\n",
        "    </tr>\n",
        "    <tr>\n",
        "      <th>2011-07-28 16:15:00</th>\n",
        "      <td> True</td>\n",
        "      <td> 43.083333</td>\n",
        "    </tr>\n",
        "  </tbody>\n",
        "</table>\n",
        "</div>"
       ],
       "metadata": {},
       "output_type": "pyout",
       "prompt_number": 203,
       "text": [
        "                    is_registered   duration\n",
        "start_date                                  \n",
        "2011-07-28 16:05:00          True  32.550000\n",
        "2011-07-28 16:05:00          True  33.150000\n",
        "2011-07-28 16:15:00          True  43.083333"
       ]
      }
     ],
     "prompt_number": 203
    },
    {
     "cell_type": "code",
     "collapsed": false,
     "input": [
      "head.ix[rows]"
     ],
     "language": "python",
     "metadata": {},
     "outputs": [
      {
       "metadata": {},
       "output_type": "pyout",
       "prompt_number": 209,
       "text": [
        "start_date\n",
        "2011-07-28 16:05:00    1.5\n",
        "2011-07-28 16:05:00    1.5\n",
        "2011-07-28 16:15:00    1.5\n",
        "dtype: float64"
       ]
      }
     ],
     "prompt_number": 209
    },
    {
     "cell_type": "markdown",
     "metadata": {},
     "source": [
      "Because the trip duration were between 30 and 60 minutes, there is a base fee of \\$2. However, these users were registered, so instead we calculate their fee as \\$1.50.\n",
      "\n",
      "Now that we feel comfortable `get_fee` is operating properly, we can use apply to create a variable in our trips data frame with the fee for each trip:"
     ]
    },
    {
     "cell_type": "code",
     "collapsed": false,
     "input": [
      "%time trip_fees = trips.apply(get_fee,axis=1)\n",
      "trip_fees"
     ],
     "language": "python",
     "metadata": {},
     "outputs": [
      {
       "output_type": "stream",
       "stream": "stdout",
       "text": [
        "CPU times: user 2min 10s, sys: 247 ms, total: 2min 10s\n",
        "Wall time: 2min 10s\n"
       ]
      },
      {
       "metadata": {},
       "output_type": "pyout",
       "prompt_number": 211,
       "text": [
        "start_date\n",
        "2011-07-28 14:12:00    0\n",
        "2011-07-28 14:21:00    0\n",
        "2011-07-28 14:33:00    0\n",
        "...\n",
        "2012-10-02 00:25:00    0\n",
        "2012-10-02 00:29:00    0\n",
        "2012-10-02 00:32:00    0\n",
        "Length: 551611"
       ]
      }
     ],
     "prompt_number": 211
    },
    {
     "cell_type": "markdown",
     "metadata": {},
     "source": [
      "We can use `sum` to figure out to total fees over the time period of interest:"
     ]
    },
    {
     "cell_type": "code",
     "collapsed": false,
     "input": [
      "trip_fees.sum()"
     ],
     "language": "python",
     "metadata": {},
     "outputs": [
      {
       "metadata": {},
       "output_type": "pyout",
       "prompt_number": 212,
       "text": [
        "704676.5"
       ]
      }
     ],
     "prompt_number": 212
    },
    {
     "cell_type": "code",
     "collapsed": false,
     "input": [
      "# Alternatively\n",
      "sum(trip_fees)"
     ],
     "language": "python",
     "metadata": {},
     "outputs": [
      {
       "metadata": {},
       "output_type": "pyout",
       "prompt_number": 213,
       "text": [
        "704676.5"
       ]
      }
     ],
     "prompt_number": 213
    },
    {
     "cell_type": "markdown",
     "metadata": {},
     "source": [
      "That concludes the module on data wrangling. I hope you all feel more comfortable with cleaning, summarizing, and reshaping your data!"
     ]
    }
   ],
   "metadata": {}
  }
 ]
}