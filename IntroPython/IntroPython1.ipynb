{
 "metadata": {
  "name": "",
  "signature": "sha256:4c991ac70fd3b761ee9713ae6a7db95ce6cf6e0ce63b6794e170f2da741a324c"
 },
 "nbformat": 3,
 "nbformat_minor": 0,
 "worksheets": [
  {
   "cells": [
    {
     "cell_type": "markdown",
     "metadata": {},
     "source": [
      "# Python Fundamentals\n",
      "## Basics: Calculations, Functions, Variables\n",
      "You can use Python as a calculator.  E.g.:"
     ]
    },
    {
     "cell_type": "code",
     "collapsed": false,
     "input": [
      "print(3**(6-4))\n",
      "print(22/7)\n",
      "print(16**(1/4))"
     ],
     "language": "python",
     "metadata": {},
     "outputs": [
      {
       "output_type": "stream",
       "stream": "stdout",
       "text": [
        "9\n",
        "3\n",
        "1\n"
       ]
      }
     ],
     "prompt_number": 1
    },
    {
     "cell_type": "markdown",
     "metadata": {},
     "source": [
      "You can get access to basic math functions by importing the `math` library:"
     ]
    },
    {
     "cell_type": "code",
     "collapsed": false,
     "input": [
      "import math\n",
      "\n",
      "for function in [math.sqrt, abs, math.sin, math.cos, math.exp]:\n",
      "    print(function(math.pi))"
     ],
     "language": "python",
     "metadata": {},
     "outputs": [
      {
       "output_type": "stream",
       "stream": "stdout",
       "text": [
        "1.77245385091\n",
        "3.14159265359\n",
        "1.22464679915e-16\n",
        "-1.0\n",
        "23.1406926328\n"
       ]
      }
     ],
     "prompt_number": 2
    },
    {
     "cell_type": "markdown",
     "metadata": {},
     "source": [
      "The help function can explain certain functions. *E.g. what if we forgot if log was base 10 or natural log?*"
     ]
    },
    {
     "cell_type": "code",
     "collapsed": false,
     "input": [
      "help(math.log)"
     ],
     "language": "python",
     "metadata": {},
     "outputs": [
      {
       "output_type": "stream",
       "stream": "stdout",
       "text": [
        "Help on built-in function log in module math:\n",
        "\n",
        "log(...)\n",
        "    log(x[, base])\n",
        "    \n",
        "    Return the logarithm of x to the given base.\n",
        "    If the base not specified, returns the natural logarithm (base e) of x.\n",
        "\n"
       ]
      }
     ],
     "prompt_number": 3
    },
    {
     "cell_type": "code",
     "collapsed": false,
     "input": [
      "?math.log"
     ],
     "language": "python",
     "metadata": {},
     "outputs": [],
     "prompt_number": 4
    },
    {
     "cell_type": "markdown",
     "metadata": {},
     "source": [
      "You can save values, calculations, or function outputs to variables"
     ]
    },
    {
     "cell_type": "code",
     "collapsed": false,
     "input": [
      "x = 2**3 # we use ** (instead of ^) in Python \n",
      "y = 6"
     ],
     "language": "python",
     "metadata": {},
     "outputs": [],
     "prompt_number": 5
    },
    {
     "cell_type": "markdown",
     "metadata": {},
     "source": [
      "Use just the variable name to display the output"
     ]
    },
    {
     "cell_type": "code",
     "collapsed": false,
     "input": [
      "x"
     ],
     "language": "python",
     "metadata": {},
     "outputs": [
      {
       "metadata": {},
       "output_type": "pyout",
       "prompt_number": 6,
       "text": [
        "8"
       ]
      }
     ],
     "prompt_number": 6
    },
    {
     "cell_type": "code",
     "collapsed": false,
     "input": [
      "y"
     ],
     "language": "python",
     "metadata": {},
     "outputs": [
      {
       "metadata": {},
       "output_type": "pyout",
       "prompt_number": 7,
       "text": [
        "6"
       ]
      }
     ],
     "prompt_number": 7
    },
    {
     "cell_type": "code",
     "collapsed": false,
     "input": [
      "# Note! If you run a script using `%%run` or in a multi-line cell, output will be \n",
      "# suppressed, unless you use the print function\n",
      "x\n",
      "y"
     ],
     "language": "python",
     "metadata": {},
     "outputs": [
      {
       "metadata": {},
       "output_type": "pyout",
       "prompt_number": 8,
       "text": [
        "6"
       ]
      }
     ],
     "prompt_number": 8
    },
    {
     "cell_type": "code",
     "collapsed": false,
     "input": [
      "print(x)\n",
      "print(y)"
     ],
     "language": "python",
     "metadata": {},
     "outputs": [
      {
       "output_type": "stream",
       "stream": "stdout",
       "text": [
        "8\n",
        "6\n"
       ]
      }
     ],
     "prompt_number": 9
    },
    {
     "cell_type": "markdown",
     "metadata": {},
     "source": [
      "## Vectors, Matrices, and DataFrames\n",
      "\n",
      "### NumPy\n",
      "We will be using the `numpy` library for working with vectors and matrices"
     ]
    },
    {
     "cell_type": "code",
     "collapsed": false,
     "input": [
      "import numpy as np"
     ],
     "language": "python",
     "metadata": {},
     "outputs": [],
     "prompt_number": 10
    },
    {
     "cell_type": "markdown",
     "metadata": {},
     "source": [
      "Create a vector of numbers from 1 through 10, access an index, and sum all of them"
     ]
    },
    {
     "cell_type": "code",
     "collapsed": false,
     "input": [
      "z = np.arange(1,11)\n",
      "z[5]"
     ],
     "language": "python",
     "metadata": {},
     "outputs": [
      {
       "metadata": {},
       "output_type": "pyout",
       "prompt_number": 11,
       "text": [
        "6"
       ]
      }
     ],
     "prompt_number": 11
    },
    {
     "cell_type": "code",
     "collapsed": false,
     "input": [
      "sum(z), z**2"
     ],
     "language": "python",
     "metadata": {},
     "outputs": [
      {
       "metadata": {},
       "output_type": "pyout",
       "prompt_number": 12,
       "text": [
        "(55, array([  1,   4,   9,  16,  25,  36,  49,  64,  81, 100]))"
       ]
      }
     ],
     "prompt_number": 12
    },
    {
     "cell_type": "markdown",
     "metadata": {},
     "source": [
      "Create vectors of locations and capacities"
     ]
    },
    {
     "cell_type": "code",
     "collapsed": false,
     "input": [
      "locations = np.array((\"Davis\", \"Porter\", \"Harvard\", \"Central\", \"Kendall\"))\n",
      "capacities = np.array((10, 15, 20, 15, 25))"
     ],
     "language": "python",
     "metadata": {},
     "outputs": [],
     "prompt_number": 13
    },
    {
     "cell_type": "markdown",
     "metadata": {},
     "source": [
      "You can stack the vectors as rows using `np.vstack`:"
     ]
    },
    {
     "cell_type": "code",
     "collapsed": false,
     "input": [
      "np.vstack((locations, capacities))"
     ],
     "language": "python",
     "metadata": {},
     "outputs": [
      {
       "metadata": {},
       "output_type": "pyout",
       "prompt_number": 14,
       "text": [
        "array([['Davis', 'Porter', 'Harvard', 'Central', 'Kendall'],\n",
        "       ['10', '15', '20', '15', '25']], \n",
        "      dtype='|S7')"
       ]
      }
     ],
     "prompt_number": 14
    },
    {
     "cell_type": "markdown",
     "metadata": {},
     "source": [
      "stack the vectors as columns:"
     ]
    },
    {
     "cell_type": "code",
     "collapsed": false,
     "input": [
      "np.dstack((locations, capacities))[0]"
     ],
     "language": "python",
     "metadata": {},
     "outputs": [
      {
       "metadata": {},
       "output_type": "pyout",
       "prompt_number": 15,
       "text": [
        "array([['Davis', '10'],\n",
        "       ['Porter', '15'],\n",
        "       ['Harvard', '20'],\n",
        "       ['Central', '15'],\n",
        "       ['Kendall', '25']], \n",
        "      dtype='|S7')"
       ]
      }
     ],
     "prompt_number": 15
    },
    {
     "cell_type": "markdown",
     "metadata": {},
     "source": [
      "### pandas\n",
      "We will be using pandas for DataFrames and other kinds of panel data"
     ]
    },
    {
     "cell_type": "code",
     "collapsed": false,
     "input": [
      "import pandas as pd"
     ],
     "language": "python",
     "metadata": {},
     "outputs": [],
     "prompt_number": 16
    },
    {
     "cell_type": "code",
     "collapsed": false,
     "input": [
      "df1 = pd.DataFrame({'locations': locations,\n",
      "                    'capacities': capacities})\n",
      "df1"
     ],
     "language": "python",
     "metadata": {},
     "outputs": [
      {
       "html": [
        "<div style=\"max-height:1000px;max-width:1500px;overflow:auto;\">\n",
        "<table border=\"1\" class=\"dataframe\">\n",
        "  <thead>\n",
        "    <tr style=\"text-align: right;\">\n",
        "      <th></th>\n",
        "      <th>capacities</th>\n",
        "      <th>locations</th>\n",
        "    </tr>\n",
        "  </thead>\n",
        "  <tbody>\n",
        "    <tr>\n",
        "      <th>0</th>\n",
        "      <td> 10</td>\n",
        "      <td>   Davis</td>\n",
        "    </tr>\n",
        "    <tr>\n",
        "      <th>1</th>\n",
        "      <td> 15</td>\n",
        "      <td>  Porter</td>\n",
        "    </tr>\n",
        "    <tr>\n",
        "      <th>2</th>\n",
        "      <td> 20</td>\n",
        "      <td> Harvard</td>\n",
        "    </tr>\n",
        "    <tr>\n",
        "      <th>3</th>\n",
        "      <td> 15</td>\n",
        "      <td> Central</td>\n",
        "    </tr>\n",
        "    <tr>\n",
        "      <th>4</th>\n",
        "      <td> 25</td>\n",
        "      <td> Kendall</td>\n",
        "    </tr>\n",
        "  </tbody>\n",
        "</table>\n",
        "</div>"
       ],
       "metadata": {},
       "output_type": "pyout",
       "prompt_number": 17,
       "text": [
        "   capacities locations\n",
        "0          10     Davis\n",
        "1          15    Porter\n",
        "2          20   Harvard\n",
        "3          15   Central\n",
        "4          25   Kendall"
       ]
      }
     ],
     "prompt_number": 17
    },
    {
     "cell_type": "markdown",
     "metadata": {},
     "source": [
      "Add the capacities of another bike rack"
     ]
    },
    {
     "cell_type": "code",
     "collapsed": false,
     "input": [
      "capacities = [15, 10, 10, 5, 5]"
     ],
     "language": "python",
     "metadata": {},
     "outputs": [],
     "prompt_number": 18
    },
    {
     "cell_type": "markdown",
     "metadata": {},
     "source": [
      "Create another data frame"
     ]
    },
    {
     "cell_type": "code",
     "collapsed": false,
     "input": [
      "df2 = pd.DataFrame({'locations': locations,\n",
      "                    'capacities': capacities})\n",
      "df2"
     ],
     "language": "python",
     "metadata": {},
     "outputs": [
      {
       "html": [
        "<div style=\"max-height:1000px;max-width:1500px;overflow:auto;\">\n",
        "<table border=\"1\" class=\"dataframe\">\n",
        "  <thead>\n",
        "    <tr style=\"text-align: right;\">\n",
        "      <th></th>\n",
        "      <th>capacities</th>\n",
        "      <th>locations</th>\n",
        "    </tr>\n",
        "  </thead>\n",
        "  <tbody>\n",
        "    <tr>\n",
        "      <th>0</th>\n",
        "      <td> 15</td>\n",
        "      <td>   Davis</td>\n",
        "    </tr>\n",
        "    <tr>\n",
        "      <th>1</th>\n",
        "      <td> 10</td>\n",
        "      <td>  Porter</td>\n",
        "    </tr>\n",
        "    <tr>\n",
        "      <th>2</th>\n",
        "      <td> 10</td>\n",
        "      <td> Harvard</td>\n",
        "    </tr>\n",
        "    <tr>\n",
        "      <th>3</th>\n",
        "      <td>  5</td>\n",
        "      <td> Central</td>\n",
        "    </tr>\n",
        "    <tr>\n",
        "      <th>4</th>\n",
        "      <td>  5</td>\n",
        "      <td> Kendall</td>\n",
        "    </tr>\n",
        "  </tbody>\n",
        "</table>\n",
        "</div>"
       ],
       "metadata": {},
       "output_type": "pyout",
       "prompt_number": 19,
       "text": [
        "   capacities locations\n",
        "0          15     Davis\n",
        "1          10    Porter\n",
        "2          10   Harvard\n",
        "3           5   Central\n",
        "4           5   Kendall"
       ]
      }
     ],
     "prompt_number": 19
    },
    {
     "cell_type": "markdown",
     "metadata": {},
     "source": [
      "Append rows of the second data frame to those of the first"
     ]
    },
    {
     "cell_type": "code",
     "collapsed": false,
     "input": [
      "df_bikes = df1.append(df2)\n",
      "df_bikes"
     ],
     "language": "python",
     "metadata": {},
     "outputs": [
      {
       "html": [
        "<div style=\"max-height:1000px;max-width:1500px;overflow:auto;\">\n",
        "<table border=\"1\" class=\"dataframe\">\n",
        "  <thead>\n",
        "    <tr style=\"text-align: right;\">\n",
        "      <th></th>\n",
        "      <th>capacities</th>\n",
        "      <th>locations</th>\n",
        "    </tr>\n",
        "  </thead>\n",
        "  <tbody>\n",
        "    <tr>\n",
        "      <th>0</th>\n",
        "      <td> 10</td>\n",
        "      <td>   Davis</td>\n",
        "    </tr>\n",
        "    <tr>\n",
        "      <th>1</th>\n",
        "      <td> 15</td>\n",
        "      <td>  Porter</td>\n",
        "    </tr>\n",
        "    <tr>\n",
        "      <th>2</th>\n",
        "      <td> 20</td>\n",
        "      <td> Harvard</td>\n",
        "    </tr>\n",
        "    <tr>\n",
        "      <th>3</th>\n",
        "      <td> 15</td>\n",
        "      <td> Central</td>\n",
        "    </tr>\n",
        "    <tr>\n",
        "      <th>4</th>\n",
        "      <td> 25</td>\n",
        "      <td> Kendall</td>\n",
        "    </tr>\n",
        "    <tr>\n",
        "      <th>0</th>\n",
        "      <td> 15</td>\n",
        "      <td>   Davis</td>\n",
        "    </tr>\n",
        "    <tr>\n",
        "      <th>1</th>\n",
        "      <td> 10</td>\n",
        "      <td>  Porter</td>\n",
        "    </tr>\n",
        "    <tr>\n",
        "      <th>2</th>\n",
        "      <td> 10</td>\n",
        "      <td> Harvard</td>\n",
        "    </tr>\n",
        "    <tr>\n",
        "      <th>3</th>\n",
        "      <td>  5</td>\n",
        "      <td> Central</td>\n",
        "    </tr>\n",
        "    <tr>\n",
        "      <th>4</th>\n",
        "      <td>  5</td>\n",
        "      <td> Kendall</td>\n",
        "    </tr>\n",
        "  </tbody>\n",
        "</table>\n",
        "</div>"
       ],
       "metadata": {},
       "output_type": "pyout",
       "prompt_number": 20,
       "text": [
        "   capacities locations\n",
        "0          10     Davis\n",
        "1          15    Porter\n",
        "2          20   Harvard\n",
        "3          15   Central\n",
        "4          25   Kendall\n",
        "0          15     Davis\n",
        "1          10    Porter\n",
        "2          10   Harvard\n",
        "3           5   Central\n",
        "4           5   Kendall"
       ]
      }
     ],
     "prompt_number": 20
    },
    {
     "cell_type": "markdown",
     "metadata": {},
     "source": [
      "To extract the column `col` from a data frame `df`, use the command `df[col]` or `df.col` (allows for auto-tab completion)"
     ]
    },
    {
     "cell_type": "code",
     "collapsed": false,
     "input": [
      "df_bikes['locations']"
     ],
     "language": "python",
     "metadata": {},
     "outputs": [
      {
       "metadata": {},
       "output_type": "pyout",
       "prompt_number": 21,
       "text": [
        "0      Davis\n",
        "1     Porter\n",
        "2    Harvard\n",
        "3    Central\n",
        "4    Kendall\n",
        "0      Davis\n",
        "1     Porter\n",
        "2    Harvard\n",
        "3    Central\n",
        "4    Kendall\n",
        "Name: locations, dtype: object"
       ]
      }
     ],
     "prompt_number": 21
    },
    {
     "cell_type": "code",
     "collapsed": false,
     "input": [
      "df_bikes.locations"
     ],
     "language": "python",
     "metadata": {},
     "outputs": [
      {
       "metadata": {},
       "output_type": "pyout",
       "prompt_number": 22,
       "text": [
        "0      Davis\n",
        "1     Porter\n",
        "2    Harvard\n",
        "3    Central\n",
        "4    Kendall\n",
        "0      Davis\n",
        "1     Porter\n",
        "2    Harvard\n",
        "3    Central\n",
        "4    Kendall\n",
        "Name: locations, dtype: object"
       ]
      }
     ],
     "prompt_number": 22
    },
    {
     "cell_type": "markdown",
     "metadata": {},
     "source": [
      "The `describe` method can often give you useful information"
     ]
    },
    {
     "cell_type": "code",
     "collapsed": false,
     "input": [
      "df_bikes.describe() # doesn't describe categorical data (the way that it does in R) yet"
     ],
     "language": "python",
     "metadata": {},
     "outputs": [
      {
       "html": [
        "<div style=\"max-height:1000px;max-width:1500px;overflow:auto;\">\n",
        "<table border=\"1\" class=\"dataframe\">\n",
        "  <thead>\n",
        "    <tr style=\"text-align: right;\">\n",
        "      <th></th>\n",
        "      <th>capacities</th>\n",
        "    </tr>\n",
        "  </thead>\n",
        "  <tbody>\n",
        "    <tr>\n",
        "      <th>count</th>\n",
        "      <td> 10.000000</td>\n",
        "    </tr>\n",
        "    <tr>\n",
        "      <th>mean</th>\n",
        "      <td> 13.000000</td>\n",
        "    </tr>\n",
        "    <tr>\n",
        "      <th>std</th>\n",
        "      <td>  6.324555</td>\n",
        "    </tr>\n",
        "    <tr>\n",
        "      <th>min</th>\n",
        "      <td>  5.000000</td>\n",
        "    </tr>\n",
        "    <tr>\n",
        "      <th>25%</th>\n",
        "      <td> 10.000000</td>\n",
        "    </tr>\n",
        "    <tr>\n",
        "      <th>50%</th>\n",
        "      <td> 12.500000</td>\n",
        "    </tr>\n",
        "    <tr>\n",
        "      <th>75%</th>\n",
        "      <td> 15.000000</td>\n",
        "    </tr>\n",
        "    <tr>\n",
        "      <th>max</th>\n",
        "      <td> 25.000000</td>\n",
        "    </tr>\n",
        "  </tbody>\n",
        "</table>\n",
        "</div>"
       ],
       "metadata": {},
       "output_type": "pyout",
       "prompt_number": 23,
       "text": [
        "       capacities\n",
        "count   10.000000\n",
        "mean    13.000000\n",
        "std      6.324555\n",
        "min      5.000000\n",
        "25%     10.000000\n",
        "50%     12.500000\n",
        "75%     15.000000\n",
        "max     25.000000"
       ]
      }
     ],
     "prompt_number": 23
    },
    {
     "cell_type": "code",
     "collapsed": false,
     "input": [
      "df_bikes"
     ],
     "language": "python",
     "metadata": {},
     "outputs": [
      {
       "html": [
        "<div style=\"max-height:1000px;max-width:1500px;overflow:auto;\">\n",
        "<table border=\"1\" class=\"dataframe\">\n",
        "  <thead>\n",
        "    <tr style=\"text-align: right;\">\n",
        "      <th></th>\n",
        "      <th>capacities</th>\n",
        "      <th>locations</th>\n",
        "    </tr>\n",
        "  </thead>\n",
        "  <tbody>\n",
        "    <tr>\n",
        "      <th>0</th>\n",
        "      <td> 10</td>\n",
        "      <td>   Davis</td>\n",
        "    </tr>\n",
        "    <tr>\n",
        "      <th>1</th>\n",
        "      <td> 15</td>\n",
        "      <td>  Porter</td>\n",
        "    </tr>\n",
        "    <tr>\n",
        "      <th>2</th>\n",
        "      <td> 20</td>\n",
        "      <td> Harvard</td>\n",
        "    </tr>\n",
        "    <tr>\n",
        "      <th>3</th>\n",
        "      <td> 15</td>\n",
        "      <td> Central</td>\n",
        "    </tr>\n",
        "    <tr>\n",
        "      <th>4</th>\n",
        "      <td> 25</td>\n",
        "      <td> Kendall</td>\n",
        "    </tr>\n",
        "    <tr>\n",
        "      <th>0</th>\n",
        "      <td> 15</td>\n",
        "      <td>   Davis</td>\n",
        "    </tr>\n",
        "    <tr>\n",
        "      <th>1</th>\n",
        "      <td> 10</td>\n",
        "      <td>  Porter</td>\n",
        "    </tr>\n",
        "    <tr>\n",
        "      <th>2</th>\n",
        "      <td> 10</td>\n",
        "      <td> Harvard</td>\n",
        "    </tr>\n",
        "    <tr>\n",
        "      <th>3</th>\n",
        "      <td>  5</td>\n",
        "      <td> Central</td>\n",
        "    </tr>\n",
        "    <tr>\n",
        "      <th>4</th>\n",
        "      <td>  5</td>\n",
        "      <td> Kendall</td>\n",
        "    </tr>\n",
        "  </tbody>\n",
        "</table>\n",
        "</div>"
       ],
       "metadata": {},
       "output_type": "pyout",
       "prompt_number": 24,
       "text": [
        "   capacities locations\n",
        "0          10     Davis\n",
        "1          15    Porter\n",
        "2          20   Harvard\n",
        "3          15   Central\n",
        "4          25   Kendall\n",
        "0          15     Davis\n",
        "1          10    Porter\n",
        "2          10   Harvard\n",
        "3           5   Central\n",
        "4           5   Kendall"
       ]
      }
     ],
     "prompt_number": 24
    },
    {
     "cell_type": "markdown",
     "metadata": {},
     "source": [
      "You can perform row-wise operations on individual columns:"
     ]
    },
    {
     "cell_type": "code",
     "collapsed": false,
     "input": [
      "df_bikes.locations == 'Kendall'"
     ],
     "language": "python",
     "metadata": {},
     "outputs": [
      {
       "metadata": {},
       "output_type": "pyout",
       "prompt_number": 25,
       "text": [
        "0    False\n",
        "1    False\n",
        "2    False\n",
        "3    False\n",
        "4     True\n",
        "0    False\n",
        "1    False\n",
        "2    False\n",
        "3    False\n",
        "4     True\n",
        "Name: locations, dtype: bool"
       ]
      }
     ],
     "prompt_number": 25
    },
    {
     "cell_type": "markdown",
     "metadata": {},
     "source": [
      "And use the result as the boolean index to extract rows of interest from a data frame:"
     ]
    },
    {
     "cell_type": "code",
     "collapsed": false,
     "input": [
      "bikes_kendall = df_bikes[df_bikes.locations == 'Kendall']\n",
      "bikes_kendall"
     ],
     "language": "python",
     "metadata": {},
     "outputs": [
      {
       "html": [
        "<div style=\"max-height:1000px;max-width:1500px;overflow:auto;\">\n",
        "<table border=\"1\" class=\"dataframe\">\n",
        "  <thead>\n",
        "    <tr style=\"text-align: right;\">\n",
        "      <th></th>\n",
        "      <th>capacities</th>\n",
        "      <th>locations</th>\n",
        "    </tr>\n",
        "  </thead>\n",
        "  <tbody>\n",
        "    <tr>\n",
        "      <th>4</th>\n",
        "      <td> 25</td>\n",
        "      <td> Kendall</td>\n",
        "    </tr>\n",
        "    <tr>\n",
        "      <th>4</th>\n",
        "      <td>  5</td>\n",
        "      <td> Kendall</td>\n",
        "    </tr>\n",
        "  </tbody>\n",
        "</table>\n",
        "</div>"
       ],
       "metadata": {},
       "output_type": "pyout",
       "prompt_number": 26,
       "text": [
        "   capacities locations\n",
        "4          25   Kendall\n",
        "4           5   Kendall"
       ]
      }
     ],
     "prompt_number": 26
    },
    {
     "cell_type": "markdown",
     "metadata": {},
     "source": [
      "Find the total bike capacity at Kendall:"
     ]
    },
    {
     "cell_type": "code",
     "collapsed": false,
     "input": [
      "bikes_kendall.capacities.sum()"
     ],
     "language": "python",
     "metadata": {},
     "outputs": [
      {
       "metadata": {},
       "output_type": "pyout",
       "prompt_number": 27,
       "text": [
        "30"
       ]
      }
     ],
     "prompt_number": 27
    },
    {
     "cell_type": "markdown",
     "metadata": {},
     "source": [
      "For more, see: [Data Wrangling with Pandas](http://nbviewer.ipython.org/urls/gist.github.com/fonnesbeck/5850413/raw/3a9406c73365480bc58d5e75bc80f7962243ba17/2.+Data+Wrangling+with+Pandas.ipynb)"
     ]
    },
    {
     "cell_type": "markdown",
     "metadata": {},
     "source": [
      "## Working with CSV files"
     ]
    },
    {
     "cell_type": "code",
     "collapsed": false,
     "input": [
      "CEOcomp = pd.read_csv(\"CEOcomp.csv\")\n",
      "CEOcomp"
     ],
     "language": "python",
     "metadata": {},
     "outputs": [
      {
       "html": [
        "<div style=\"max-height:1000px;max-width:1500px;overflow:auto;\">\n",
        "<table border=\"1\" class=\"dataframe\">\n",
        "  <thead>\n",
        "    <tr style=\"text-align: right;\">\n",
        "      <th></th>\n",
        "      <th>CompanyNumber</th>\n",
        "      <th>TotalCompensation</th>\n",
        "      <th>Years</th>\n",
        "      <th>ChangeStockPrice</th>\n",
        "      <th>ChangeCompanySales</th>\n",
        "      <th>MBA</th>\n",
        "    </tr>\n",
        "  </thead>\n",
        "  <tbody>\n",
        "    <tr>\n",
        "      <th>0 </th>\n",
        "      <td>  1</td>\n",
        "      <td> 1530</td>\n",
        "      <td>  7</td>\n",
        "      <td>  48</td>\n",
        "      <td>  89</td>\n",
        "      <td> 1</td>\n",
        "    </tr>\n",
        "    <tr>\n",
        "      <th>1 </th>\n",
        "      <td>  2</td>\n",
        "      <td> 1117</td>\n",
        "      <td>  6</td>\n",
        "      <td>  35</td>\n",
        "      <td>  19</td>\n",
        "      <td> 1</td>\n",
        "    </tr>\n",
        "    <tr>\n",
        "      <th>2 </th>\n",
        "      <td>  3</td>\n",
        "      <td>  602</td>\n",
        "      <td>  3</td>\n",
        "      <td>   9</td>\n",
        "      <td>  24</td>\n",
        "      <td> 0</td>\n",
        "    </tr>\n",
        "    <tr>\n",
        "      <th>3 </th>\n",
        "      <td>  4</td>\n",
        "      <td> 1170</td>\n",
        "      <td>  6</td>\n",
        "      <td>  37</td>\n",
        "      <td>   8</td>\n",
        "      <td> 1</td>\n",
        "    </tr>\n",
        "    <tr>\n",
        "      <th>4 </th>\n",
        "      <td>  5</td>\n",
        "      <td> 1086</td>\n",
        "      <td>  6</td>\n",
        "      <td>  34</td>\n",
        "      <td>  28</td>\n",
        "      <td> 0</td>\n",
        "    </tr>\n",
        "    <tr>\n",
        "      <th>5 </th>\n",
        "      <td>  6</td>\n",
        "      <td> 2536</td>\n",
        "      <td>  9</td>\n",
        "      <td>  81</td>\n",
        "      <td> -16</td>\n",
        "      <td> 1</td>\n",
        "    </tr>\n",
        "    <tr>\n",
        "      <th>6 </th>\n",
        "      <td>  7</td>\n",
        "      <td>  300</td>\n",
        "      <td>  2</td>\n",
        "      <td> -17</td>\n",
        "      <td> -17</td>\n",
        "      <td> 0</td>\n",
        "    </tr>\n",
        "    <tr>\n",
        "      <th>7 </th>\n",
        "      <td>  8</td>\n",
        "      <td>  670</td>\n",
        "      <td>  2</td>\n",
        "      <td> -15</td>\n",
        "      <td> -67</td>\n",
        "      <td> 1</td>\n",
        "    </tr>\n",
        "    <tr>\n",
        "      <th>8 </th>\n",
        "      <td>  9</td>\n",
        "      <td>  250</td>\n",
        "      <td>  0</td>\n",
        "      <td> -52</td>\n",
        "      <td>  49</td>\n",
        "      <td> 0</td>\n",
        "    </tr>\n",
        "    <tr>\n",
        "      <th>9 </th>\n",
        "      <td> 10</td>\n",
        "      <td> 2413</td>\n",
        "      <td> 10</td>\n",
        "      <td> 109</td>\n",
        "      <td> -27</td>\n",
        "      <td> 1</td>\n",
        "    </tr>\n",
        "    <tr>\n",
        "      <th>10</th>\n",
        "      <td> 11</td>\n",
        "      <td> 2707</td>\n",
        "      <td>  7</td>\n",
        "      <td>  44</td>\n",
        "      <td>  26</td>\n",
        "      <td> 1</td>\n",
        "    </tr>\n",
        "    <tr>\n",
        "      <th>11</th>\n",
        "      <td> 12</td>\n",
        "      <td>  341</td>\n",
        "      <td>  1</td>\n",
        "      <td>  28</td>\n",
        "      <td>  -7</td>\n",
        "      <td> 0</td>\n",
        "    </tr>\n",
        "    <tr>\n",
        "      <th>12</th>\n",
        "      <td> 13</td>\n",
        "      <td>  734</td>\n",
        "      <td>  4</td>\n",
        "      <td>  10</td>\n",
        "      <td>  -7</td>\n",
        "      <td> 0</td>\n",
        "    </tr>\n",
        "    <tr>\n",
        "      <th>13</th>\n",
        "      <td> 14</td>\n",
        "      <td> 2368</td>\n",
        "      <td>  8</td>\n",
        "      <td>  16</td>\n",
        "      <td>  -4</td>\n",
        "      <td> 0</td>\n",
        "    </tr>\n",
        "    <tr>\n",
        "      <th>14</th>\n",
        "      <td> 15</td>\n",
        "      <td>  743</td>\n",
        "      <td>  4</td>\n",
        "      <td>  11</td>\n",
        "      <td>  50</td>\n",
        "      <td> 1</td>\n",
        "    </tr>\n",
        "    <tr>\n",
        "      <th>15</th>\n",
        "      <td> 16</td>\n",
        "      <td>  898</td>\n",
        "      <td>  7</td>\n",
        "      <td> -21</td>\n",
        "      <td> -20</td>\n",
        "      <td> 1</td>\n",
        "    </tr>\n",
        "    <tr>\n",
        "      <th>16</th>\n",
        "      <td> 17</td>\n",
        "      <td>  498</td>\n",
        "      <td>  4</td>\n",
        "      <td>  16</td>\n",
        "      <td> -24</td>\n",
        "      <td> 0</td>\n",
        "    </tr>\n",
        "    <tr>\n",
        "      <th>17</th>\n",
        "      <td> 18</td>\n",
        "      <td>  250</td>\n",
        "      <td>  2</td>\n",
        "      <td> -10</td>\n",
        "      <td>  64</td>\n",
        "      <td> 0</td>\n",
        "    </tr>\n",
        "    <tr>\n",
        "      <th>18</th>\n",
        "      <td> 19</td>\n",
        "      <td> 1388</td>\n",
        "      <td>  4</td>\n",
        "      <td>   8</td>\n",
        "      <td> -58</td>\n",
        "      <td> 1</td>\n",
        "    </tr>\n",
        "    <tr>\n",
        "      <th>19</th>\n",
        "      <td> 20</td>\n",
        "      <td>  898</td>\n",
        "      <td>  5</td>\n",
        "      <td>  28</td>\n",
        "      <td> -73</td>\n",
        "      <td> 1</td>\n",
        "    </tr>\n",
        "    <tr>\n",
        "      <th>20</th>\n",
        "      <td> 21</td>\n",
        "      <td>  408</td>\n",
        "      <td>  4</td>\n",
        "      <td>  13</td>\n",
        "      <td>  31</td>\n",
        "      <td> 1</td>\n",
        "    </tr>\n",
        "    <tr>\n",
        "      <th>21</th>\n",
        "      <td> 22</td>\n",
        "      <td> 1091</td>\n",
        "      <td>  6</td>\n",
        "      <td>  34</td>\n",
        "      <td>  66</td>\n",
        "      <td> 0</td>\n",
        "    </tr>\n",
        "    <tr>\n",
        "      <th>22</th>\n",
        "      <td> 23</td>\n",
        "      <td> 1550</td>\n",
        "      <td>  7</td>\n",
        "      <td>  49</td>\n",
        "      <td>  -4</td>\n",
        "      <td> 1</td>\n",
        "    </tr>\n",
        "    <tr>\n",
        "      <th>23</th>\n",
        "      <td> 24</td>\n",
        "      <td>  832</td>\n",
        "      <td>  5</td>\n",
        "      <td>  26</td>\n",
        "      <td>  55</td>\n",
        "      <td> 0</td>\n",
        "    </tr>\n",
        "    <tr>\n",
        "      <th>24</th>\n",
        "      <td> 25</td>\n",
        "      <td> 1462</td>\n",
        "      <td>  7</td>\n",
        "      <td>  46</td>\n",
        "      <td>  10</td>\n",
        "      <td> 1</td>\n",
        "    </tr>\n",
        "    <tr>\n",
        "      <th>25</th>\n",
        "      <td> 26</td>\n",
        "      <td> 1456</td>\n",
        "      <td>  7</td>\n",
        "      <td>  46</td>\n",
        "      <td>  -5</td>\n",
        "      <td> 1</td>\n",
        "    </tr>\n",
        "    <tr>\n",
        "      <th>26</th>\n",
        "      <td> 27</td>\n",
        "      <td> 1984</td>\n",
        "      <td>  8</td>\n",
        "      <td>  63</td>\n",
        "      <td>  28</td>\n",
        "      <td> 1</td>\n",
        "    </tr>\n",
        "    <tr>\n",
        "      <th>27</th>\n",
        "      <td> 28</td>\n",
        "      <td> 1493</td>\n",
        "      <td> 10</td>\n",
        "      <td>  12</td>\n",
        "      <td> -36</td>\n",
        "      <td> 0</td>\n",
        "    </tr>\n",
        "    <tr>\n",
        "      <th>28</th>\n",
        "      <td> 29</td>\n",
        "      <td> 2021</td>\n",
        "      <td>  7</td>\n",
        "      <td>  48</td>\n",
        "      <td>  72</td>\n",
        "      <td> 1</td>\n",
        "    </tr>\n",
        "    <tr>\n",
        "      <th>29</th>\n",
        "      <td> 30</td>\n",
        "      <td> 2871</td>\n",
        "      <td>  8</td>\n",
        "      <td>   7</td>\n",
        "      <td>   5</td>\n",
        "      <td> 1</td>\n",
        "    </tr>\n",
        "    <tr>\n",
        "      <th>30</th>\n",
        "      <td> 31</td>\n",
        "      <td>  245</td>\n",
        "      <td>  0</td>\n",
        "      <td> -58</td>\n",
        "      <td> -16</td>\n",
        "      <td> 1</td>\n",
        "    </tr>\n",
        "    <tr>\n",
        "      <th>31</th>\n",
        "      <td> 32</td>\n",
        "      <td> 3217</td>\n",
        "      <td> 11</td>\n",
        "      <td> 102</td>\n",
        "      <td>  51</td>\n",
        "      <td> 1</td>\n",
        "    </tr>\n",
        "    <tr>\n",
        "      <th>32</th>\n",
        "      <td> 33</td>\n",
        "      <td> 1315</td>\n",
        "      <td>  7</td>\n",
        "      <td>  42</td>\n",
        "      <td>  -7</td>\n",
        "      <td> 0</td>\n",
        "    </tr>\n",
        "    <tr>\n",
        "      <th>33</th>\n",
        "      <td> 34</td>\n",
        "      <td> 1730</td>\n",
        "      <td>  9</td>\n",
        "      <td>  55</td>\n",
        "      <td> 122</td>\n",
        "      <td> 1</td>\n",
        "    </tr>\n",
        "    <tr>\n",
        "      <th>34</th>\n",
        "      <td> 35</td>\n",
        "      <td>  260</td>\n",
        "      <td>  0</td>\n",
        "      <td> -54</td>\n",
        "      <td> -41</td>\n",
        "      <td> 1</td>\n",
        "    </tr>\n",
        "    <tr>\n",
        "      <th>35</th>\n",
        "      <td> 36</td>\n",
        "      <td>  250</td>\n",
        "      <td>  2</td>\n",
        "      <td> -17</td>\n",
        "      <td> -35</td>\n",
        "      <td> 0</td>\n",
        "    </tr>\n",
        "    <tr>\n",
        "      <th>36</th>\n",
        "      <td> 37</td>\n",
        "      <td>  718</td>\n",
        "      <td>  5</td>\n",
        "      <td>  23</td>\n",
        "      <td>  19</td>\n",
        "      <td> 1</td>\n",
        "    </tr>\n",
        "    <tr>\n",
        "      <th>37</th>\n",
        "      <td> 38</td>\n",
        "      <td> 1593</td>\n",
        "      <td>  8</td>\n",
        "      <td>  66</td>\n",
        "      <td>  76</td>\n",
        "      <td> 1</td>\n",
        "    </tr>\n",
        "    <tr>\n",
        "      <th>38</th>\n",
        "      <td> 39</td>\n",
        "      <td> 1905</td>\n",
        "      <td>  8</td>\n",
        "      <td>  67</td>\n",
        "      <td> -48</td>\n",
        "      <td> 1</td>\n",
        "    </tr>\n",
        "    <tr>\n",
        "      <th>39</th>\n",
        "      <td> 40</td>\n",
        "      <td> 2283</td>\n",
        "      <td>  5</td>\n",
        "      <td>  21</td>\n",
        "      <td>  64</td>\n",
        "      <td> 1</td>\n",
        "    </tr>\n",
        "    <tr>\n",
        "      <th>40</th>\n",
        "      <td> 41</td>\n",
        "      <td> 2253</td>\n",
        "      <td>  7</td>\n",
        "      <td>  46</td>\n",
        "      <td> 104</td>\n",
        "      <td> 1</td>\n",
        "    </tr>\n",
        "    <tr>\n",
        "      <th>41</th>\n",
        "      <td> 42</td>\n",
        "      <td>  254</td>\n",
        "      <td>  0</td>\n",
        "      <td> -41</td>\n",
        "      <td>  99</td>\n",
        "      <td> 0</td>\n",
        "    </tr>\n",
        "    <tr>\n",
        "      <th>42</th>\n",
        "      <td> 43</td>\n",
        "      <td> 1883</td>\n",
        "      <td>  8</td>\n",
        "      <td>  60</td>\n",
        "      <td> -12</td>\n",
        "      <td> 1</td>\n",
        "    </tr>\n",
        "    <tr>\n",
        "      <th>43</th>\n",
        "      <td> 44</td>\n",
        "      <td> 1501</td>\n",
        "      <td>  5</td>\n",
        "      <td>  10</td>\n",
        "      <td>  20</td>\n",
        "      <td> 1</td>\n",
        "    </tr>\n",
        "    <tr>\n",
        "      <th>44</th>\n",
        "      <td> 45</td>\n",
        "      <td>  386</td>\n",
        "      <td>  0</td>\n",
        "      <td> -17</td>\n",
        "      <td> -18</td>\n",
        "      <td> 0</td>\n",
        "    </tr>\n",
        "    <tr>\n",
        "      <th>45</th>\n",
        "      <td> 46</td>\n",
        "      <td> 2181</td>\n",
        "      <td> 11</td>\n",
        "      <td>  37</td>\n",
        "      <td>  27</td>\n",
        "      <td> 1</td>\n",
        "    </tr>\n",
        "    <tr>\n",
        "      <th>46</th>\n",
        "      <td> 47</td>\n",
        "      <td> 1766</td>\n",
        "      <td>  6</td>\n",
        "      <td>  40</td>\n",
        "      <td>  41</td>\n",
        "      <td> 1</td>\n",
        "    </tr>\n",
        "    <tr>\n",
        "      <th>47</th>\n",
        "      <td> 48</td>\n",
        "      <td> 1897</td>\n",
        "      <td>  8</td>\n",
        "      <td> -24</td>\n",
        "      <td> -41</td>\n",
        "      <td> 1</td>\n",
        "    </tr>\n",
        "    <tr>\n",
        "      <th>48</th>\n",
        "      <td> 49</td>\n",
        "      <td> 1157</td>\n",
        "      <td>  5</td>\n",
        "      <td>  21</td>\n",
        "      <td>  87</td>\n",
        "      <td> 1</td>\n",
        "    </tr>\n",
        "    <tr>\n",
        "      <th>49</th>\n",
        "      <td> 50</td>\n",
        "      <td>  246</td>\n",
        "      <td>  3</td>\n",
        "      <td>   1</td>\n",
        "      <td> -34</td>\n",
        "      <td> 0</td>\n",
        "    </tr>\n",
        "  </tbody>\n",
        "</table>\n",
        "</div>"
       ],
       "metadata": {},
       "output_type": "pyout",
       "prompt_number": 28,
       "text": [
        "    CompanyNumber  TotalCompensation  Years  ChangeStockPrice  \\\n",
        "0               1               1530      7                48   \n",
        "1               2               1117      6                35   \n",
        "2               3                602      3                 9   \n",
        "3               4               1170      6                37   \n",
        "4               5               1086      6                34   \n",
        "5               6               2536      9                81   \n",
        "6               7                300      2               -17   \n",
        "7               8                670      2               -15   \n",
        "8               9                250      0               -52   \n",
        "9              10               2413     10               109   \n",
        "10             11               2707      7                44   \n",
        "11             12                341      1                28   \n",
        "12             13                734      4                10   \n",
        "13             14               2368      8                16   \n",
        "14             15                743      4                11   \n",
        "15             16                898      7               -21   \n",
        "16             17                498      4                16   \n",
        "17             18                250      2               -10   \n",
        "18             19               1388      4                 8   \n",
        "19             20                898      5                28   \n",
        "20             21                408      4                13   \n",
        "21             22               1091      6                34   \n",
        "22             23               1550      7                49   \n",
        "23             24                832      5                26   \n",
        "24             25               1462      7                46   \n",
        "25             26               1456      7                46   \n",
        "26             27               1984      8                63   \n",
        "27             28               1493     10                12   \n",
        "28             29               2021      7                48   \n",
        "29             30               2871      8                 7   \n",
        "30             31                245      0               -58   \n",
        "31             32               3217     11               102   \n",
        "32             33               1315      7                42   \n",
        "33             34               1730      9                55   \n",
        "34             35                260      0               -54   \n",
        "35             36                250      2               -17   \n",
        "36             37                718      5                23   \n",
        "37             38               1593      8                66   \n",
        "38             39               1905      8                67   \n",
        "39             40               2283      5                21   \n",
        "40             41               2253      7                46   \n",
        "41             42                254      0               -41   \n",
        "42             43               1883      8                60   \n",
        "43             44               1501      5                10   \n",
        "44             45                386      0               -17   \n",
        "45             46               2181     11                37   \n",
        "46             47               1766      6                40   \n",
        "47             48               1897      8               -24   \n",
        "48             49               1157      5                21   \n",
        "49             50                246      3                 1   \n",
        "\n",
        "    ChangeCompanySales  MBA  \n",
        "0                   89    1  \n",
        "1                   19    1  \n",
        "2                   24    0  \n",
        "3                    8    1  \n",
        "4                   28    0  \n",
        "5                  -16    1  \n",
        "6                  -17    0  \n",
        "7                  -67    1  \n",
        "8                   49    0  \n",
        "9                  -27    1  \n",
        "10                  26    1  \n",
        "11                  -7    0  \n",
        "12                  -7    0  \n",
        "13                  -4    0  \n",
        "14                  50    1  \n",
        "15                 -20    1  \n",
        "16                 -24    0  \n",
        "17                  64    0  \n",
        "18                 -58    1  \n",
        "19                 -73    1  \n",
        "20                  31    1  \n",
        "21                  66    0  \n",
        "22                  -4    1  \n",
        "23                  55    0  \n",
        "24                  10    1  \n",
        "25                  -5    1  \n",
        "26                  28    1  \n",
        "27                 -36    0  \n",
        "28                  72    1  \n",
        "29                   5    1  \n",
        "30                 -16    1  \n",
        "31                  51    1  \n",
        "32                  -7    0  \n",
        "33                 122    1  \n",
        "34                 -41    1  \n",
        "35                 -35    0  \n",
        "36                  19    1  \n",
        "37                  76    1  \n",
        "38                 -48    1  \n",
        "39                  64    1  \n",
        "40                 104    1  \n",
        "41                  99    0  \n",
        "42                 -12    1  \n",
        "43                  20    1  \n",
        "44                 -18    0  \n",
        "45                  27    1  \n",
        "46                  41    1  \n",
        "47                 -41    1  \n",
        "48                  87    1  \n",
        "49                 -34    0  "
       ]
      }
     ],
     "prompt_number": 28
    },
    {
     "cell_type": "markdown",
     "metadata": {},
     "source": [
      "You can inspect the columns of the dataframe (for bigger datasets):"
     ]
    },
    {
     "cell_type": "code",
     "collapsed": false,
     "input": [
      "CEOcomp.columns"
     ],
     "language": "python",
     "metadata": {},
     "outputs": [
      {
       "metadata": {},
       "output_type": "pyout",
       "prompt_number": 29,
       "text": [
        "Index([u'CompanyNumber', u'TotalCompensation', u'Years', u'ChangeStockPrice', u'ChangeCompanySales', u'MBA'], dtype='object')"
       ]
      }
     ],
     "prompt_number": 29
    },
    {
     "cell_type": "markdown",
     "metadata": {},
     "source": [
      "As before, you can extract columns of interest:"
     ]
    },
    {
     "cell_type": "code",
     "collapsed": false,
     "input": [
      "CEOcomp.CompanyNumber # equivalently: CEOcomp['CompanyNumber']"
     ],
     "language": "python",
     "metadata": {},
     "outputs": [
      {
       "metadata": {},
       "output_type": "pyout",
       "prompt_number": 30,
       "text": [
        "0      1\n",
        "1      2\n",
        "2      3\n",
        "3      4\n",
        "4      5\n",
        "5      6\n",
        "6      7\n",
        "7      8\n",
        "8      9\n",
        "9     10\n",
        "10    11\n",
        "11    12\n",
        "12    13\n",
        "13    14\n",
        "14    15\n",
        "15    16\n",
        "16    17\n",
        "17    18\n",
        "18    19\n",
        "19    20\n",
        "20    21\n",
        "21    22\n",
        "22    23\n",
        "23    24\n",
        "24    25\n",
        "25    26\n",
        "26    27\n",
        "27    28\n",
        "28    29\n",
        "29    30\n",
        "30    31\n",
        "31    32\n",
        "32    33\n",
        "33    34\n",
        "34    35\n",
        "35    36\n",
        "36    37\n",
        "37    38\n",
        "38    39\n",
        "39    40\n",
        "40    41\n",
        "41    42\n",
        "42    43\n",
        "43    44\n",
        "44    45\n",
        "45    46\n",
        "46    47\n",
        "47    48\n",
        "48    49\n",
        "49    50\n",
        "Name: CompanyNumber, dtype: int64"
       ]
      }
     ],
     "prompt_number": 30
    },
    {
     "cell_type": "markdown",
     "metadata": {},
     "source": [
      "You can also select subsets of columns:"
     ]
    },
    {
     "cell_type": "code",
     "collapsed": false,
     "input": [
      "CEOcomp[['Years', 'TotalCompensation', 'ChangeStockPrice']] # observe: the order of the column names affects the result here"
     ],
     "language": "python",
     "metadata": {},
     "outputs": [
      {
       "html": [
        "<div style=\"max-height:1000px;max-width:1500px;overflow:auto;\">\n",
        "<table border=\"1\" class=\"dataframe\">\n",
        "  <thead>\n",
        "    <tr style=\"text-align: right;\">\n",
        "      <th></th>\n",
        "      <th>Years</th>\n",
        "      <th>TotalCompensation</th>\n",
        "      <th>ChangeStockPrice</th>\n",
        "    </tr>\n",
        "  </thead>\n",
        "  <tbody>\n",
        "    <tr>\n",
        "      <th>0 </th>\n",
        "      <td>  7</td>\n",
        "      <td> 1530</td>\n",
        "      <td>  48</td>\n",
        "    </tr>\n",
        "    <tr>\n",
        "      <th>1 </th>\n",
        "      <td>  6</td>\n",
        "      <td> 1117</td>\n",
        "      <td>  35</td>\n",
        "    </tr>\n",
        "    <tr>\n",
        "      <th>2 </th>\n",
        "      <td>  3</td>\n",
        "      <td>  602</td>\n",
        "      <td>   9</td>\n",
        "    </tr>\n",
        "    <tr>\n",
        "      <th>3 </th>\n",
        "      <td>  6</td>\n",
        "      <td> 1170</td>\n",
        "      <td>  37</td>\n",
        "    </tr>\n",
        "    <tr>\n",
        "      <th>4 </th>\n",
        "      <td>  6</td>\n",
        "      <td> 1086</td>\n",
        "      <td>  34</td>\n",
        "    </tr>\n",
        "    <tr>\n",
        "      <th>5 </th>\n",
        "      <td>  9</td>\n",
        "      <td> 2536</td>\n",
        "      <td>  81</td>\n",
        "    </tr>\n",
        "    <tr>\n",
        "      <th>6 </th>\n",
        "      <td>  2</td>\n",
        "      <td>  300</td>\n",
        "      <td> -17</td>\n",
        "    </tr>\n",
        "    <tr>\n",
        "      <th>7 </th>\n",
        "      <td>  2</td>\n",
        "      <td>  670</td>\n",
        "      <td> -15</td>\n",
        "    </tr>\n",
        "    <tr>\n",
        "      <th>8 </th>\n",
        "      <td>  0</td>\n",
        "      <td>  250</td>\n",
        "      <td> -52</td>\n",
        "    </tr>\n",
        "    <tr>\n",
        "      <th>9 </th>\n",
        "      <td> 10</td>\n",
        "      <td> 2413</td>\n",
        "      <td> 109</td>\n",
        "    </tr>\n",
        "    <tr>\n",
        "      <th>10</th>\n",
        "      <td>  7</td>\n",
        "      <td> 2707</td>\n",
        "      <td>  44</td>\n",
        "    </tr>\n",
        "    <tr>\n",
        "      <th>11</th>\n",
        "      <td>  1</td>\n",
        "      <td>  341</td>\n",
        "      <td>  28</td>\n",
        "    </tr>\n",
        "    <tr>\n",
        "      <th>12</th>\n",
        "      <td>  4</td>\n",
        "      <td>  734</td>\n",
        "      <td>  10</td>\n",
        "    </tr>\n",
        "    <tr>\n",
        "      <th>13</th>\n",
        "      <td>  8</td>\n",
        "      <td> 2368</td>\n",
        "      <td>  16</td>\n",
        "    </tr>\n",
        "    <tr>\n",
        "      <th>14</th>\n",
        "      <td>  4</td>\n",
        "      <td>  743</td>\n",
        "      <td>  11</td>\n",
        "    </tr>\n",
        "    <tr>\n",
        "      <th>15</th>\n",
        "      <td>  7</td>\n",
        "      <td>  898</td>\n",
        "      <td> -21</td>\n",
        "    </tr>\n",
        "    <tr>\n",
        "      <th>16</th>\n",
        "      <td>  4</td>\n",
        "      <td>  498</td>\n",
        "      <td>  16</td>\n",
        "    </tr>\n",
        "    <tr>\n",
        "      <th>17</th>\n",
        "      <td>  2</td>\n",
        "      <td>  250</td>\n",
        "      <td> -10</td>\n",
        "    </tr>\n",
        "    <tr>\n",
        "      <th>18</th>\n",
        "      <td>  4</td>\n",
        "      <td> 1388</td>\n",
        "      <td>   8</td>\n",
        "    </tr>\n",
        "    <tr>\n",
        "      <th>19</th>\n",
        "      <td>  5</td>\n",
        "      <td>  898</td>\n",
        "      <td>  28</td>\n",
        "    </tr>\n",
        "    <tr>\n",
        "      <th>20</th>\n",
        "      <td>  4</td>\n",
        "      <td>  408</td>\n",
        "      <td>  13</td>\n",
        "    </tr>\n",
        "    <tr>\n",
        "      <th>21</th>\n",
        "      <td>  6</td>\n",
        "      <td> 1091</td>\n",
        "      <td>  34</td>\n",
        "    </tr>\n",
        "    <tr>\n",
        "      <th>22</th>\n",
        "      <td>  7</td>\n",
        "      <td> 1550</td>\n",
        "      <td>  49</td>\n",
        "    </tr>\n",
        "    <tr>\n",
        "      <th>23</th>\n",
        "      <td>  5</td>\n",
        "      <td>  832</td>\n",
        "      <td>  26</td>\n",
        "    </tr>\n",
        "    <tr>\n",
        "      <th>24</th>\n",
        "      <td>  7</td>\n",
        "      <td> 1462</td>\n",
        "      <td>  46</td>\n",
        "    </tr>\n",
        "    <tr>\n",
        "      <th>25</th>\n",
        "      <td>  7</td>\n",
        "      <td> 1456</td>\n",
        "      <td>  46</td>\n",
        "    </tr>\n",
        "    <tr>\n",
        "      <th>26</th>\n",
        "      <td>  8</td>\n",
        "      <td> 1984</td>\n",
        "      <td>  63</td>\n",
        "    </tr>\n",
        "    <tr>\n",
        "      <th>27</th>\n",
        "      <td> 10</td>\n",
        "      <td> 1493</td>\n",
        "      <td>  12</td>\n",
        "    </tr>\n",
        "    <tr>\n",
        "      <th>28</th>\n",
        "      <td>  7</td>\n",
        "      <td> 2021</td>\n",
        "      <td>  48</td>\n",
        "    </tr>\n",
        "    <tr>\n",
        "      <th>29</th>\n",
        "      <td>  8</td>\n",
        "      <td> 2871</td>\n",
        "      <td>   7</td>\n",
        "    </tr>\n",
        "    <tr>\n",
        "      <th>30</th>\n",
        "      <td>  0</td>\n",
        "      <td>  245</td>\n",
        "      <td> -58</td>\n",
        "    </tr>\n",
        "    <tr>\n",
        "      <th>31</th>\n",
        "      <td> 11</td>\n",
        "      <td> 3217</td>\n",
        "      <td> 102</td>\n",
        "    </tr>\n",
        "    <tr>\n",
        "      <th>32</th>\n",
        "      <td>  7</td>\n",
        "      <td> 1315</td>\n",
        "      <td>  42</td>\n",
        "    </tr>\n",
        "    <tr>\n",
        "      <th>33</th>\n",
        "      <td>  9</td>\n",
        "      <td> 1730</td>\n",
        "      <td>  55</td>\n",
        "    </tr>\n",
        "    <tr>\n",
        "      <th>34</th>\n",
        "      <td>  0</td>\n",
        "      <td>  260</td>\n",
        "      <td> -54</td>\n",
        "    </tr>\n",
        "    <tr>\n",
        "      <th>35</th>\n",
        "      <td>  2</td>\n",
        "      <td>  250</td>\n",
        "      <td> -17</td>\n",
        "    </tr>\n",
        "    <tr>\n",
        "      <th>36</th>\n",
        "      <td>  5</td>\n",
        "      <td>  718</td>\n",
        "      <td>  23</td>\n",
        "    </tr>\n",
        "    <tr>\n",
        "      <th>37</th>\n",
        "      <td>  8</td>\n",
        "      <td> 1593</td>\n",
        "      <td>  66</td>\n",
        "    </tr>\n",
        "    <tr>\n",
        "      <th>38</th>\n",
        "      <td>  8</td>\n",
        "      <td> 1905</td>\n",
        "      <td>  67</td>\n",
        "    </tr>\n",
        "    <tr>\n",
        "      <th>39</th>\n",
        "      <td>  5</td>\n",
        "      <td> 2283</td>\n",
        "      <td>  21</td>\n",
        "    </tr>\n",
        "    <tr>\n",
        "      <th>40</th>\n",
        "      <td>  7</td>\n",
        "      <td> 2253</td>\n",
        "      <td>  46</td>\n",
        "    </tr>\n",
        "    <tr>\n",
        "      <th>41</th>\n",
        "      <td>  0</td>\n",
        "      <td>  254</td>\n",
        "      <td> -41</td>\n",
        "    </tr>\n",
        "    <tr>\n",
        "      <th>42</th>\n",
        "      <td>  8</td>\n",
        "      <td> 1883</td>\n",
        "      <td>  60</td>\n",
        "    </tr>\n",
        "    <tr>\n",
        "      <th>43</th>\n",
        "      <td>  5</td>\n",
        "      <td> 1501</td>\n",
        "      <td>  10</td>\n",
        "    </tr>\n",
        "    <tr>\n",
        "      <th>44</th>\n",
        "      <td>  0</td>\n",
        "      <td>  386</td>\n",
        "      <td> -17</td>\n",
        "    </tr>\n",
        "    <tr>\n",
        "      <th>45</th>\n",
        "      <td> 11</td>\n",
        "      <td> 2181</td>\n",
        "      <td>  37</td>\n",
        "    </tr>\n",
        "    <tr>\n",
        "      <th>46</th>\n",
        "      <td>  6</td>\n",
        "      <td> 1766</td>\n",
        "      <td>  40</td>\n",
        "    </tr>\n",
        "    <tr>\n",
        "      <th>47</th>\n",
        "      <td>  8</td>\n",
        "      <td> 1897</td>\n",
        "      <td> -24</td>\n",
        "    </tr>\n",
        "    <tr>\n",
        "      <th>48</th>\n",
        "      <td>  5</td>\n",
        "      <td> 1157</td>\n",
        "      <td>  21</td>\n",
        "    </tr>\n",
        "    <tr>\n",
        "      <th>49</th>\n",
        "      <td>  3</td>\n",
        "      <td>  246</td>\n",
        "      <td>   1</td>\n",
        "    </tr>\n",
        "  </tbody>\n",
        "</table>\n",
        "</div>"
       ],
       "metadata": {},
       "output_type": "pyout",
       "prompt_number": 31,
       "text": [
        "    Years  TotalCompensation  ChangeStockPrice\n",
        "0       7               1530                48\n",
        "1       6               1117                35\n",
        "2       3                602                 9\n",
        "3       6               1170                37\n",
        "4       6               1086                34\n",
        "5       9               2536                81\n",
        "6       2                300               -17\n",
        "7       2                670               -15\n",
        "8       0                250               -52\n",
        "9      10               2413               109\n",
        "10      7               2707                44\n",
        "11      1                341                28\n",
        "12      4                734                10\n",
        "13      8               2368                16\n",
        "14      4                743                11\n",
        "15      7                898               -21\n",
        "16      4                498                16\n",
        "17      2                250               -10\n",
        "18      4               1388                 8\n",
        "19      5                898                28\n",
        "20      4                408                13\n",
        "21      6               1091                34\n",
        "22      7               1550                49\n",
        "23      5                832                26\n",
        "24      7               1462                46\n",
        "25      7               1456                46\n",
        "26      8               1984                63\n",
        "27     10               1493                12\n",
        "28      7               2021                48\n",
        "29      8               2871                 7\n",
        "30      0                245               -58\n",
        "31     11               3217               102\n",
        "32      7               1315                42\n",
        "33      9               1730                55\n",
        "34      0                260               -54\n",
        "35      2                250               -17\n",
        "36      5                718                23\n",
        "37      8               1593                66\n",
        "38      8               1905                67\n",
        "39      5               2283                21\n",
        "40      7               2253                46\n",
        "41      0                254               -41\n",
        "42      8               1883                60\n",
        "43      5               1501                10\n",
        "44      0                386               -17\n",
        "45     11               2181                37\n",
        "46      6               1766                40\n",
        "47      8               1897               -24\n",
        "48      5               1157                21\n",
        "49      3                246                 1"
       ]
      }
     ],
     "prompt_number": 31
    },
    {
     "cell_type": "markdown",
     "metadata": {},
     "source": [
      "## Basic Statistics, Plotting, and Summary Tables\n",
      "We import `matplotlib` here for basic plotting functionalities"
     ]
    },
    {
     "cell_type": "code",
     "collapsed": false,
     "input": [
      "import matplotlib.pyplot as plt\n",
      "%matplotlib inline"
     ],
     "language": "python",
     "metadata": {},
     "outputs": [],
     "prompt_number": 32
    },
    {
     "cell_type": "code",
     "collapsed": false,
     "input": [
      "CEOcomp.Years.mean()"
     ],
     "language": "python",
     "metadata": {},
     "outputs": [
      {
       "metadata": {},
       "output_type": "pyout",
       "prompt_number": 33,
       "text": [
        "5.4800000000000004"
       ]
      }
     ],
     "prompt_number": 33
    },
    {
     "cell_type": "code",
     "collapsed": false,
     "input": [
      "CEOcomp.Years.std()"
     ],
     "language": "python",
     "metadata": {},
     "outputs": [
      {
       "metadata": {},
       "output_type": "pyout",
       "prompt_number": 34,
       "text": [
        "2.9845862530744216"
       ]
      }
     ],
     "prompt_number": 34
    },
    {
     "cell_type": "code",
     "collapsed": false,
     "input": [
      "CEOcomp.Years.describe()"
     ],
     "language": "python",
     "metadata": {},
     "outputs": [
      {
       "metadata": {},
       "output_type": "pyout",
       "prompt_number": 35,
       "text": [
        "count    50.000000\n",
        "mean      5.480000\n",
        "std       2.984586\n",
        "min       0.000000\n",
        "25%       4.000000\n",
        "50%       6.000000\n",
        "75%       7.750000\n",
        "max      11.000000\n",
        "dtype: float64"
       ]
      }
     ],
     "prompt_number": 35
    },
    {
     "cell_type": "code",
     "collapsed": false,
     "input": [
      "CEOcomp.plot?"
     ],
     "language": "python",
     "metadata": {},
     "outputs": [],
     "prompt_number": 36
    },
    {
     "cell_type": "code",
     "collapsed": false,
     "input": [
      "CEOcomp.plot(x='Years',y='TotalCompensation', kind='scatter') # add a semi-colon behind to suppress the text output"
     ],
     "language": "python",
     "metadata": {},
     "outputs": [
      {
       "metadata": {},
       "output_type": "pyout",
       "prompt_number": 37,
       "text": [
        "<matplotlib.axes.AxesSubplot at 0xacc4686c>"
       ]
      },
      {
       "metadata": {},
       "output_type": "display_data",
       "png": "[encoded data removed]",
       "text": [
        "<matplotlib.figure.Figure at 0xacc461ac>"
       ]
      }
     ],
     "prompt_number": 37
    },
    {
     "cell_type": "code",
     "collapsed": false,
     "input": [
      "CEOcomp.plot(x='Years',\n",
      "             y='TotalCompensation',\n",
      "             title=\"Total Compensation by Year\",\n",
      "             kind='scatter');"
     ],
     "language": "python",
     "metadata": {},
     "outputs": [
      {
       "metadata": {},
       "output_type": "display_data",
       "png": "[encoded data removed]",
       "text": [
        "<matplotlib.figure.Figure at 0xacc0914c>"
       ]
      }
     ],
     "prompt_number": 38
    },
    {
     "cell_type": "markdown",
     "metadata": {},
     "source": [
      "Sometimes you might want to add additional details/attributes. You can do so by creating your own figure/axes, and adding the appropriate attributes:"
     ]
    },
    {
     "cell_type": "code",
     "collapsed": false,
     "input": [
      "import matplotlib.pyplot as plt\n",
      "fig, ax = plt.subplots()\n",
      "CEOcomp.plot(x='Years',\n",
      "             y='TotalCompensation',\n",
      "             title=\"Total Compensation by Year\",\n",
      "             kind = 'scatter',\n",
      "             ax=ax);\n",
      "ax.set_xlabel(\"Years of Experience\")\n",
      "ax.set_ylabel(\"Total Compensation (thousand USD)\");"
     ],
     "language": "python",
     "metadata": {},
     "outputs": [
      {
       "metadata": {},
       "output_type": "display_data",
       "png": "[encoded data removed]",
       "text": [
        "<matplotlib.figure.Figure at 0xacb1b56c>"
       ]
      }
     ],
     "prompt_number": 39
    },
    {
     "cell_type": "markdown",
     "metadata": {},
     "source": [
      "Check out their [website](http://matplotlib.org) for more [examples](http://matplotlib.org/gallery.html).\n",
      "\n",
      "### Moving On\n",
      "Here, we look at mean CEO compensation, based on whether or not the CEO has an MBA"
     ]
    },
    {
     "cell_type": "code",
     "collapsed": false,
     "input": [
      "CEOcomp.groupby(\"MBA\").mean()"
     ],
     "language": "python",
     "metadata": {},
     "outputs": [
      {
       "html": [
        "<div style=\"max-height:1000px;max-width:1500px;overflow:auto;\">\n",
        "<table border=\"1\" class=\"dataframe\">\n",
        "  <thead>\n",
        "    <tr style=\"text-align: right;\">\n",
        "      <th></th>\n",
        "      <th>CompanyNumber</th>\n",
        "      <th>TotalCompensation</th>\n",
        "      <th>Years</th>\n",
        "      <th>ChangeStockPrice</th>\n",
        "      <th>ChangeCompanySales</th>\n",
        "    </tr>\n",
        "    <tr>\n",
        "      <th>MBA</th>\n",
        "      <th></th>\n",
        "      <th></th>\n",
        "      <th></th>\n",
        "      <th></th>\n",
        "      <th></th>\n",
        "    </tr>\n",
        "  </thead>\n",
        "  <tbody>\n",
        "    <tr>\n",
        "      <th>0</th>\n",
        "      <td> 22.235294</td>\n",
        "      <td>  723.294118</td>\n",
        "      <td> 3.705882</td>\n",
        "      <td>  4.352941</td>\n",
        "      <td> 11.529412</td>\n",
        "    </tr>\n",
        "    <tr>\n",
        "      <th>1</th>\n",
        "      <td> 27.181818</td>\n",
        "      <td> 1588.212121</td>\n",
        "      <td> 6.393939</td>\n",
        "      <td> 31.787879</td>\n",
        "      <td> 15.787879</td>\n",
        "    </tr>\n",
        "  </tbody>\n",
        "</table>\n",
        "</div>"
       ],
       "metadata": {},
       "output_type": "pyout",
       "prompt_number": 40,
       "text": [
        "     CompanyNumber  TotalCompensation     Years  ChangeStockPrice  \\\n",
        "MBA                                                                 \n",
        "0        22.235294         723.294118  3.705882          4.352941   \n",
        "1        27.181818        1588.212121  6.393939         31.787879   \n",
        "\n",
        "     ChangeCompanySales  \n",
        "MBA                      \n",
        "0             11.529412  \n",
        "1             15.787879  "
       ]
      }
     ],
     "prompt_number": 40
    },
    {
     "cell_type": "markdown",
     "metadata": {},
     "source": [
      "We can also create a table to look at counts"
     ]
    },
    {
     "cell_type": "code",
     "collapsed": false,
     "input": [
      "CEOcomp.groupby(\"MBA\").size()"
     ],
     "language": "python",
     "metadata": {},
     "outputs": [
      {
       "metadata": {},
       "output_type": "pyout",
       "prompt_number": 41,
       "text": [
        "MBA\n",
        "0      17\n",
        "1      33\n",
        "dtype: int64"
       ]
      }
     ],
     "prompt_number": 41
    },
    {
     "cell_type": "markdown",
     "metadata": {},
     "source": [
      "**Question**: In our dataset, how many CEOs have 7 years of experience and an MBA?"
     ]
    },
    {
     "cell_type": "markdown",
     "metadata": {},
     "source": [
      "## Assignments"
     ]
    },
    {
     "cell_type": "markdown",
     "metadata": {},
     "source": [
      "1a. Use the `help` function on `range` to assign the variable `evens` to be the even numbers from 2 through 20, inclusive."
     ]
    },
    {
     "cell_type": "code",
     "collapsed": false,
     "input": [],
     "language": "python",
     "metadata": {},
     "outputs": [],
     "prompt_number": 41
    },
    {
     "cell_type": "markdown",
     "metadata": {},
     "source": [
      "1b. Propose an alternative way to get `evens` to be the even numbers from 2 through 20, inclusive, with perhaps more than one command.  Write down the commands."
     ]
    },
    {
     "cell_type": "code",
     "collapsed": false,
     "input": [],
     "language": "python",
     "metadata": {},
     "outputs": [],
     "prompt_number": 41
    },
    {
     "cell_type": "markdown",
     "metadata": {},
     "source": [
      "2a. Try out a few other basic statistics and graphing functions"
     ]
    },
    {
     "cell_type": "code",
     "collapsed": false,
     "input": [
      "print(CEOcomp.Years.min())\n",
      "print(CEOcomp.Years.median())\n",
      "print(CEOcomp.Years.max())\n",
      "print(CEOcomp.MBA.sum())"
     ],
     "language": "python",
     "metadata": {},
     "outputs": [
      {
       "output_type": "stream",
       "stream": "stdout",
       "text": [
        "0\n",
        "6.0\n",
        "11\n",
        "33\n"
       ]
      }
     ],
     "prompt_number": 42
    },
    {
     "cell_type": "code",
     "collapsed": false,
     "input": [
      "plt.hist(CEOcomp.Years)"
     ],
     "language": "python",
     "metadata": {},
     "outputs": [
      {
       "metadata": {},
       "output_type": "pyout",
       "prompt_number": 43,
       "text": [
        "(array([ 6.,  4.,  2.,  5.,  6.,  5.,  9.,  7.,  2.,  4.]),\n",
        " array([  0. ,   1.1,   2.2,   3.3,   4.4,   5.5,   6.6,   7.7,   8.8,\n",
        "          9.9,  11. ]),\n",
        " <a list of 10 Patch objects>)"
       ]
      },
      {
       "metadata": {},
       "output_type": "display_data",
       "png": "[encoded data removed]",
       "text": [
        "<matplotlib.figure.Figure at 0xaca86b8c>"
       ]
      }
     ],
     "prompt_number": 43
    },
    {
     "cell_type": "code",
     "collapsed": false,
     "input": [
      "CEOcomp.boxplot('Years')"
     ],
     "language": "python",
     "metadata": {},
     "outputs": [
      {
       "output_type": "stream",
       "stream": "stderr",
       "text": [
        "/usr/lib/python2.7/site-packages/pandas/tools/plotting.py:2380: FutureWarning: \n",
        "The default value for 'return_type' will change to 'axes' in a future release.\n",
        " To use the future behavior now, set return_type='axes'.\n",
        " To keep the previous behavior and silence this warning, set return_type='dict'.\n",
        "  warnings.warn(msg, FutureWarning)\n"
       ]
      },
      {
       "metadata": {},
       "output_type": "pyout",
       "prompt_number": 44,
       "text": [
        "{'boxes': [<matplotlib.lines.Line2D at 0xac9a576c>],\n",
        " 'caps': [<matplotlib.lines.Line2D at 0xac99fbcc>,\n",
        "  <matplotlib.lines.Line2D at 0xac99fe8c>],\n",
        " 'fliers': [<matplotlib.lines.Line2D at 0xac9a92cc>,\n",
        "  <matplotlib.lines.Line2D at 0xac9a988c>],\n",
        " 'medians': [<matplotlib.lines.Line2D at 0xac9a5cec>],\n",
        " 'whiskers': [<matplotlib.lines.Line2D at 0xac99f0ac>,\n",
        "  <matplotlib.lines.Line2D at 0xac99f6ac>]}"
       ]
      },
      {
       "metadata": {},
       "output_type": "display_data",
       "png": "[encoded data removed]",
       "text": [
        "<matplotlib.figure.Figure at 0xacb093ac>"
       ]
      }
     ],
     "prompt_number": 44
    },
    {
     "cell_type": "code",
     "collapsed": false,
     "input": [
      "CEOcomp.boxplot(rot='45');"
     ],
     "language": "python",
     "metadata": {},
     "outputs": [
      {
       "metadata": {},
       "output_type": "display_data",
       "png": "[encoded data removed]",
       "text": [
        "<matplotlib.figure.Figure at 0xac9f58cc>"
       ]
      }
     ],
     "prompt_number": 45
    },
    {
     "cell_type": "markdown",
     "metadata": {},
     "source": [
      "2b. Edit the histogram plot above to ensure that it has a title and that the x-axis is labeled properly"
     ]
    },
    {
     "cell_type": "code",
     "collapsed": false,
     "input": [],
     "language": "python",
     "metadata": {},
     "outputs": [],
     "prompt_number": 45
    },
    {
     "cell_type": "markdown",
     "metadata": {},
     "source": [
      "2c. Do a boxplot for the `ChangeCompanySales` column of the DataFrame `CEOcomp`."
     ]
    },
    {
     "cell_type": "code",
     "collapsed": false,
     "input": [],
     "language": "python",
     "metadata": {},
     "outputs": [],
     "prompt_number": 45
    },
    {
     "cell_type": "markdown",
     "metadata": {},
     "source": [
      "3a. Load the Hubway dataset `stations.csv`"
     ]
    },
    {
     "cell_type": "code",
     "collapsed": false,
     "input": [],
     "language": "python",
     "metadata": {},
     "outputs": [],
     "prompt_number": 45
    },
    {
     "cell_type": "markdown",
     "metadata": {},
     "source": [
      "3b. Take a look at the structure of the stations dataset. This dataset gives the names and locations (latitude, longitude) of all of the Hubway stations."
     ]
    },
    {
     "cell_type": "code",
     "collapsed": false,
     "input": [],
     "language": "python",
     "metadata": {},
     "outputs": [],
     "prompt_number": 45
    },
    {
     "cell_type": "markdown",
     "metadata": {},
     "source": [
      "3c. Find the centroid (mean of longitude, and mean of latitude) of all of the Hubway stations"
     ]
    },
    {
     "cell_type": "code",
     "collapsed": false,
     "input": [],
     "language": "python",
     "metadata": {},
     "outputs": [],
     "prompt_number": 45
    },
    {
     "cell_type": "markdown",
     "metadata": {},
     "source": [
      "3d. Make a geographic map of all of the hubway stations. Make sure that your map has a title and that the axes are properly labeled.\n",
      "\n",
      "(**hint**: x-axis should be longitude)"
     ]
    },
    {
     "cell_type": "code",
     "collapsed": false,
     "input": [],
     "language": "python",
     "metadata": {},
     "outputs": [],
     "prompt_number": 45
    },
    {
     "cell_type": "markdown",
     "metadata": {},
     "source": [
      "3e. Use the round function and the table function to create a matrix so that you can determine the number of stations within a .01 lng x .01 lat square centered at -71.08 lng and 42.35 lat"
     ]
    },
    {
     "cell_type": "code",
     "collapsed": false,
     "input": [],
     "language": "python",
     "metadata": {},
     "outputs": [],
     "prompt_number": 45
    }
   ],
   "metadata": {}
  }
 ]
}