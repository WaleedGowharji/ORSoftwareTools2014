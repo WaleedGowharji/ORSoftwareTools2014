{
 "metadata": {
  "name": "",
  "signature": "sha256:97c5e3b80d4b57839cfc83fbdd88957bf2e35eebe60118b306f199224e8c315c"
 },
 "nbformat": 3,
 "nbformat_minor": 0,
 "worksheets": [
  {
   "cells": [
    {
     "cell_type": "markdown",
     "metadata": {},
     "source": [
      "## Assignment\n",
      "Let's compare the performance of CART and random forest on the `LettersBinary` dataset\n",
      "\n",
      "1) Build a CART model on the training data. Set the `min_samples_leaf` parameter to 25. Then test it on the testing set, create a confusion matrix, and determine the accuracy."
     ]
    },
    {
     "cell_type": "code",
     "collapsed": false,
     "input": [
      "letters_formula = \"Letter ~ x1 + x2 + x3 + x4 + x5 + x6 + x7 + x8 + x9 + x10 + x11 + x12 + x13 + x14 + x15 + x16\""
     ],
     "language": "python",
     "metadata": {},
     "outputs": [],
     "prompt_number": 98
    },
    {
     "cell_type": "code",
     "collapsed": false,
     "input": [
      "letters_CART = tree.DecisionTreeClassifier()"
     ],
     "language": "python",
     "metadata": {},
     "outputs": [],
     "prompt_number": 130
    },
    {
     "cell_type": "code",
     "collapsed": false,
     "input": [
      "letters_CART.fit(letters_train.ix[:,1:],letters_train.Letter)\n",
      "letters_CART"
     ],
     "language": "python",
     "metadata": {},
     "outputs": [
      {
       "metadata": {},
       "output_type": "pyout",
       "prompt_number": 131,
       "text": [
        "DecisionTreeClassifier(compute_importances=None, criterion='gini',\n",
        "            max_depth=None, max_features=None, min_density=None,\n",
        "            min_samples_leaf=1, min_samples_split=2, random_state=None,\n",
        "            splitter='best')"
       ]
      }
     ],
     "prompt_number": 131
    },
    {
     "cell_type": "code",
     "collapsed": false,
     "input": [
      "letters_CART_prediction = letters_CART.predict(letters_test.ix[:,1:])\n",
      "pd.crosstab(letters_test.Letter,\n",
      "            letters_CART_prediction)"
     ],
     "language": "python",
     "metadata": {},
     "outputs": [
      {
       "html": [
        "<div style=\"max-height:1000px;max-width:1500px;overflow:auto;\">\n",
        "<table border=\"1\" class=\"dataframe\">\n",
        "  <thead>\n",
        "    <tr style=\"text-align: right;\">\n",
        "      <th>col_0</th>\n",
        "      <th>H</th>\n",
        "      <th>R</th>\n",
        "    </tr>\n",
        "    <tr>\n",
        "      <th>Letter</th>\n",
        "      <th></th>\n",
        "      <th></th>\n",
        "    </tr>\n",
        "  </thead>\n",
        "  <tbody>\n",
        "    <tr>\n",
        "      <th>H</th>\n",
        "      <td> 281</td>\n",
        "      <td>  21</td>\n",
        "    </tr>\n",
        "    <tr>\n",
        "      <th>R</th>\n",
        "      <td>  16</td>\n",
        "      <td> 279</td>\n",
        "    </tr>\n",
        "  </tbody>\n",
        "</table>\n",
        "<p>2 rows \u00d7 2 columns</p>\n",
        "</div>"
       ],
       "metadata": {},
       "output_type": "pyout",
       "prompt_number": 135,
       "text": [
        "col_0     H    R\n",
        "Letter          \n",
        "H       281   21\n",
        "R        16  279\n",
        "\n",
        "[2 rows x 2 columns]"
       ]
      }
     ],
     "prompt_number": 135
    },
    {
     "cell_type": "code",
     "collapsed": false,
     "input": [
      "1.0 * sum(_.values.diagonal())/len(letters_test)"
     ],
     "language": "python",
     "metadata": {},
     "outputs": [
      {
       "metadata": {},
       "output_type": "pyout",
       "prompt_number": 136,
       "text": [
        "0.93802345058626468"
       ]
      }
     ],
     "prompt_number": 136
    },
    {
     "cell_type": "markdown",
     "metadata": {},
     "source": [
      "2) Do the same as above for random forest. Use `min_samples_split = 25` and `n_estimators = 200`."
     ]
    },
    {
     "cell_type": "code",
     "collapsed": false,
     "input": [
      "letters_forest = RandomForestClassifier()\n",
      "letters_forest.fit(letters_train.ix[:,1:],letters_train.Letter)\n",
      "letters_forest_prediction = letters_forest.predict(letters_test.ix[:,1:])\n",
      "pd.crosstab(letters_forest_prediction,\n",
      "            letters_test.Letter)"
     ],
     "language": "python",
     "metadata": {},
     "outputs": [
      {
       "html": [
        "<div style=\"max-height:1000px;max-width:1500px;overflow:auto;\">\n",
        "<table border=\"1\" class=\"dataframe\">\n",
        "  <thead>\n",
        "    <tr style=\"text-align: right;\">\n",
        "      <th>Letter</th>\n",
        "      <th>H</th>\n",
        "      <th>R</th>\n",
        "    </tr>\n",
        "    <tr>\n",
        "      <th>row_0</th>\n",
        "      <th></th>\n",
        "      <th></th>\n",
        "    </tr>\n",
        "  </thead>\n",
        "  <tbody>\n",
        "    <tr>\n",
        "      <th>H</th>\n",
        "      <td> 283</td>\n",
        "      <td>  10</td>\n",
        "    </tr>\n",
        "    <tr>\n",
        "      <th>R</th>\n",
        "      <td>  19</td>\n",
        "      <td> 285</td>\n",
        "    </tr>\n",
        "  </tbody>\n",
        "</table>\n",
        "<p>2 rows \u00d7 2 columns</p>\n",
        "</div>"
       ],
       "metadata": {},
       "output_type": "pyout",
       "prompt_number": 137,
       "text": [
        "Letter    H    R\n",
        "row_0           \n",
        "H       283   10\n",
        "R        19  285\n",
        "\n",
        "[2 rows x 2 columns]"
       ]
      }
     ],
     "prompt_number": 137
    },
    {
     "cell_type": "code",
     "collapsed": false,
     "input": [
      "sum(_.values.diagonal())/len(letters_test)"
     ],
     "language": "python",
     "metadata": {},
     "outputs": [
      {
       "metadata": {},
       "output_type": "pyout",
       "prompt_number": 138,
       "text": [
        "0.95142378559463991"
       ]
      }
     ],
     "prompt_number": 138
    },
    {
     "cell_type": "markdown",
     "metadata": {},
     "source": [
      "**Extra**:\n",
      "\n",
      "3) Try different ways of control the tree growth. Look at the `help` documentation. Try giving your model values for `criterion` or `max_depth`."
     ]
    },
    {
     "cell_type": "code",
     "collapsed": false,
     "input": [
      "tree.DecisionTreeClassifier?"
     ],
     "language": "python",
     "metadata": {},
     "outputs": [],
     "prompt_number": 100
    },
    {
     "cell_type": "markdown",
     "metadata": {},
     "source": [
      "4) Try different values of `n_estimators` in your randomForest model. Try setting it to a very low number, and a very high number. How do the prediction results compare?"
     ]
    },
    {
     "cell_type": "code",
     "collapsed": false,
     "input": [
      "RandomForestClassifier?"
     ],
     "language": "python",
     "metadata": {},
     "outputs": [],
     "prompt_number": 101
    }
   ],
   "metadata": {}
  }
 ]
}