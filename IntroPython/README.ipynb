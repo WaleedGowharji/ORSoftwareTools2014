{
 "metadata": {
  "name": "",
  "signature": "sha256:ed82489abe534b63e75278bab58295e082b3b2046f9fdd4f442e47667244e302"
 },
 "nbformat": 3,
 "nbformat_minor": 0,
 "worksheets": [
  {
   "cells": [
    {
     "cell_type": "markdown",
     "metadata": {},
     "source": [
      "# Introduction to Python\n",
      "\n",
      "## Installation Instructions\n",
      "\n",
      "### Downloading and Installing\n",
      "Please download and install the [Anaconda Distribution for Python](https://store.continuum.io/cshop/anaconda/).\n",
      "\n",
      "For Mac and Linux users, open up your terminal. Windows users need to open up their Command Prompt. Change directories in the terminal (using the `cd` command) to the working directory where you want to store your IPython Notebook data.\n",
      "\n",
      "To run IPython Notebook, enter the following command:\n",
      "\n",
      "```bash\n",
      "ipython notebook\n",
      "```\n",
      "\n",
      "It may take a minute or two to set itself up, but eventually IPython Notebook will open in your default web browser.\n",
      "\n",
      "**Remark**: Currently, IPython Notebook only supports Firefox and Chrome.\n",
      "\n",
      "### Assignment"
     ]
    },
    {
     "cell_type": "markdown",
     "metadata": {},
     "source": [
      "Run the following code (taken from the `statsmodels` [website](http://statsmodels.sourceforge.net/devel/)):"
     ]
    },
    {
     "cell_type": "code",
     "collapsed": false,
     "input": [
      "import numpy as np\n",
      "import pandas as pd\n",
      "import statsmodels.formula.api as smf\n",
      "\n",
      "# Load data\n",
      "url = 'http://vincentarelbundock.github.io/Rdatasets/csv/HistData/Guerry.csv'\n",
      "dat = pd.read_csv(url)\n",
      "\n",
      "# Fit regression model (using the natural log of one of the regressors)\n",
      "results = smf.ols('Lottery ~ Literacy + np.log(Pop1831)', data=dat).fit()\n",
      "\n",
      "# Inspect the results\n",
      "print(results.summary())"
     ],
     "language": "python",
     "metadata": {},
     "outputs": [
      {
       "output_type": "stream",
       "stream": "stdout",
       "text": [
        "                            OLS Regression Results                            \n",
        "==============================================================================\n",
        "Dep. Variable:                Lottery   R-squared:                       0.348\n",
        "Model:                            OLS   Adj. R-squared:                  0.333\n",
        "Method:                 Least Squares   F-statistic:                     22.20\n",
        "Date:                Thu, 21 Aug 2014   Prob (F-statistic):           1.90e-08\n",
        "Time:                        21:49:33   Log-Likelihood:                -379.82\n",
        "No. Observations:                  86   AIC:                             765.6\n",
        "Df Residuals:                      83   BIC:                             773.0\n",
        "Df Model:                           2                                         \n",
        "===================================================================================\n",
        "                      coef    std err          t      P>|t|      [95.0% Conf. Int.]\n",
        "-----------------------------------------------------------------------------------\n",
        "Intercept         246.4341     35.233      6.995      0.000       176.358   316.510\n",
        "Literacy           -0.4889      0.128     -3.832      0.000        -0.743    -0.235\n",
        "np.log(Pop1831)   -31.3114      5.977     -5.239      0.000       -43.199   -19.424\n",
        "==============================================================================\n",
        "Omnibus:                        3.713   Durbin-Watson:                   2.019\n",
        "Prob(Omnibus):                  0.156   Jarque-Bera (JB):                3.394\n",
        "Skew:                          -0.487   Prob(JB):                        0.183\n",
        "Kurtosis:                       3.003   Cond. No.                         702.\n",
        "==============================================================================\n"
       ]
      }
     ],
     "prompt_number": 1
    },
    {
     "cell_type": "code",
     "collapsed": false,
     "input": [],
     "language": "python",
     "metadata": {},
     "outputs": []
    }
   ],
   "metadata": {}
  }
 ]
}