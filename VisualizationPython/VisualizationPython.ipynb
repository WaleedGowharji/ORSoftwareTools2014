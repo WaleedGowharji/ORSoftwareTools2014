{
 "metadata": {
  "celltoolbar": "Slideshow",
  "name": "",
  "signature": "sha256:366095ae1dc4eece0939e8fb98a88780f8672d043a8102758b93734f1680ce46"
 },
 "nbformat": 3,
 "nbformat_minor": 0,
 "worksheets": [
  {
   "cells": [
    {
     "cell_type": "markdown",
     "metadata": {
      "slideshow": {
       "slide_type": "slide"
      }
     },
     "source": [
      "<h1 id=\"tocheading\" align=\"center\" style=\"font-size:32px\">Visualization in Python</h1>\n",
      "<div align=\"center\" style=\"font-size:24px\">15.S60 Software Tools for Operations Research</div>"
     ]
    },
    {
     "cell_type": "markdown",
     "metadata": {},
     "source": [
      "<h1 id=\"tocheading\">Table of Contents</h1>\n",
      "<div id=\"toc\"></div>\n",
      "<script src=\"https://kmahelona.github.io/ipython_notebook_goodies/ipython_notebook_toc.js\"></script>"
     ]
    },
    {
     "cell_type": "markdown",
     "metadata": {
      "slideshow": {
       "slide_type": "slide"
      }
     },
     "source": [
      "#Why Visualization?\n",
      "> *John Tukey*, \"the picture-examining eye is the best finder we have of the wholly unanticipated\u201d "
     ]
    },
    {
     "cell_type": "markdown",
     "metadata": {
      "slideshow": {
       "slide_type": "fragment"
      }
     },
     "source": [
      "\n",
      "    see relationships, structures, distributions, outliers, \n",
      "        patterns, behaviors, dependencies, outcomes "
     ]
    },
    {
     "cell_type": "markdown",
     "metadata": {
      "slideshow": {
       "slide_type": "slide"
      }
     },
     "source": [
      "#High Level Introduction\n",
      "\n",
      "- understand your data + intro to ggplot\n",
      "    - about 90 minutes\n",
      "- understand your model\n",
      "    - about 40 minutes\n",
      "- communicate your findings + best practices\n",
      "    - about 20 minutes"
     ]
    },
    {
     "cell_type": "markdown",
     "metadata": {},
     "source": [
      "#Understand Data\n",
      "\n",
      "- scatterplots \n",
      "- clusters \n",
      "- map data \n",
      "- histograms \n",
      "- heat maps \n",
      "\n",
      "*Others you could investigate: box plots, cluster dendrograms, time series data, networks,\u2026 *"
     ]
    },
    {
     "cell_type": "markdown",
     "metadata": {
      "slideshow": {
       "slide_type": "subslide"
      }
     },
     "source": [
      "##draw a scatterplot. Color by factor.\n",
      "<img src=\"img/alumni_graduation.png\" height=500px, width=500px>"
     ]
    },
    {
     "cell_type": "markdown",
     "metadata": {
      "slideshow": {
       "slide_type": "subslide"
      }
     },
     "source": [
      "##facet to explore categories.\n",
      "<img src=\"img/motor_vehicles.png\" height=500px, width=500px>"
     ]
    },
    {
     "cell_type": "markdown",
     "metadata": {
      "slideshow": {
       "slide_type": "subslide"
      }
     },
     "source": [
      "##add data to a map. edit point size.\n",
      "<img src=\"img/houston_crime.png\" height=500px, width=500px, align=\"middle\">"
     ]
    },
    {
     "cell_type": "markdown",
     "metadata": {
      "slideshow": {
       "slide_type": "subslide"
      }
     },
     "source": [
      "##make a histogram. overlay.\n",
      "<img src=\"img/histogram.png\" height=500px, width=500px, align=\"middle\">"
     ]
    },
    {
     "cell_type": "markdown",
     "metadata": {
      "slideshow": {
       "slide_type": "subslide"
      }
     },
     "source": [
      "##make a heatmap. choose colors.\n",
      "<img src=\"img/heatmap.png\" height=500px, width=500px, align=\"middle\">"
     ]
    },
    {
     "cell_type": "markdown",
     "metadata": {
      "slideshow": {
       "slide_type": "subslide"
      }
     },
     "source": [
      "##show the 2-d convex hull.\n",
      "<img src=\"img/convex_hull.png\" height=500px, width=500px, align=\"middle\">"
     ]
    },
    {
     "cell_type": "markdown",
     "metadata": {
      "slideshow": {
       "slide_type": "subslide"
      }
     },
     "source": [
      "##color a map according to data\n",
      "<img src=\"img/employment_chloropleth.png\" height=500px, width=500px, align=\"middle\">"
     ]
    },
    {
     "cell_type": "markdown",
     "metadata": {
      "slideshow": {
       "slide_type": "subslide"
      }
     },
     "source": [
      "##choose the right visualization\n",
      "<img src=\"img/choose_visualization.png\" height=500px, width=500px, align=\"middle\">"
     ]
    },
    {
     "cell_type": "markdown",
     "metadata": {},
     "source": [
      "# Datasets we'll explore today\n",
      "\n",
      "- anscombe\u2019s quartet \n",
      "- iris dataset \n",
      "- election polling data \n",
      "- hubway data "
     ]
    },
    {
     "cell_type": "markdown",
     "metadata": {},
     "source": [
      "## Anscombe's quartet"
     ]
    },
    {
     "cell_type": "code",
     "collapsed": false,
     "input": [
      "import pandas as pd\n",
      "anscombe = pd.read_csv(\"anscombe.csv\")\n",
      "anscombe.info()"
     ],
     "language": "python",
     "metadata": {},
     "outputs": [
      {
       "output_type": "stream",
       "stream": "stdout",
       "text": [
        "<class 'pandas.core.frame.DataFrame'>\n",
        "Int64Index: 44 entries, 0 to 43\n",
        "Data columns (total 3 columns):\n",
        "dataset    44 non-null object\n",
        "x          44 non-null float64\n",
        "y          44 non-null float64\n",
        "dtypes: float64(2), object(1)"
       ]
      }
     ],
     "prompt_number": 2
    },
    {
     "cell_type": "markdown",
     "metadata": {},
     "source": [
      "We have 4 x-y datasets here. Let's investigate some of the properties of these datasets."
     ]
    },
    {
     "cell_type": "code",
     "collapsed": false,
     "input": [
      "import numpy as np\n",
      "anscombe.groupby(\"dataset\").agg([np.mean, np.std])"
     ],
     "language": "python",
     "metadata": {},
     "outputs": [
      {
       "html": [
        "<div style=\"max-height:1000px;max-width:1500px;overflow:auto;\">\n",
        "<table border=\"1\" class=\"dataframe\">\n",
        "  <thead>\n",
        "    <tr>\n",
        "      <th></th>\n",
        "      <th colspan=\"2\" halign=\"left\">x</th>\n",
        "      <th colspan=\"2\" halign=\"left\">y</th>\n",
        "    </tr>\n",
        "    <tr>\n",
        "      <th></th>\n",
        "      <th>mean</th>\n",
        "      <th>std</th>\n",
        "      <th>mean</th>\n",
        "      <th>std</th>\n",
        "    </tr>\n",
        "    <tr>\n",
        "      <th>dataset</th>\n",
        "      <th></th>\n",
        "      <th></th>\n",
        "      <th></th>\n",
        "      <th></th>\n",
        "    </tr>\n",
        "  </thead>\n",
        "  <tbody>\n",
        "    <tr>\n",
        "      <th>I</th>\n",
        "      <td> 9</td>\n",
        "      <td> 3.316625</td>\n",
        "      <td> 7.500909</td>\n",
        "      <td> 2.031568</td>\n",
        "    </tr>\n",
        "    <tr>\n",
        "      <th>II</th>\n",
        "      <td> 9</td>\n",
        "      <td> 3.316625</td>\n",
        "      <td> 7.500909</td>\n",
        "      <td> 2.031657</td>\n",
        "    </tr>\n",
        "    <tr>\n",
        "      <th>III</th>\n",
        "      <td> 9</td>\n",
        "      <td> 3.316625</td>\n",
        "      <td> 7.500000</td>\n",
        "      <td> 2.030424</td>\n",
        "    </tr>\n",
        "    <tr>\n",
        "      <th>IV</th>\n",
        "      <td> 9</td>\n",
        "      <td> 3.316625</td>\n",
        "      <td> 7.500909</td>\n",
        "      <td> 2.030579</td>\n",
        "    </tr>\n",
        "  </tbody>\n",
        "</table>\n",
        "</div>"
       ],
       "metadata": {},
       "output_type": "pyout",
       "prompt_number": 4,
       "text": [
        "            x                   y          \n",
        "         mean       std      mean       std\n",
        "dataset                                    \n",
        "I           9  3.316625  7.500909  2.031568\n",
        "II          9  3.316625  7.500909  2.031657\n",
        "III         9  3.316625  7.500000  2.030424\n",
        "IV          9  3.316625  7.500909  2.030579"
       ]
      }
     ],
     "prompt_number": 4
    },
    {
     "cell_type": "markdown",
     "metadata": {},
     "source": [
      "How good is the regression fit?"
     ]
    },
    {
     "cell_type": "code",
     "collapsed": false,
     "input": [
      "anscombe[anscombe.dataset == \"I\"]"
     ],
     "language": "python",
     "metadata": {},
     "outputs": [
      {
       "html": [
        "<div style=\"max-height:1000px;max-width:1500px;overflow:auto;\">\n",
        "<table border=\"1\" class=\"dataframe\">\n",
        "  <thead>\n",
        "    <tr style=\"text-align: right;\">\n",
        "      <th></th>\n",
        "      <th>dataset</th>\n",
        "      <th>x</th>\n",
        "      <th>y</th>\n",
        "    </tr>\n",
        "  </thead>\n",
        "  <tbody>\n",
        "    <tr>\n",
        "      <th>0 </th>\n",
        "      <td> I</td>\n",
        "      <td> 10</td>\n",
        "      <td>  8.04</td>\n",
        "    </tr>\n",
        "    <tr>\n",
        "      <th>1 </th>\n",
        "      <td> I</td>\n",
        "      <td>  8</td>\n",
        "      <td>  6.95</td>\n",
        "    </tr>\n",
        "    <tr>\n",
        "      <th>2 </th>\n",
        "      <td> I</td>\n",
        "      <td> 13</td>\n",
        "      <td>  7.58</td>\n",
        "    </tr>\n",
        "    <tr>\n",
        "      <th>3 </th>\n",
        "      <td> I</td>\n",
        "      <td>  9</td>\n",
        "      <td>  8.81</td>\n",
        "    </tr>\n",
        "    <tr>\n",
        "      <th>4 </th>\n",
        "      <td> I</td>\n",
        "      <td> 11</td>\n",
        "      <td>  8.33</td>\n",
        "    </tr>\n",
        "    <tr>\n",
        "      <th>5 </th>\n",
        "      <td> I</td>\n",
        "      <td> 14</td>\n",
        "      <td>  9.96</td>\n",
        "    </tr>\n",
        "    <tr>\n",
        "      <th>6 </th>\n",
        "      <td> I</td>\n",
        "      <td>  6</td>\n",
        "      <td>  7.24</td>\n",
        "    </tr>\n",
        "    <tr>\n",
        "      <th>7 </th>\n",
        "      <td> I</td>\n",
        "      <td>  4</td>\n",
        "      <td>  4.26</td>\n",
        "    </tr>\n",
        "    <tr>\n",
        "      <th>8 </th>\n",
        "      <td> I</td>\n",
        "      <td> 12</td>\n",
        "      <td> 10.84</td>\n",
        "    </tr>\n",
        "    <tr>\n",
        "      <th>9 </th>\n",
        "      <td> I</td>\n",
        "      <td>  7</td>\n",
        "      <td>  4.82</td>\n",
        "    </tr>\n",
        "    <tr>\n",
        "      <th>10</th>\n",
        "      <td> I</td>\n",
        "      <td>  5</td>\n",
        "      <td>  5.68</td>\n",
        "    </tr>\n",
        "  </tbody>\n",
        "</table>\n",
        "</div>"
       ],
       "metadata": {},
       "output_type": "pyout",
       "prompt_number": 9,
       "text": [
        "   dataset   x      y\n",
        "0        I  10   8.04\n",
        "1        I   8   6.95\n",
        "2        I  13   7.58\n",
        "3        I   9   8.81\n",
        "4        I  11   8.33\n",
        "5        I  14   9.96\n",
        "6        I   6   7.24\n",
        "7        I   4   4.26\n",
        "8        I  12  10.84\n",
        "9        I   7   4.82\n",
        "10       I   5   5.68"
       ]
      }
     ],
     "prompt_number": 9
    },
    {
     "cell_type": "code",
     "collapsed": false,
     "input": [
      "import statsmodels.formula.api as smf\n",
      "\n",
      "def rsquared_fit(dataset):\n",
      "    filtered_data = anscombe[anscombe.dataset == dataset]\n",
      "    mod = smf.ols(formula='y ~ x', data=filtered_data)\n",
      "    res = mod.fit()\n",
      "    return res.rsquared\n",
      "    \n",
      "print(rsquared_fit(\"I\"))\n",
      "print(rsquared_fit(\"II\"))\n",
      "print(rsquared_fit(\"III\"))\n",
      "print(rsquared_fit(\"IV\"))"
     ],
     "language": "python",
     "metadata": {},
     "outputs": [
      {
       "output_type": "stream",
       "stream": "stdout",
       "text": [
        "0.666542459509\n",
        "0.666242033727\n",
        "0.666324041067\n",
        "0.666707256898\n"
       ]
      }
     ],
     "prompt_number": 14
    },
    {
     "cell_type": "markdown",
     "metadata": {},
     "source": [
      "Practically identical! these 4 datasets seem to have the same statistical properties.\n",
      "\n",
      "Let's investigate them visually"
     ]
    },
    {
     "cell_type": "code",
     "collapsed": false,
     "input": [
      "import seaborn as sns\n",
      "%matplotlib inline\n",
      "\n",
      "sns.lmplot(\"x\", \"y\", col=\"dataset\", hue=\"dataset\", data=anscombe,\n",
      "           col_wrap=2, ci=None, palette=\"muted\", size=4,\n",
      "           scatter_kws={\"s\": 50, \"alpha\": 1})"
     ],
     "language": "python",
     "metadata": {},
     "outputs": [
      {
       "metadata": {},
       "output_type": "pyout",
       "prompt_number": 17,
       "text": [
        "<seaborn.axisgrid.FacetGrid at 0xa7c46bcc>"
       ]
      },
      {
       "metadata": {},
       "output_type": "display_data",
       "png": "[encoded data removed]",
       "text": [
        "<matplotlib.figure.Figure at 0xa7c727ac>"
       ]
      }
     ],
     "prompt_number": 17
    },
    {
     "cell_type": "markdown",
     "metadata": {},
     "source": [
      "Clearly these 4 datasets do are not all well represented by a linear model! Good thing we can look at them visually.\n",
      "\n",
      "> Edward Tufte uses this example from Anscombe to show 4 datasets of x and y that have the same mean, standard deviation, and regression line, but which are qualitatively different.\n",
      "\n",
      "Moreover, we can actually play with the options available in [seaborn](http://web.stanford.edu/~mwaskom/software/seaborn/index.html)."
     ]
    },
    {
     "cell_type": "markdown",
     "metadata": {},
     "source": [
      "**Class Exercise**: We managed to add the regression line, but what if we wanted confidence intervals? Or to color an outlying point?"
     ]
    },
    {
     "cell_type": "code",
     "collapsed": false,
     "input": [],
     "language": "python",
     "metadata": {},
     "outputs": []
    },
    {
     "cell_type": "code",
     "collapsed": false,
     "input": [],
     "language": "python",
     "metadata": {},
     "outputs": []
    },
    {
     "cell_type": "markdown",
     "metadata": {},
     "source": [
      "##data visualization\n",
      "- A mapping of data properties to visual properties \n",
      "- Data properties are usually numerical or categorical \n",
      "- Visual properties can be (x,y) coordinates, colors, sizes, shapes, heights, etc"
     ]
    },
    {
     "cell_type": "markdown",
     "metadata": {},
     "source": [
      "##other potential layers\n",
      "1. Statistical Transformations (stat)\n",
      "    - smoothing, binning in a histogram, regression lines,...\n",
      "2. Facets to create lattices of plots\n",
      "    - ex: plot each patient individually\n",
      "3. A coordinate system (cartesian coordinates, log coordinates, polar coordinates, map projections, \u2026\n",
      "4. Scales (adjust size scales, color scales, etc) "
     ]
    },
    {
     "cell_type": "markdown",
     "metadata": {},
     "source": [
      "##A Layered Grammar of Graphics \n",
      "ggplot graphics consist of at least 3 elements: \n",
      "1. Data, in a data frame \n",
      "2. Aesthetic mapping (aes) describing how variables in \n",
      "the data frame are mapped to graphical attributes \n",
      " color, shape, scale, x-y axes, subset groupings\u2026 \n",
      "3. Geometric objects (geoms) determine how values are \n",
      "rendered graphically\n",
      "    - points, lines, boxplots, bars, polygons, \u2026 \n",
      "4. (optional) Position Adjustment\n",
      "\n",
      "See [original paper here](http://vita.had.co.nz/papers/layered-grammar.pdf)"
     ]
    },
    {
     "cell_type": "markdown",
     "metadata": {},
     "source": [
      "##ggplot\n",
      "[ggplot2](http://ggplot2.org/), by Hadley Wickham\n",
      "> \u201cggplot2 is a plotting system for R, based on the grammar of graphics, which tries to take the good parts of base and lattice graphics and none of the bad parts. It takes care of many of the fiddly details that make plotting a hassle (like drawing legends) as well as providing a powerful model of graphics that makes it easy to produce complex multi-layered graphics.\u201d\n",
      "\n",
      "[ggplot for Python](http://blog.yhathq.com/posts/ggplot-for-python.html), by *Yhat*\n",
      ">It's an extremely un-pythonic package for doing exactly what ggplot2 does. The goal of the package is to mimic the ggplot2 API. This makes it super easy for people coming over from R to use, and prevents you from having to re-learn how to plot stuff."
     ]
    },
    {
     "cell_type": "markdown",
     "metadata": {},
     "source": [
      "Let's look at one of the datasets in Anscombe's quartet again but in [ggplot](https://github.com/yhat/ggplot) instead."
     ]
    },
    {
     "cell_type": "code",
     "collapsed": false,
     "input": [
      "from ggplot import *\n",
      "ggplot(aes(x = \"x\", y = \"y\"), data=anscombe) + \\\n",
      "       geom_point()"
     ],
     "language": "python",
     "metadata": {},
     "outputs": [
      {
       "metadata": {},
       "output_type": "display_data",
       "png": "[encoded data removed]",
       "text": [
        "<matplotlib.figure.Figure at 0xa767aaec>"
       ]
      },
      {
       "metadata": {},
       "output_type": "pyout",
       "prompt_number": 18,
       "text": [
        "<ggplot: (-899798126)>"
       ]
      }
     ],
     "prompt_number": 18
    },
    {
     "cell_type": "markdown",
     "metadata": {},
     "source": [
      "Let's parse this command.\n",
      "\n",
      "    data = anscombe\n",
      "\n",
      "the aesthetic mappings are specified using aes()\n",
      "\n",
      " - `x = \"x\"` maps the column 'x' to the x position\n",
      " - `y = \"y\"` maps the column 'y' to the y position\n",
      "\n",
      "then we tell ggplot what geometric objects to put in the plot!\n",
      "\n",
      " - Could use bars, lines, points, or something else."
     ]
    },
    {
     "cell_type": "code",
     "collapsed": false,
     "input": [
      "# Just to see that we could have made a line graph just as easily:\n",
      "ggplot(aes(x = \"x\", y = \"y\"), data=anscombe) + \\\n",
      "       geom_line()"
     ],
     "language": "python",
     "metadata": {},
     "outputs": [
      {
       "metadata": {},
       "output_type": "display_data",
       "png": "[encoded data removed]",
       "text": [
        "<matplotlib.figure.Figure at 0xa716996c>"
       ]
      },
      {
       "metadata": {},
       "output_type": "pyout",
       "prompt_number": 20,
       "text": [
        "<ggplot: (-898537090)>"
       ]
      }
     ],
     "prompt_number": 20
    },
    {
     "cell_type": "code",
     "collapsed": false,
     "input": [
      "# Add a title to the plot\n",
      "ggplot(aes(x = \"x\", y = \"y\"), data=anscombe) + \\\n",
      "       geom_point() + \\\n",
      "       ggtitle(\"Anscombe's Quartet\") + \\\n",
      "       xlab(\"x\") + \\\n",
      "       ylab(\"y\")"
     ],
     "language": "python",
     "metadata": {},
     "outputs": [
      {
       "metadata": {},
       "output_type": "display_data",
       "png": "[encoded data removed]",
       "text": [
        "<matplotlib.figure.Figure at 0xa6ffba8c>"
       ]
      },
      {
       "metadata": {},
       "output_type": "pyout",
       "prompt_number": 27,
       "text": [
        "<ggplot: (-898546094)>"
       ]
      }
     ],
     "prompt_number": 27
    },
    {
     "cell_type": "code",
     "collapsed": false,
     "input": [
      "# Options within the point geometry: color, shape, size\n",
      "ggplot(aes(x = \"x\", y = \"y\"), data=anscombe) + \\\n",
      "       geom_point(color = \"blue\") + \\\n",
      "       ggtitle(\"Anscombe's Quartet\") + \\\n",
      "       xlab(\"x\") + \\\n",
      "       ylab(\"y\")"
     ],
     "language": "python",
     "metadata": {},
     "outputs": [
      {
       "metadata": {},
       "output_type": "display_data",
       "png": "[encoded data removed]",
       "text": [
        "<matplotlib.figure.Figure at 0xa70091cc>"
       ]
      },
      {
       "metadata": {},
       "output_type": "pyout",
       "prompt_number": 28,
       "text": [
        "<ggplot: (-898627116)>"
       ]
      }
     ],
     "prompt_number": 28
    },
    {
     "cell_type": "code",
     "collapsed": false,
     "input": [
      "ggplot(aes(x = \"x\", y = \"y\", color=\"dataset\"), data=anscombe) + \\\n",
      "       geom_point() + \\\n",
      "       ggtitle(\"Anscombe's Quartet\") + \\\n",
      "       xlab(\"x\") + \\\n",
      "       ylab(\"y\")"
     ],
     "language": "python",
     "metadata": {},
     "outputs": [
      {
       "metadata": {},
       "output_type": "display_data",
       "png": "[encoded data removed]",
       "text": [
        "<matplotlib.figure.Figure at 0xa7146f4c>"
       ]
      },
      {
       "metadata": {},
       "output_type": "pyout",
       "prompt_number": 29,
       "text": [
        "<ggplot: (-898546044)>"
       ]
      }
     ],
     "prompt_number": 29
    },
    {
     "cell_type": "code",
     "collapsed": false,
     "input": [
      "ggplot(aes(x = \"x\", y = \"y\", color=\"dataset\"), data=anscombe) + \\\n",
      "       geom_point() + \\\n",
      "       facet_wrap(\"dataset\")"
     ],
     "language": "python",
     "metadata": {},
     "outputs": [
      {
       "metadata": {},
       "output_type": "display_data",
       "png": "[encoded data removed]",
       "text": [
        "<matplotlib.figure.Figure at 0xa7634cac>"
       ]
      },
      {
       "metadata": {},
       "output_type": "pyout",
       "prompt_number": 26,
       "text": [
        "<ggplot: (-898079256)>"
       ]
      }
     ],
     "prompt_number": 26
    },
    {
     "cell_type": "markdown",
     "metadata": {},
     "source": [
      "This is the ggplot difference: you build different types of graphs by building on the same commands. No need to learn one set of commands for bar graphs and another set of commands for line graphs, etc.\n",
      "\n",
      "Here we just want a straightforward scatterplot, so the \"geom\" we add is points. Note that the syntax for doing this is simply a + sign."
     ]
    },
    {
     "cell_type": "markdown",
     "metadata": {},
     "source": [
      "##Exercise\n",
      "Your turn! Do your own scatterplot! Let's use the iris dataset *(remember this from Intro R lecture in the clustering section)*"
     ]
    },
    {
     "cell_type": "markdown",
     "metadata": {},
     "source": [
      "1) Plot sepal length vs. petal length in a scatterplot and title the graph"
     ]
    },
    {
     "cell_type": "code",
     "collapsed": false,
     "input": [],
     "language": "python",
     "metadata": {},
     "outputs": []
    },
    {
     "cell_type": "markdown",
     "metadata": {},
     "source": [
      "1a) Let's color the points based on species.\n",
      "\n",
      "We need to add this within the aesthetic, because we are mapping a data property to a visual property. There are two ways to do this."
     ]
    },
    {
     "cell_type": "code",
     "collapsed": false,
     "input": [
      "# First way: within the aesthetic of the entire plot\n",
      "ggplot(iris, aes(x = Petal.Length, y = Sepal.Length, color = Species)) + \n",
      "  ggtitle(\"Iris Data\") + geom_point()"
     ],
     "language": "python",
     "metadata": {},
     "outputs": []
    },
    {
     "cell_type": "code",
     "collapsed": false,
     "input": [
      "# Second way: within the aesthetic of the points\n",
      "ggplot(iris, aes(x = Petal.Length, y = Sepal.Length)) + \n",
      "  ggtitle(\"Iris Data\") + geom_point(aes(color = Species))"
     ],
     "language": "python",
     "metadata": {},
     "outputs": []
    },
    {
     "cell_type": "markdown",
     "metadata": {},
     "source": [
      "In this case, the two ways give exactly the same results. However, by adding it to the point aesthetic, you override any of the general plot aesthetics, but just for points."
     ]
    },
    {
     "cell_type": "markdown",
     "metadata": {},
     "source": [
      "1b) Consider the two ways again, but this time where we give different color commands within the general plot aesthetic and the point aesthetic:"
     ]
    },
    {
     "cell_type": "code",
     "collapsed": false,
     "input": [
      "# First way: within the plot aesthetic:\n",
      "ggplot(iris, aes(x = Petal.Length, y = Sepal.Length, color = Species)) + \n",
      "  ggtitle(\"Iris Data\") + geom_point(color = \"blue\")"
     ],
     "language": "python",
     "metadata": {},
     "outputs": []
    },
    {
     "cell_type": "code",
     "collapsed": false,
     "input": [
      "# Second way: within the point aesthetic:\n",
      "ggplot(iris, aes(x = Petal.Length, y = Sepal.Length, color = \"blue\")) + \n",
      "  ggtitle(\"Iris Data\") + geom_point(aes(color = Species))"
     ],
     "language": "python",
     "metadata": {},
     "outputs": []
    },
    {
     "cell_type": "markdown",
     "metadata": {},
     "source": [
      "Important distinction when we want to add additional layers to the plot *(could be lines, shapes, sizes, or even points from another dataset)*\n",
      "\n",
      "How was the clustering algorithm in lecture 1 able to tell the difference between versicolor (green) and virginica (blue)? We have not plotted all the dimensions of this data on this graph..."
     ]
    },
    {
     "cell_type": "markdown",
     "metadata": {},
     "source": [
      "2) Change the size of points, by Petal.Width"
     ]
    },
    {
     "cell_type": "code",
     "collapsed": false,
     "input": [
      "ggplot(iris, aes(x = Petal.Length, y = Sepal.Length)) + \n",
      "  ggtitle(\"Iris Data\") + geom_point(aes(color = Species, size = Petal.Width))"
     ],
     "language": "python",
     "metadata": {},
     "outputs": []
    },
    {
     "cell_type": "markdown",
     "metadata": {},
     "source": [
      "Very cool! now we see how the clustering algorithm was able to pick out all 3 clusters. But maybe there are some green points hiding there under the blue ones.\n",
      "\n",
      "Let's adjust the transparency with the \"alpha\" parameter"
     ]
    },
    {
     "cell_type": "code",
     "collapsed": false,
     "input": [
      "ggplot(iris, aes(x = Petal.Length, y = Sepal.Length)) + \n",
      "  ggtitle(\"Iris Data\") + geom_point(aes(color = Species, size = Petal.Width, alpha = 0.6))"
     ],
     "language": "python",
     "metadata": {},
     "outputs": []
    },
    {
     "cell_type": "markdown",
     "metadata": {},
     "source": [
      "Fantastic, we have seen that it's important to explore your data before you model. We've looked at simple x-y datasets that you might want to use for linear regression, and data that you might be trying to cluster. What other types of data might you want to explore?"
     ]
    },
    {
     "cell_type": "markdown",
     "metadata": {},
     "source": [
      "##graphics in matplotlib vs ggplot\n",
      "- In matplotlib, each mapping of data properties to visual properties is its own special case \n",
      "- Graphics composed of simple elements like points, lines \n",
      "- Difficult to add elements to existing plots \n",
      "- In ggplot, the mapping of data properties to visual properties is done by adding layers to the plot, starting with the raw data "
     ]
    },
    {
     "cell_type": "markdown",
     "metadata": {},
     "source": [
      "#Plotting Geospatial Data in Python\n",
      "Various libraries available:\n",
      "- [vincent](https://github.com/wrobstory/vincent)\n",
      "- [seaborn](https://github.com/mwaskom/seaborn)\n",
      "- [folium](https://github.com/wrobstory/folium)\n",
      "- [basemap](http://matplotlib.org/basemap/users/examples.html)\n",
      "- [matplotlib](http://matplotlib.org/) + [mplleaflet](https://github.com/jwass/mplleaflet)"
     ]
    },
    {
     "cell_type": "markdown",
     "metadata": {},
     "source": [
      "##hubwaydatachallenge\n",
      "Let's take a look at map data! Using latitude and longitude info from the Hubway data, let's draw a map of Boston and put all of the Hubway stations on it\n",
      "\n",
      "- do Hubway cyclists only ride downhill? \n",
      "- are all Hubway rentals after 2 am only by people under 25? \n",
      "- how do weekday and weekend patterns differ?\n",
      "\n",
      "*finish class with our own version of hubway visualization challenge!*"
     ]
    },
    {
     "cell_type": "code",
     "collapsed": false,
     "input": [
      "# let's draw a map of Boston and put all of the Hubway stations on it\n",
      "\n",
      "library(ggmap)\n",
      "boston <- get_map(location = \"boston\", zoom = 13)\n",
      "ggmap(boston)"
     ],
     "language": "python",
     "metadata": {},
     "outputs": []
    },
    {
     "cell_type": "code",
     "collapsed": false,
     "input": [
      "# load in the hubway data from last class\n",
      "stations = read.csv(\"stations.csv\", stringsAsFactors=FALSE)\n",
      "trips = read.csv(\"trips.csv\", stringsAsFactors=FALSE)\n",
      "\n",
      "# time-consuming to work with entire trips dataset, so let's take a random sample\n",
      "set.seed(1)\n",
      "indices = sample(nrow(trips), size = 50000)\n",
      "trips = trips[indices,]\n",
      "\n",
      "trips$duration[trips$duration > 10000] = 10000 #cut off trips > 10000 seconds\n",
      "trips$start_date = strptime(trips$start_date, \"%Y-%m-%d %H:%M:%S\")\n",
      "trips$end_date = strptime(trips$end_date, \"%Y-%m-%d %H:%M:%S\")"
     ],
     "language": "python",
     "metadata": {},
     "outputs": []
    },
    {
     "cell_type": "code",
     "collapsed": false,
     "input": [
      "# Let's put the Hubway stations on the map\n",
      "ggmap(boston) + geom_point(data = stations, aes(x = lng, y = lat))"
     ],
     "language": "python",
     "metadata": {},
     "outputs": []
    },
    {
     "cell_type": "code",
     "collapsed": false,
     "input": [
      "# let's label the stations\n",
      "ggmap(boston) +  geom_point(data = stations, aes(x = lng, y = lat)) + \n",
      "  geom_text(data = stations, aes(x = lng, y = lat, label = name, size = 3))\n"
     ],
     "language": "python",
     "metadata": {},
     "outputs": []
    },
    {
     "cell_type": "code",
     "collapsed": false,
     "input": [
      "# messy! but easier to read when you zoom in."
     ],
     "language": "python",
     "metadata": {},
     "outputs": []
    },
    {
     "cell_type": "markdown",
     "metadata": {},
     "source": [
      "Exercise 3: Plot the Hubway stations on a map of Boston, but change the station size to be relative to the total number of trips out of the station. \n",
      "*Hint: create a frequency table of trips by start station. Turn this into a data frame. Merge the frequency data frame and station data frame."
     ]
    },
    {
     "cell_type": "code",
     "collapsed": false,
     "input": [
      "# Solution:\n",
      "start_df = as.data.frame(table(trips$start_station))\n",
      "names(start_df) = c(\"id\", \"freq\")\n",
      "merged = merge(stations, start_df, by = \"id\")\n",
      "ggmap(boston) + geom_point(data = merged, aes(x = lng, y = lat, size = freq))"
     ],
     "language": "python",
     "metadata": {},
     "outputs": []
    },
    {
     "cell_type": "markdown",
     "metadata": {},
     "source": [
      "Moving on from maps! suppose we wanted to explore ridership by time of day and day of week. One way we could do this is by making a histogram."
     ]
    },
    {
     "cell_type": "code",
     "collapsed": false,
     "input": [
      "# histograms plot data on intervals like this: [,)\n",
      "# Here is a histogram of ridership by time of day:\n",
      "ggplot(data = trips, aes(x = start_date$hour)) + \n",
      "  geom_histogram(binwidth = 1)"
     ],
     "language": "python",
     "metadata": {},
     "outputs": []
    },
    {
     "cell_type": "markdown",
     "metadata": {},
     "source": [
      "This is a great time to talk about the difference between color and fill"
     ]
    },
    {
     "cell_type": "code",
     "collapsed": false,
     "input": [
      "ggplot(data = trips, aes(x = start_date$hour)) + \n",
      "  geom_histogram(binwidth = 1, color = \"black\", fill = \"light blue\")"
     ],
     "language": "python",
     "metadata": {},
     "outputs": []
    },
    {
     "cell_type": "markdown",
     "metadata": {},
     "source": [
      "This is the aggregated histogram. What if we want one for every day of the week?\n",
      "\n",
      "We can plot a separate histogram for each day of the week using the `facet` command."
     ]
    },
    {
     "cell_type": "code",
     "collapsed": false,
     "input": [
      "# 1st need to add a column to the trips dataset specifically with day of the week\n",
      "trips$weekday = trips$start_date$wday"
     ],
     "language": "python",
     "metadata": {},
     "outputs": []
    },
    {
     "cell_type": "code",
     "collapsed": false,
     "input": [
      "# now can use facets\n",
      "ggplot(data = trips, aes(x = start_date$hour)) + \n",
      "  geom_histogram(binwidth = 1, color = \"black\", fill = \"light blue\") + facet_grid(weekday ~ .)"
     ],
     "language": "python",
     "metadata": {},
     "outputs": []
    },
    {
     "cell_type": "code",
     "collapsed": false,
     "input": [
      "# lay out the histograms horizontally instead\n",
      "ggplot(data = trips, aes(x = start_date$hour)) + \n",
      "  geom_histogram(binwidth = 1, color = \"black\", fill = \"light blue\") + facet_grid(. ~ weekday)"
     ],
     "language": "python",
     "metadata": {},
     "outputs": []
    },
    {
     "cell_type": "markdown",
     "metadata": {},
     "source": [
      "Exercise 4: plot a histogram of trip length. Make bin size 10 minutes long. Facet it by subscription type. What do you notice?"
     ]
    },
    {
     "cell_type": "code",
     "collapsed": false,
     "input": [
      "# Solution: \n",
      "ggplot(data = trips, aes(x = duration)) + \n",
      "  geom_histogram(binwidth = 600) + \n",
      "  facet_grid(subscription_type~.)"
     ],
     "language": "python",
     "metadata": {},
     "outputs": []
    },
    {
     "cell_type": "code",
     "collapsed": false,
     "input": [
      "# An alternative to faceting: let's overlay these histograms on top of each other\n",
      "ggplot(data = trips, aes(x = duration, fill = subscription_type)) + \n",
      "  geom_histogram(binwidth = 600)"
     ],
     "language": "python",
     "metadata": {},
     "outputs": []
    },
    {
     "cell_type": "code",
     "collapsed": false,
     "input": [
      "# but these are stacked! to overlay, need to include position = \"identity\". Don't forget\n",
      "# to make it semi-transparent using the alpha parameter.\n",
      "ggplot(data = trips, aes(x = duration, fill = subscription_type)) + \n",
      "  geom_histogram(binwidth = 600, position = \"identity\", alpha = 0.5) "
     ],
     "language": "python",
     "metadata": {},
     "outputs": []
    },
    {
     "cell_type": "markdown",
     "metadata": {},
     "source": [
      "Histograms are great, but they are a 1-dimensional exploration. In order to see time of day and day of week, we needed to plot 7 different time-of-day histograms.\n",
      "\n",
      "Heatmaps are an alternative way to do 2-dimensional data exploration: we can see time of day and day of week on the same plot."
     ]
    },
    {
     "cell_type": "code",
     "collapsed": false,
     "input": [
      "# First we need to reshape the data so that for every day of the week and \n",
      "# every hour of the day, we have the number of trips\n",
      "weekday_timeday = as.data.frame(table(trips$weekday, trips$start_date$hour))\n",
      "str(weekday_timeday)"
     ],
     "language": "python",
     "metadata": {},
     "outputs": []
    },
    {
     "cell_type": "code",
     "collapsed": false,
     "input": [
      "#Now we can plot this as a heatmap\n",
      "ggplot(weekday_timeday, aes(x = Var2, y = Var1, fill = Freq)) + geom_tile()"
     ],
     "language": "python",
     "metadata": {},
     "outputs": []
    },
    {
     "cell_type": "code",
     "collapsed": false,
     "input": [
      "# Let's save this to a variable. We will come back to it later when we are talking about\n",
      "# color spectrums and how to change them.\n",
      "\n",
      "hubway_heatmap = ggplot(weekday_timeday, aes(x = Var2, y = Var1, fill = Freq)) + geom_tile()"
     ],
     "language": "python",
     "metadata": {},
     "outputs": []
    },
    {
     "cell_type": "markdown",
     "metadata": {},
     "source": [
      "End of section 1! So far, we have:\n",
      "    \n",
      "- talked about why visualization in general, why ggplot in particular\n",
      "- learned how to explore scatterplots, clusters, map data, histograms, heat maps\n",
      "\n",
      "Other visual data explorations we will not explore today could include box plots, cluster dendrograms, time series, networks, etc..."
     ]
    },
    {
     "cell_type": "markdown",
     "metadata": {},
     "source": [
      "# Understand your model"
     ]
    },
    {
     "cell_type": "markdown",
     "metadata": {},
     "source": [
      "Add a regression line! automatically includes a 95% confidence interval\n",
      "\n",
      "use `stat_smooth(method = \"lm\")`\n",
      "\n",
      "*(first time we use `stat`)*"
     ]
    },
    {
     "cell_type": "code",
     "collapsed": false,
     "input": [
      "anscombe_plot + stat_smooth(method = \"lm\")"
     ],
     "language": "python",
     "metadata": {},
     "outputs": []
    },
    {
     "cell_type": "markdown",
     "metadata": {},
     "source": [
      "The \"level\" parameter specifies the confidence interval."
     ]
    },
    {
     "cell_type": "markdown",
     "metadata": {},
     "source": [
      "Exercise 5: draw a 99% confidence interval instead. Make the regression line hot pink and large enough to show up. This should be easy by now!"
     ]
    },
    {
     "cell_type": "code",
     "collapsed": false,
     "input": [
      "# Solution:\n",
      "anscombe_plot + stat_smooth(method = \"lm\", level = 0.99, color = \"hot pink\", size = 2)"
     ],
     "language": "python",
     "metadata": {},
     "outputs": []
    },
    {
     "cell_type": "code",
     "collapsed": false,
     "input": [
      "# no confidence interval\n",
      "anscombe_plot + stat_smooth(method = \"lm\", se = F)"
     ],
     "language": "python",
     "metadata": {},
     "outputs": []
    },
    {
     "cell_type": "markdown",
     "metadata": {},
     "source": [
      "If you don't specify the method, you get a loess curve (locally weighted polynomial). Can also specify other methods: ex) method = \"glm\", family = \"binomial\" for logistic regression\n",
      "\n",
      "If you want to make your own model, can also do this and add it to the plot using `geom_line()`."
     ]
    },
    {
     "cell_type": "markdown",
     "metadata": {},
     "source": [
      "Now suppose we did the clustering of the iris dataset and wanted to plot the convex hull of the points in each cluster"
     ]
    },
    {
     "cell_type": "code",
     "collapsed": false,
     "input": [
      "# Let's bring back the plot of the iris dataset:\n",
      "ggplot(iris, aes(x = Petal.Length, y = Sepal.Length)) + \n",
      "  ggtitle(\"Iris Data\") + geom_point(aes(color = Species, size = Petal.Width, alpha = 0.6))"
     ],
     "language": "python",
     "metadata": {},
     "outputs": []
    },
    {
     "cell_type": "code",
     "collapsed": false,
     "input": [
      "# Run k-means clustering\n",
      "clusterSolution <- kmeans(iris[1:4], centers = 3)"
     ],
     "language": "python",
     "metadata": {},
     "outputs": []
    },
    {
     "cell_type": "code",
     "collapsed": false,
     "input": [
      "# Add a column to the iris data frame indicating which cluster each \n",
      "# data point belongs to\n",
      "iris$whichCluster <- factor(clusterSolution$cluster)"
     ],
     "language": "python",
     "metadata": {},
     "outputs": []
    },
    {
     "cell_type": "markdown",
     "metadata": {},
     "source": [
      "##Identify the convex hull - we will use the split-apply-combine strategy:\n",
      "\n",
      "- Split the data into clusters\n",
      "- Apply a function to find the convex hull of each cluster\n",
      "- Combine the data"
     ]
    },
    {
     "cell_type": "markdown",
     "metadata": {},
     "source": [
      "So let's write a function to find the convex hull of a cluster.\n",
      "\n",
      "Luckily, R has a built-in function `chull()`!"
     ]
    },
    {
     "cell_type": "code",
     "collapsed": false,
     "input": [
      "?chull()"
     ],
     "language": "python",
     "metadata": {},
     "outputs": []
    },
    {
     "cell_type": "code",
     "collapsed": false,
     "input": [
      "# Run chull on the iris data (restricted to 2 dimensions)\n",
      "chull(iris$Sepal.Length, iris$Petal.Length)"
     ],
     "language": "python",
     "metadata": {},
     "outputs": []
    },
    {
     "cell_type": "markdown",
     "metadata": {},
     "source": [
      "`chull()` gives the indices, but we need to tell ggplot which points to connect."
     ]
    },
    {
     "cell_type": "code",
     "collapsed": false,
     "input": [
      "iris[chull(iris$Sepal.Length, iris$Petal.Length),]"
     ],
     "language": "python",
     "metadata": {},
     "outputs": []
    },
    {
     "cell_type": "code",
     "collapsed": false,
     "input": [
      "Let's generalize this and make it a function"
     ],
     "language": "python",
     "metadata": {},
     "outputs": []
    },
    {
     "cell_type": "code",
     "collapsed": false,
     "input": [
      "hull <- function(df){\n",
      "  df[chull(df$Sepal.Length, df$Petal.Length), ]\n",
      "}\n",
      "\n",
      "splitData <- split(iris, iris$whichCluster)\n",
      "appliedData <- lapply(splitData, hull)\n",
      "combinedData <- do.call(rbind, appliedData)"
     ],
     "language": "python",
     "metadata": {},
     "outputs": []
    },
    {
     "cell_type": "code",
     "collapsed": false,
     "input": [
      "#Now let's plot it:\n",
      "ggplot(data = iris, aes(x = Petal.Length, y = Sepal.Length)) + geom_point() +\n",
      "  geom_polygon(data = combinedData, aes(fill = whichCluster), alpha = 0.5) "
     ],
     "language": "python",
     "metadata": {},
     "outputs": []
    },
    {
     "cell_type": "markdown",
     "metadata": {},
     "source": [
      "Note that we keep the point geom but we also include a polygon geom! And the geoms are from different datasets. How cool."
     ]
    },
    {
     "cell_type": "markdown",
     "metadata": {},
     "source": [
      "On to our next type of model output we might want to visualize: the output of logistic regression on a map "
     ]
    },
    {
     "cell_type": "code",
     "collapsed": false,
     "input": [
      "# Map data\n",
      "# other built in maps include county, france, italy, nz, usa, world\n",
      "states_map <- map_data(\"state\")\n",
      "\n",
      "str(states_map)"
     ],
     "language": "python",
     "metadata": {},
     "outputs": []
    },
    {
     "cell_type": "code",
     "collapsed": false,
     "input": [
      "# order = order to connect each point within a group\n",
      "# region = names of states\n",
      "# group = grouping variable for each \"polygon\". In our case a polygon is a state.\n",
      "\n",
      "ggplot(states_map, aes(x = long, y = lat, group = group)) + \n",
      "  geom_polygon(fill = \"white\", color = \"black\") + coord_map(\"mercator\")"
     ],
     "language": "python",
     "metadata": {},
     "outputs": []
    },
    {
     "cell_type": "code",
     "collapsed": false,
     "input": [
      "# Can use various types of projections. Let's see a different one:\n",
      "ggplot(states_map, aes(x = long, y = lat, group = group)) + \n",
      "  geom_polygon(fill = \"white\", color = \"black\") + coord_map(\"polyconic\")"
     ],
     "language": "python",
     "metadata": {},
     "outputs": []
    },
    {
     "cell_type": "code",
     "collapsed": false,
     "input": [
      "# Suppose we want to color this map according to election predictions.\n",
      "\n",
      "polling = read.csv(\"pollData.csv\")       \n",
      "str(polling)\n",
      "\n",
      "# dependent variable: Republican = 1 if republican won state, 0 if Democrat\n",
      "# SurveyUSA: polled R% - polled D%\n",
      "# DiffCount = # polls in that state with R winner - # polls in that state with D winner"
     ],
     "language": "python",
     "metadata": {},
     "outputs": []
    },
    {
     "cell_type": "code",
     "collapsed": false,
     "input": [
      "Train = subset(polling, Year == 2004 | Year == 2008)\n",
      "Test = subset(polling, Year == 2012) \n",
      "str(Train)\n",
      "str(Test) "
     ],
     "language": "python",
     "metadata": {},
     "outputs": []
    },
    {
     "cell_type": "code",
     "collapsed": false,
     "input": [
      "# note that we only have 45 states to test on. we are missing Alaska, Delaware,\n",
      "# Alabama, Wyoming, and Vermont, so these will not appear in our map\n",
      "\n",
      "mod = glm(Republican ~ SurveyUSA + DiffCount, data = Train, family = \"binomial\")\n",
      "TestPrediction = predict(mod, newdata = Test, type = \"response\")"
     ],
     "language": "python",
     "metadata": {},
     "outputs": []
    },
    {
     "cell_type": "code",
     "collapsed": false,
     "input": [
      "# Let's figure out whether we predict Republican or Democrat for each state\n",
      "# by rounding our logistic regression output probabilities as we did in Intro R\n",
      "\n",
      "TestPredictionBinary = as.numeric(TestPrediction > 0.5)"
     ],
     "language": "python",
     "metadata": {},
     "outputs": []
    },
    {
     "cell_type": "code",
     "collapsed": false,
     "input": [
      "# We'll put our prediction data into a data frame:\n",
      "\n",
      "predictiondf = data.frame(TestPrediction, TestPredictionBinary)"
     ],
     "language": "python",
     "metadata": {},
     "outputs": []
    },
    {
     "cell_type": "markdown",
     "metadata": {},
     "source": [
      "We need to merge our prediction data with the map data. Remember that in our Test dataset the State variable has state names capitalized and in the states_map data the region variable has them in lower case.\n",
      "\n",
      "To simplify our merge, let's make them the same:"
     ]
    },
    {
     "cell_type": "code",
     "collapsed": false,
     "input": [
      "predictiondf$region = tolower(Test$State)\n",
      "\n",
      "str(predictiondf)"
     ],
     "language": "python",
     "metadata": {},
     "outputs": []
    },
    {
     "cell_type": "markdown",
     "metadata": {},
     "source": [
      "Now we can merge map data and prediction data, and then use prediction data for fill"
     ]
    },
    {
     "cell_type": "code",
     "collapsed": false,
     "input": [
      "prediction_map = merge(states_map, predictiondf, by= \"region\")\n",
      "str(prediction_map)"
     ],
     "language": "python",
     "metadata": {},
     "outputs": []
    },
    {
     "cell_type": "code",
     "collapsed": false,
     "input": [
      "# need to reorder so that polygons are drawn in the right order\n",
      "prediction_map = prediction_map[order(prediction_map$order),]"
     ],
     "language": "python",
     "metadata": {},
     "outputs": []
    },
    {
     "cell_type": "code",
     "collapsed": false,
     "input": [
      "# plot predictions      \n",
      "ggplot(prediction_map, aes(x = long, y = lat, group = group, fill = TestPredictionBinary))+\n",
      "  geom_polygon(color = \"black\")"
     ],
     "language": "python",
     "metadata": {},
     "outputs": []
    },
    {
     "cell_type": "code",
     "collapsed": false,
     "input": [
      "# Legend has a gradient but there are only two possible outcomes, 0/1\n",
      "# Let's replot with discrete outcomes and with appropriate colors\n",
      "ggplot(prediction_map, aes(x = long, y = lat, group = group, fill = TestPredictionBinary))+\n",
      "  geom_polygon(color = \"black\")+\n",
      "  scale_fill_gradient(low = \"blue\", high = \"red\", guide = \"legend\", breaks= c(0,1))"
     ],
     "language": "python",
     "metadata": {},
     "outputs": []
    },
    {
     "cell_type": "markdown",
     "metadata": {},
     "source": [
      "Exercise 6:\n",
      "    \n",
      "1. plot gradient outcomes according to probabilities.\n",
      "2. Change the legend's title to say \"Prediction 2012\".\n",
      "3. How do you think uncertainty should play a role in designing a visualization?"
     ]
    },
    {
     "cell_type": "code",
     "collapsed": false,
     "input": [
      "# Solution:\n",
      "ggplot(prediction_map, aes(x = long, y = lat, group = group, fill = TestPrediction))+\n",
      "  geom_polygon(color = \"black\") +\n",
      "  scale_fill_gradient(low = \"blue\", high = \"red\",  name = \"Prediction 2012\")"
     ],
     "language": "python",
     "metadata": {},
     "outputs": []
    },
    {
     "cell_type": "markdown",
     "metadata": {},
     "source": [
      "##Concluding remarks:\n",
      "    \n",
      "In this section we have: \n",
      "- add a regression line to a scatterplot\n",
      "- Visualize output of clustering model using the convex hull of points \n",
      "- Plot the output of logistic regression on a map\n",
      "\n",
      "Other models you might wish to understand visually that we won't cover today:\n",
      "- car trees/cart partitions, Markov processes, diagnostic plots for linear regression\n",
      "- branch and bound trees, ..."
     ]
    },
    {
     "cell_type": "markdown",
     "metadata": {},
     "source": [
      "# Make a decision and communicate your findings"
     ]
    },
    {
     "cell_type": "markdown",
     "metadata": {},
     "source": [
      "Without talking about it, we just used scale_fill_gradient in our election map predictions. Let's use it again on our heatmap!"
     ]
    },
    {
     "cell_type": "code",
     "collapsed": false,
     "input": [
      "hubway_heatmap\n",
      "hubway_heatmap + scale_fill_gradient(low = \"white\", high = \"black\")"
     ],
     "language": "python",
     "metadata": {},
     "outputs": []
    },
    {
     "cell_type": "markdown",
     "metadata": {},
     "source": [
      "Can also use predefined color palettes from RColorBrewer (see slides)\n",
      "\n",
      "Use shiny to explore iris dataset interactively: http://spark.rstudio.com/dgrapov/1Dplots/"
     ]
    },
    {
     "cell_type": "markdown",
     "metadata": {},
     "source": [
      "## Remaining time\n",
      "- do your own Hubway Visualization challenge:\n",
      "- design a visualization of some part of the hubway dataset, save it as a pdf and send it to my by email - we'll look at them at the end, if time permits!"
     ]
    },
    {
     "cell_type": "markdown",
     "metadata": {},
     "source": [
      "#Appendix"
     ]
    },
    {
     "cell_type": "markdown",
     "metadata": {},
     "source": [
      "##point shapes in Python\n",
      "<img src=\"img/matplotlib_markers.png\" height=500px, width=500px, align=\"middle\">\n",
      "see: [matplotlib markers](http://matplotlib.org/api/markers_api.html)"
     ]
    },
    {
     "cell_type": "code",
     "collapsed": false,
     "input": [],
     "language": "python",
     "metadata": {},
     "outputs": []
    }
   ],
   "metadata": {}
  }
 ]
}